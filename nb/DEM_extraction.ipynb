{
 "cells": [
  {
   "cell_type": "code",
   "execution_count": 2,
   "metadata": {},
   "outputs": [
    {
     "name": "stderr",
     "output_type": "stream",
     "text": [
      "/home/nilscp/.pyenv/versions/3.8.0/envs/computer-vision/lib/python3.8/site-packages/geopandas/_compat.py:106: UserWarning: The Shapely GEOS version (3.8.0-CAPI-1.13.1 ) is incompatible with the GEOS version PyGEOS was compiled with (3.10.1-CAPI-1.16.0). Conversions between both will be slow.\n",
      "  warnings.warn(\n"
     ]
    }
   ],
   "source": [
    "import sys\n",
    "sys.path.append(\"/home/nilscp/GIT/crater_morphometry\")\n",
    "\n",
    "from preprocessing import DEM_extraction\n",
    "import rasterio as rio\n",
    "\n",
    "# for crater0026 the actual diameter is twice the reported value\n",
    "\n",
    "location_of_craters = \"/home/nilscp/GIT/crater_morphometry/data/rayed_craters/rayed_craters_centroids.shp\"\n",
    "dem = \"/home/nilscp/QGIS/Moon/globalMosaics/Lunar_LRO_LrocKaguya_DEMmerge_60N60S_512ppd.tif\"\n",
    "clip_distance = 8.0\n",
    "output_dir = \"/home/nilscp/tmp/crater/\"\n",
    "craterID = None\n",
    "\n",
    "#DEM_extraction.clip_raster_to_crater(location_of_craters, dem, clip_distance, output_dir, craterID)"
   ]
  },
  {
   "cell_type": "code",
   "execution_count": 4,
   "metadata": {},
   "outputs": [],
   "source": [
    "with rio.open(dem) as src:\n",
    "    meta = src.profile"
   ]
  },
  {
   "cell_type": "code",
   "execution_count": 8,
   "metadata": {},
   "outputs": [
    {
     "data": {
      "text/plain": [
       "'+proj=eqc +lat_ts=0 +lat_0=0 +lon_0=0 +x_0=0 +y_0=0 +R=1737400 +units=m +no_defs=True'"
      ]
     },
     "execution_count": 8,
     "metadata": {},
     "output_type": "execute_result"
    }
   ],
   "source": [
    "meta['crs'].to_proj4()"
   ]
  },
  {
   "cell_type": "code",
   "execution_count": 1,
   "metadata": {},
   "outputs": [],
   "source": [
    "default_eqc = ('PROJCS[\"Moon_Equidistant_Cylindrical\",GEOGCS[\"Moon 2000\",DAT'\n",
    "               'UM[\"D_Moon_2000\",SPHEROID[\"Moon_2000_IAU_IAG\",1737400.0,0.0]]'\n",
    "               ',PRIMEM[\"Greenwich\",0],'\n",
    "               'UNIT[\"Decimal_Degree\",0.0174532925199433]]'\n",
    "               ',PROJECTION[\"Equidistant_Cylindrical\"],'\n",
    "               'PARAMETER[\"False_Easting\",0],'\n",
    "               'PARAMETER[\"False_Northing\",0],'\n",
    "               'PARAMETER[\"Central_Meridian\",180],'\n",
    "               'PARAMETER[\"Standard_Parallel_1\",0],'\n",
    "               'UNIT[\"Meter\",1]]')"
   ]
  },
  {
   "cell_type": "code",
   "execution_count": null,
   "metadata": {},
   "outputs": [],
   "source": [
    "default_eqc.replace('')"
   ]
  }
 ],
 "metadata": {
  "kernelspec": {
   "display_name": "Python 3",
   "language": "python",
   "name": "python3"
  },
  "language_info": {
   "codemirror_mode": {
    "name": "ipython",
    "version": 3
   },
   "file_extension": ".py",
   "mimetype": "text/x-python",
   "name": "python",
   "nbconvert_exporter": "python",
   "pygments_lexer": "ipython3",
   "version": "3.8.0"
  }
 },
 "nbformat": 4,
 "nbformat_minor": 4
}
