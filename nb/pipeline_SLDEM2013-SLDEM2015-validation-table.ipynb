{
 "cells": [
  {
   "cell_type": "code",
   "execution_count": 18,
   "id": "3790a897-5fc5-4d6a-a255-7a37cb913adf",
   "metadata": {},
   "outputs": [],
   "source": [
    "import geopandas as gpd\n",
    "import numpy as np\n",
    "import sys\n",
    "\n",
    "sys.path.append(\"/home/nilscp/GIT/crater_morphometry\")\n",
    "import geomorphometry\n",
    "from preprocessing import DEM_extraction\n",
    "from rim_detection import rim_detection\n",
    "from pathlib import Path\n",
    "\n",
    "sys.path.append(\"/home/nilscp/GIT/\")\n",
    "from rastertools import utils "
   ]
  },
  {
   "cell_type": "code",
   "execution_count": 19,
   "id": "fb6a0764-e5ae-4cb0-85cd-eeaae014cca4",
   "metadata": {},
   "outputs": [],
   "source": [
    "lonlat_crs = ('GEOGCRS[\"Moon 2000\",DATUM[\"D_Moon_2000\",'\n",
    "          'ELLIPSOID[\"Moon_2000_IAU_IAG\",1737400,0,'\n",
    "          'LENGTHUNIT[\"metre\",1,ID[\"EPSG\",9001]]]],'\n",
    "          'PRIMEM[\"Greenwich\",0,'\n",
    "          'ANGLEUNIT[\"Decimal_Degree\",0.0174532925199433]],'\n",
    "          'CS[ellipsoidal,2],AXIS[\"longitude\",east,ORDER[1],'\n",
    "          'ANGLEUNIT[\"Decimal_Degree\",0.0174532925199433]],'\n",
    "          'AXIS[\"latitude\",north,ORDER[2],'\n",
    "          'ANGLEUNIT[\"Decimal_Degree\",0.0174532925199433]]]')\n",
    "\n",
    "eqc = utils.get_raster_crs(\"/media/nilscp/pampa/Kaguya/SLDEM2013/SLDEM2013.vrt\").to_wkt()"
   ]
  },
  {
   "cell_type": "code",
   "execution_count": 20,
   "id": "2a2c34eb-b578-46bc-a940-f85b7fae2ec9",
   "metadata": {},
   "outputs": [
    {
     "data": {
      "text/plain": [
       "'PROJCS[\"SIMPLE_CYLINDRICAL MOON\",GEOGCS[\"GCS_MOON\",DATUM[\"D_MOON\",SPHEROID[\"MOON\",1737400,0]],PRIMEM[\"Reference_Meridian\",0],UNIT[\"degree\",0.0174532925199433,AUTHORITY[\"EPSG\",\"9122\"]]],PROJECTION[\"Equirectangular\"],PARAMETER[\"standard_parallel_1\",0],PARAMETER[\"central_meridian\",0],PARAMETER[\"false_easting\",0],PARAMETER[\"false_northing\",0],UNIT[\"metre\",1,AUTHORITY[\"EPSG\",\"9001\"]],AXIS[\"Easting\",EAST],AXIS[\"Northing\",NORTH]]'"
      ]
     },
     "execution_count": 20,
     "metadata": {},
     "output_type": "execute_result"
    }
   ],
   "source": [
    "eqc"
   ]
  },
  {
   "cell_type": "code",
   "execution_count": 3,
   "id": "c0847c7e-a69e-4836-b876-ff58f1475df4",
   "metadata": {},
   "outputs": [],
   "source": [
    "lon = np.array([-52.38, -36.46, -107.47, -40.33, -10.47, -60.65, -34.28, 17.23, -26.11, -124.01, -6.79, -7.01, -14.71, -44.69, -50.47, -157.29, -82.83, 49.79, 7.79])\n",
    "lat = np.array([-3.47, -12.84, 37.90, 0.94, -14.59, -40.64, 28.50, -33.72, -25.76, -17.08, 59.91, -54.34, 45.98, -12.43, -0.27, 18.30, 21.67, 15.72, 0.47])\n",
    "diam = np.array([3703, 3053, 3208, 2950, 2072, 2069, 2120, 1737, 1875, 1215, 1077, 892, 805, 859, 819, 786, 687, 545, 643])\n",
    "CRATER_ID = np.array([\"crater_Flamsteed_S\", \"crater_Herigonius_K\", \"crater_high_0001\", \"crater_Encke_X\", \"crater_Lassell_D\", \"crater_high_0002\", \"crater_Samir\", \"crater_high_0003\", \"crater_mare_0001\", \"crater_high_0004\", \"crater_mare_0002\", \"crater_high_0005\", \"crater_mare_0003\", \"crater_high_0006\", \"crater_mare_0004\", \"crater_high_0007\", \"crater_high_0008\", \"crater_mare_0005\", \"crater_high_0009\"])"
   ]
  },
  {
   "cell_type": "code",
   "execution_count": 33,
   "id": "49a566cb-6aa4-43fb-8720-892cf591d9d0",
   "metadata": {},
   "outputs": [],
   "source": [
    "gdf = gpd.GeoDataFrame(np.column_stack((lon,lat,diam,CRATER_ID)), columns=[\"lon\",\"lat\", \"diam\", \"CRATER_ID\"],geometry=gpd.points_from_xy(lon,lat,crs=lonlat_crs))"
   ]
  },
  {
   "cell_type": "code",
   "execution_count": 34,
   "id": "e00218a3-1e8f-440d-a37e-552869a54b2e",
   "metadata": {},
   "outputs": [
    {
     "data": {
      "text/plain": [
       "lon            object\n",
       "lat            object\n",
       "diam           object\n",
       "CRATER_ID      object\n",
       "geometry     geometry\n",
       "dtype: object"
      ]
     },
     "execution_count": 34,
     "metadata": {},
     "output_type": "execute_result"
    }
   ],
   "source": [
    "gdf.dtypes"
   ]
  },
  {
   "cell_type": "code",
   "execution_count": 35,
   "id": "13be241c-5149-4de5-952f-84e275d2f3d4",
   "metadata": {},
   "outputs": [],
   "source": [
    "gdf = gdf.astype({'lon': 'float32', 'lat': 'float32', 'diam': 'float32'})"
   ]
  },
  {
   "cell_type": "code",
   "execution_count": 36,
   "id": "2f8ac725-9315-45fe-a517-70ba620aa44b",
   "metadata": {},
   "outputs": [
    {
     "data": {
      "text/html": [
       "<div>\n",
       "<style scoped>\n",
       "    .dataframe tbody tr th:only-of-type {\n",
       "        vertical-align: middle;\n",
       "    }\n",
       "\n",
       "    .dataframe tbody tr th {\n",
       "        vertical-align: top;\n",
       "    }\n",
       "\n",
       "    .dataframe thead th {\n",
       "        text-align: right;\n",
       "    }\n",
       "</style>\n",
       "<table border=\"1\" class=\"dataframe\">\n",
       "  <thead>\n",
       "    <tr style=\"text-align: right;\">\n",
       "      <th></th>\n",
       "      <th>lon</th>\n",
       "      <th>lat</th>\n",
       "      <th>diam</th>\n",
       "      <th>CRATER_ID</th>\n",
       "      <th>geometry</th>\n",
       "    </tr>\n",
       "  </thead>\n",
       "  <tbody>\n",
       "    <tr>\n",
       "      <th>0</th>\n",
       "      <td>-52.380001</td>\n",
       "      <td>-3.470000</td>\n",
       "      <td>3703.0</td>\n",
       "      <td>crater_Flamsteed_S</td>\n",
       "      <td>POINT (-52.38000 -3.47000)</td>\n",
       "    </tr>\n",
       "    <tr>\n",
       "      <th>1</th>\n",
       "      <td>-36.459999</td>\n",
       "      <td>-12.840000</td>\n",
       "      <td>3053.0</td>\n",
       "      <td>crater_Herigonius_K</td>\n",
       "      <td>POINT (-36.46000 -12.84000)</td>\n",
       "    </tr>\n",
       "    <tr>\n",
       "      <th>2</th>\n",
       "      <td>-107.470001</td>\n",
       "      <td>37.900002</td>\n",
       "      <td>3208.0</td>\n",
       "      <td>crater_high_0001</td>\n",
       "      <td>POINT (-107.47000 37.90000)</td>\n",
       "    </tr>\n",
       "    <tr>\n",
       "      <th>3</th>\n",
       "      <td>-40.330002</td>\n",
       "      <td>0.940000</td>\n",
       "      <td>2950.0</td>\n",
       "      <td>crater_Encke_X</td>\n",
       "      <td>POINT (-40.33000 0.94000)</td>\n",
       "    </tr>\n",
       "    <tr>\n",
       "      <th>4</th>\n",
       "      <td>-10.470000</td>\n",
       "      <td>-14.590000</td>\n",
       "      <td>2072.0</td>\n",
       "      <td>crater_Lassell_D</td>\n",
       "      <td>POINT (-10.47000 -14.59000)</td>\n",
       "    </tr>\n",
       "  </tbody>\n",
       "</table>\n",
       "</div>"
      ],
      "text/plain": [
       "          lon        lat    diam            CRATER_ID  \\\n",
       "0  -52.380001  -3.470000  3703.0   crater_Flamsteed_S   \n",
       "1  -36.459999 -12.840000  3053.0  crater_Herigonius_K   \n",
       "2 -107.470001  37.900002  3208.0     crater_high_0001   \n",
       "3  -40.330002   0.940000  2950.0       crater_Encke_X   \n",
       "4  -10.470000 -14.590000  2072.0     crater_Lassell_D   \n",
       "\n",
       "                      geometry  \n",
       "0   POINT (-52.38000 -3.47000)  \n",
       "1  POINT (-36.46000 -12.84000)  \n",
       "2  POINT (-107.47000 37.90000)  \n",
       "3    POINT (-40.33000 0.94000)  \n",
       "4  POINT (-10.47000 -14.59000)  "
      ]
     },
     "execution_count": 36,
     "metadata": {},
     "output_type": "execute_result"
    }
   ],
   "source": [
    "gdf.head(5)"
   ]
  },
  {
   "cell_type": "code",
   "execution_count": 37,
   "id": "4c3af3c1-bb88-41c9-94c2-60636179c373",
   "metadata": {},
   "outputs": [],
   "source": [
    "gdf_eqc = gdf.to_crs(eqc) "
   ]
  },
  {
   "cell_type": "code",
   "execution_count": 38,
   "id": "ced17288-56d2-4453-9a14-184ab0e9649d",
   "metadata": {},
   "outputs": [
    {
     "data": {
      "text/html": [
       "<div>\n",
       "<style scoped>\n",
       "    .dataframe tbody tr th:only-of-type {\n",
       "        vertical-align: middle;\n",
       "    }\n",
       "\n",
       "    .dataframe tbody tr th {\n",
       "        vertical-align: top;\n",
       "    }\n",
       "\n",
       "    .dataframe thead th {\n",
       "        text-align: right;\n",
       "    }\n",
       "</style>\n",
       "<table border=\"1\" class=\"dataframe\">\n",
       "  <thead>\n",
       "    <tr style=\"text-align: right;\">\n",
       "      <th></th>\n",
       "      <th>lon</th>\n",
       "      <th>lat</th>\n",
       "      <th>diam</th>\n",
       "      <th>CRATER_ID</th>\n",
       "      <th>geometry</th>\n",
       "    </tr>\n",
       "  </thead>\n",
       "  <tbody>\n",
       "    <tr>\n",
       "      <th>0</th>\n",
       "      <td>-52.380001</td>\n",
       "      <td>-3.470000</td>\n",
       "      <td>3703.0</td>\n",
       "      <td>crater_Flamsteed_S</td>\n",
       "      <td>POINT (-1588337.095 -105222.026)</td>\n",
       "    </tr>\n",
       "    <tr>\n",
       "      <th>1</th>\n",
       "      <td>-36.459999</td>\n",
       "      <td>-12.840000</td>\n",
       "      <td>3053.0</td>\n",
       "      <td>crater_Herigonius_K</td>\n",
       "      <td>POINT (-1105589.356 -389351.819)</td>\n",
       "    </tr>\n",
       "    <tr>\n",
       "      <th>2</th>\n",
       "      <td>-107.470001</td>\n",
       "      <td>37.900002</td>\n",
       "      <td>3208.0</td>\n",
       "      <td>crater_high_0001</td>\n",
       "      <td>POINT (-3258850.470 1149254.981)</td>\n",
       "    </tr>\n",
       "    <tr>\n",
       "      <th>3</th>\n",
       "      <td>-40.330002</td>\n",
       "      <td>0.940000</td>\n",
       "      <td>2950.0</td>\n",
       "      <td>crater_Encke_X</td>\n",
       "      <td>POINT (-1222940.723 28503.949)</td>\n",
       "    </tr>\n",
       "    <tr>\n",
       "      <th>4</th>\n",
       "      <td>-10.470000</td>\n",
       "      <td>-14.590000</td>\n",
       "      <td>2072.0</td>\n",
       "      <td>crater_Lassell_D</td>\n",
       "      <td>POINT (-317485.479 -442417.683)</td>\n",
       "    </tr>\n",
       "  </tbody>\n",
       "</table>\n",
       "</div>"
      ],
      "text/plain": [
       "          lon        lat    diam            CRATER_ID  \\\n",
       "0  -52.380001  -3.470000  3703.0   crater_Flamsteed_S   \n",
       "1  -36.459999 -12.840000  3053.0  crater_Herigonius_K   \n",
       "2 -107.470001  37.900002  3208.0     crater_high_0001   \n",
       "3  -40.330002   0.940000  2950.0       crater_Encke_X   \n",
       "4  -10.470000 -14.590000  2072.0     crater_Lassell_D   \n",
       "\n",
       "                           geometry  \n",
       "0  POINT (-1588337.095 -105222.026)  \n",
       "1  POINT (-1105589.356 -389351.819)  \n",
       "2  POINT (-3258850.470 1149254.981)  \n",
       "3    POINT (-1222940.723 28503.949)  \n",
       "4   POINT (-317485.479 -442417.683)  "
      ]
     },
     "execution_count": 38,
     "metadata": {},
     "output_type": "execute_result"
    }
   ],
   "source": [
    "gdf_eqc.head(5)"
   ]
  },
  {
   "cell_type": "code",
   "execution_count": 39,
   "id": "7cff4f7b-e848-4b7d-a2dd-672e98845548",
   "metadata": {},
   "outputs": [],
   "source": [
    "gdf_eqc.to_file(\"/media/nilscp/pampa/ANALYSIS/2022/validation/crater_centres/validation_eqc.shp\")"
   ]
  },
  {
   "cell_type": "markdown",
   "id": "6cb6d053-bdd7-437a-9fff-ef76a55bf1d5",
   "metadata": {},
   "source": [
    "## Clip DEM and visible image for coldspots (SLDEM2013)"
   ]
  },
  {
   "cell_type": "code",
   "execution_count": 64,
   "id": "cbebdec5-be62-4dc1-969d-76836f0ab2a1",
   "metadata": {},
   "outputs": [],
   "source": [
    "location_of_craters = \"/media/nilscp/pampa/ANALYSIS/2022/validation/crater_centres/validation_eqc_kaguya_manually_checked.shp\"\n",
    "dem = \"/media/nilscp/pampa/Kaguya/SLDEM2013/SLDEM2013.vrt\"\n",
    "orthoimage = \"/media/nilscp/pampa/Kaguya/TCO_MAP_02/TCO_MAP_02.vrt\"\n",
    "clip_distance = 8.0\n",
    "output_dir = \"/media/nilscp/pampa/ANALYSIS/2022/validation/SLDEM2013/\"\n",
    "output_dir_ortho = \"/media/nilscp/pampa/ANALYSIS/2022/validation/TCOMAP/\"\n",
    "identifier_dem = \"Kaguya_SLDEM2013\"\n",
    "identifier_orthoimage = \"Kaguya_TCOMAP_02\"\n",
    "shp_folder = \"/media/nilscp/pampa/ANALYSIS/2022/validation/shapefiles/SLDEM2013/\""
   ]
  },
  {
   "cell_type": "code",
   "execution_count": 65,
   "id": "8799ca74-11d9-4281-bc7b-aedfb8ad36ab",
   "metadata": {},
   "outputs": [
    {
     "name": "stderr",
     "output_type": "stream",
     "text": [
      "100%|██████████| 19/19 [01:06<00:00,  3.48s/it]\n"
     ]
    }
   ],
   "source": [
    "DEM_extraction.clip_raster_to_crater(location_of_craters, dem, clip_distance, output_dir, shp_folder, identifier_dem, craterID = None)"
   ]
  },
  {
   "cell_type": "code",
   "execution_count": 66,
   "id": "6a488aa1-471f-41a1-9fef-2e51900a670a",
   "metadata": {},
   "outputs": [
    {
     "name": "stderr",
     "output_type": "stream",
     "text": [
      "100%|██████████| 19/19 [00:52<00:00,  2.77s/it]\n"
     ]
    }
   ],
   "source": [
    "DEM_extraction.clip_raster_to_crater(location_of_craters, orthoimage, clip_distance, output_dir_ortho, shp_folder, identifier_orthoimage, craterID = None)"
   ]
  },
  {
   "cell_type": "code",
   "execution_count": 67,
   "id": "7fa527f7-f80b-408a-978c-c914903f3245",
   "metadata": {},
   "outputs": [],
   "source": [
    "location_of_craters = \"/media/nilscp/pampa/ANALYSIS/2022/validation/crater_centres/validation_eqc_manually_checked.shp\"\n",
    "dem = \"/home/nilscp/QGIS/Moon/globalMosaics/Lunar_LRO_LrocKaguya_DEMmerge_60N60S_512ppd.tif\"\n",
    "orthoimage = \"/home/nilscp/QGIS/Moon/globalMosaics/Lunar_LRO_LROC-WAC_Mosaic_global_100m_June2013.tif\"\n",
    "output_dir = \"/media/nilscp/pampa/ANALYSIS/2022/validation/SLDEM2015/\"\n",
    "output_dir_ortho = \"/media/nilscp/pampa/ANALYSIS/2022/validation/WAC/\"\n",
    "identifier_dem = \"SLDEM2015\"\n",
    "identifier_orthoimage = \"WAC\""
   ]
  },
  {
   "cell_type": "code",
   "execution_count": 68,
   "id": "60965f0f-7fda-4796-9b20-b4957aa88cba",
   "metadata": {},
   "outputs": [
    {
     "name": "stderr",
     "output_type": "stream",
     "text": [
      "100%|██████████| 19/19 [00:23<00:00,  1.25s/it]\n"
     ]
    }
   ],
   "source": [
    "DEM_extraction.clip_raster_to_crater(location_of_craters, dem, clip_distance, output_dir, shp_folder, identifier_dem, craterID = None)"
   ]
  },
  {
   "cell_type": "code",
   "execution_count": 69,
   "id": "650ac26e-b094-4bd0-a9b1-31033f48d7d6",
   "metadata": {},
   "outputs": [
    {
     "name": "stderr",
     "output_type": "stream",
     "text": [
      "100%|██████████| 19/19 [00:21<00:00,  1.16s/it]\n"
     ]
    }
   ],
   "source": [
    "DEM_extraction.clip_raster_to_crater(location_of_craters, orthoimage, clip_distance, output_dir_ortho, shp_folder, identifier_orthoimage, craterID = None)"
   ]
  },
  {
   "cell_type": "markdown",
   "id": "fb85b7ef-44ef-4e78-afac-77e2f0f44ad7",
   "metadata": {},
   "source": [
    "## Generate regional (2.0-3.0R) detrended DEM (SLDEM2013, Coldspots craters)"
   ]
  },
  {
   "cell_type": "code",
   "execution_count": 70,
   "id": "68db5172-7bae-43e5-9971-767d80681d24",
   "metadata": {},
   "outputs": [],
   "source": [
    "scaling_factor = 1.0\n",
    "location_of_craters = \"/media/nilscp/pampa/ANALYSIS/2022/validation/crater_centres/validation_eqc_kaguya_manually_checked.shp\"\n",
    "dem_folder = \"/media/nilscp/pampa/ANALYSIS/2022/validation/SLDEM2013/\"\n",
    "shp_folder = \"/media/nilscp/pampa/ANALYSIS/2022/validation/shapefiles/SLDEM2013/\"\n",
    "dem_detrended_folder = \"/media/nilscp/pampa/ANALYSIS/2022/validation/SLDEM2013_detrended/\"\n",
    "craterID = None\n",
    "overwrite=True"
   ]
  },
  {
   "cell_type": "code",
   "execution_count": 71,
   "id": "adcb7f11-32a4-495c-9f8a-8aca55ace4f0",
   "metadata": {},
   "outputs": [
    {
     "name": "stderr",
     "output_type": "stream",
     "text": [
      "100%|██████████| 19/19 [00:24<00:00,  1.28s/it]\n"
     ]
    }
   ],
   "source": [
    "rim_detection.generated_detrended_dem(location_of_craters, scaling_factor, dem_folder, shp_folder, dem_detrended_folder, craterID=craterID, overwrite=overwrite)"
   ]
  },
  {
   "cell_type": "code",
   "execution_count": 72,
   "id": "ed9b32e1-e2e3-4d82-9e1c-92d98a239a3e",
   "metadata": {},
   "outputs": [],
   "source": [
    "scaling_factor = 0.5\n",
    "location_of_craters = \"/media/nilscp/pampa/ANALYSIS/2022/validation/crater_centres/validation_eqc_manually_checked.shp\"\n",
    "dem_folder = \"/media/nilscp/pampa/ANALYSIS/2022/validation/SLDEM2015/\"\n",
    "shp_folder = \"/media/nilscp/pampa/ANALYSIS/2022/validation/shapefiles/SLDEM2015/\"\n",
    "dem_detrended_folder = \"/media/nilscp/pampa/ANALYSIS/2022/validation/SLDEM2015_detrended/\"\n",
    "craterID = None\n",
    "overwrite=True"
   ]
  },
  {
   "cell_type": "code",
   "execution_count": 73,
   "id": "55a36abc-ba97-4958-a8ab-4aa0fa03dd07",
   "metadata": {},
   "outputs": [
    {
     "name": "stderr",
     "output_type": "stream",
     "text": [
      "100%|██████████| 19/19 [00:08<00:00,  2.30it/s]\n"
     ]
    }
   ],
   "source": [
    "rim_detection.generated_detrended_dem(location_of_craters, scaling_factor, dem_folder, shp_folder, dem_detrended_folder, craterID=craterID, overwrite=overwrite)"
   ]
  },
  {
   "cell_type": "markdown",
   "id": "be1dff9a-e4ac-4599-9512-347583cfbe5e",
   "metadata": {},
   "source": [
    "## Detect rim composite, and update the centre of the crater (Coldspots)"
   ]
  },
  {
   "cell_type": "code",
   "execution_count": 52,
   "id": "516d1c73-e3c8-44ae-b0a9-d243dffa1601",
   "metadata": {},
   "outputs": [],
   "source": [
    "#scaling_factor = 1.0\n",
    "suffix = '_SLDEM2015_detrended.tif'"
   ]
  },
  {
   "cell_type": "code",
   "execution_count": 53,
   "id": "79beb078-9016-4ab1-9b2a-ec69fb689f0c",
   "metadata": {},
   "outputs": [
    {
     "name": "stderr",
     "output_type": "stream",
     "text": [
      "  0%|          | 0/19 [00:00<?, ?it/s]/home/nilscp/GIT/crater_morphometry/rim_detection/rim_detection.py:1033: UserWarning: Column names longer than 10 characters will be truncated when saved to ESRI Shapefile.\n",
      "  gdf.to_file(filename)\n",
      "100%|██████████| 19/19 [01:29<00:00,  4.72s/it]\n"
     ]
    }
   ],
   "source": [
    "rim_detection.main(location_of_craters, dem_detrended_folder, shp_folder, suffix, threshold_min=None, threshold_max=None , craterID = None)"
   ]
  },
  {
   "cell_type": "code",
   "execution_count": 60,
   "id": "0eee4db7-9b25-4841-b660-d5c9cd956496",
   "metadata": {},
   "outputs": [],
   "source": [
    "suffix = '_Kaguya_SLDEM2013_detrended.tif'\n",
    "shp_folder = \"/media/nilscp/pampa/ANALYSIS/2022/validation/shapefiles/SLDEM2013/\"\n",
    "dem_detrended_folder = \"/media/nilscp/pampa/ANALYSIS/2022/validation/SLDEM2013_detrended/\""
   ]
  },
  {
   "cell_type": "code",
   "execution_count": 61,
   "id": "1bdb97cc-b048-4c00-bbd9-59524ee68398",
   "metadata": {},
   "outputs": [
    {
     "name": "stderr",
     "output_type": "stream",
     "text": [
      "  0%|          | 0/19 [00:00<?, ?it/s]/home/nilscp/GIT/crater_morphometry/rim_detection/rim_detection.py:1033: UserWarning: Column names longer than 10 characters will be truncated when saved to ESRI Shapefile.\n",
      "  gdf.to_file(filename)\n",
      "100%|██████████| 19/19 [04:37<00:00, 14.60s/it]\n"
     ]
    }
   ],
   "source": [
    "rim_detection.main(location_of_craters, dem_detrended_folder, shp_folder, suffix, threshold_min=None, threshold_max=None , craterID = None)"
   ]
  },
  {
   "cell_type": "markdown",
   "id": "3b498215-0c67-4975-ab0f-ea3824ae4984",
   "metadata": {},
   "source": [
    "## Manual check of results\n",
    "It is important to manually check if the detected rims give meaningful results. If not, the polygon can be deleted, and replace by a manually generated ellipse. This should (hopefully) not happen in many cases for fresh impact structures (<5%). However, this is likely to happen more often for degraded craters (such as the rayed crater dataset, that contains both young and old craters). For completion, we are writing down the id of the crater where a problem is detected, to understand if we can improve the rule-based detection of rim in the future. "
   ]
  },
  {
   "cell_type": "markdown",
   "id": "7e4c89bd-ecb9-41aa-85cd-a78909503f3d",
   "metadata": {},
   "source": [
    "## Update centre of craters\n",
    "- Merge the centres of craters together\n",
    "- Merge the polygons of rim composite together (for a faster inspection of results). I think I will here \n",
    "- If this step is not working properly for a crater, its id is written down (most likely due to too low resolution of the DEM, or very special conditions)"
   ]
  },
  {
   "cell_type": "code",
   "execution_count": 10,
   "id": "7b07520b-12d6-44b5-beca-7076ce1bfa4a",
   "metadata": {},
   "outputs": [],
   "source": [
    "out_shapefile = \"/media/nilscp/pampa/ANALYSIS/2022/validation/crater_centres/validation_eqc_manually_checked.shp\"\n",
    "shp_folder = \"/media/nilscp/pampa/ANALYSIS/2022/validation/shapefiles/SLDEM2015/polygons/\"\n",
    "old_crater_centres = \"/media/nilscp/pampa/ANALYSIS/2022/validation/crater_centres/validation_eqc.shp\""
   ]
  },
  {
   "cell_type": "code",
   "execution_count": null,
   "id": "8ab272d9-1751-48ab-99f5-2eaae3c1df73",
   "metadata": {},
   "outputs": [],
   "source": [
    "out_shapefile = \"/media/nilscp/pampa/ANALYSIS/2022/validation/crater_centres/validation_eqc_kaguya_manually_checked.shp\"\n",
    "shp_folder = \"/media/nilscp/pampa/ANALYSIS/2022/validation/shapefiles/SLDEM2013/polygons/\"\n",
    "old_crater_centres = \"/media/nilscp/pampa/ANALYSIS/2022/validation/crater_centres/validation_eqc_kaguya.shp\""
   ]
  },
  {
   "cell_type": "markdown",
   "id": "a671c798-b64e-4dc5-9303-d8c94dd8f5d3",
   "metadata": {},
   "source": [
    "I have a few issues with the indexing of the pandas and geopandas dataframe.. I have run the line below within python to fix index issues..."
   ]
  },
  {
   "cell_type": "code",
   "execution_count": 11,
   "id": "7d54cbb2-3ab5-4cfb-a4fa-143de75309fd",
   "metadata": {
    "collapsed": true,
    "jupyter": {
     "outputs_hidden": true
    },
    "tags": []
   },
   "outputs": [
    {
     "name": "stderr",
     "output_type": "stream",
     "text": [
      "100%|██████████| 386/386 [04:20<00:00,  1.48it/s]\n"
     ]
    },
    {
     "ename": "KeyError",
     "evalue": "'[405, 428, 432, 444, 582, 585, 638, 644, 664, 689, 700, 777, 856, 893, 905, 907, 919, 960, 962, 992, 1010, 1012, 1016, 1021, 1034, 1049, 1050, 1056, 1089, 1117, 1138, 1141, 1189, 1193, 1235, 1248, 1322, 1328, 1339, 1342, 1348, 1350, 1352, 1357, 1358, 1374, 1381, 1390, 1438, 1449, 1452, 1453, 1476, 1512, 1524, 1525, 1535, 1537, 1538, 1541, 1553, 1574, 1579, 1580, 1581, 1592, 1595, 1599, 1606, 1608, 1616, 1617, 1621, 1627, 1634, 1635, 1638, 1649, 1658, 1661, 1662, 1663, 1668, 1670, 1672, 1675, 1679, 1680, 1686, 1688, 1697, 1701, 1705, 1722, 1724, 1725, 1726, 1727, 1730, 1733, 1734, 1736, 1754, 1760, 1763, 1767, 1770, 1774, 1777, 1778, 1782, 1783, 1801, 1803, 1810, 1811, 1821, 1823, 1829, 1830, 1833, 1840, 1843, 1852, 1853, 1856, 1859, 1863, 1865, 1866, 1867, 1872, 1873, 1877, 1878, 1884, 1886, 1887, 1889, 1891, 1892, 1893, 1901, 1903, 1912, 1916, 1932, 1935, 1936, 1938, 1941, 1943, 1944, 1945, 1946, 1952, 1962, 1968, 1970, 1988, 1999, 2016, 2056, 2058, 2071, 2075, 2077, 2086, 2090, 2092, 2095, 2101, 2103, 2116, 2218, 2126, 2134, 2143, 2149, 2152, 2153, 2156, 2170, 2200, 2205, 2206, 2217, 2219, 2223, 2230, 2256, 2259, 2267, 387, 2277] not in index'",
     "output_type": "error",
     "traceback": [
      "\u001b[0;31m---------------------------------------------------------------------------\u001b[0m",
      "\u001b[0;31mKeyError\u001b[0m                                  Traceback (most recent call last)",
      "\u001b[0;32m<ipython-input-11-af210fd87d61>\u001b[0m in \u001b[0;36m<module>\u001b[0;34m\u001b[0m\n\u001b[0;32m----> 1\u001b[0;31m \u001b[0mrim_detection\u001b[0m\u001b[0;34m.\u001b[0m\u001b[0mupdate_crater_centres\u001b[0m\u001b[0;34m(\u001b[0m\u001b[0mshp_folder\u001b[0m\u001b[0;34m,\u001b[0m \u001b[0mout_shapefile\u001b[0m\u001b[0;34m,\u001b[0m \u001b[0mold_crater_centres\u001b[0m\u001b[0;34m,\u001b[0m \u001b[0mreplace_crs\u001b[0m\u001b[0;34m=\u001b[0m\u001b[0;32mFalse\u001b[0m\u001b[0;34m)\u001b[0m\u001b[0;34m\u001b[0m\u001b[0;34m\u001b[0m\u001b[0m\n\u001b[0m",
      "\u001b[0;32m~/GIT/crater_morphometry/rim_detection/rim_detection.py\u001b[0m in \u001b[0;36mupdate_crater_centres\u001b[0;34m(shp_folder, out_shapefile, old_crater_centres, replace_crs)\u001b[0m\n\u001b[1;32m   1475\u001b[0m         \u001b[0mdf_old_eqc\u001b[0m \u001b[0;34m=\u001b[0m \u001b[0mgdf_old_eqc\u001b[0m\u001b[0;34m[\u001b[0m\u001b[0;34m[\u001b[0m\u001b[0;34m'CRATER_ID'\u001b[0m\u001b[0;34m,\u001b[0m\u001b[0;34m'lon'\u001b[0m\u001b[0;34m,\u001b[0m\u001b[0;34m'lat'\u001b[0m\u001b[0;34m]\u001b[0m\u001b[0;34m]\u001b[0m\u001b[0;34m\u001b[0m\u001b[0;34m\u001b[0m\u001b[0m\n\u001b[1;32m   1476\u001b[0m         \u001b[0mdf_new_eqc\u001b[0m \u001b[0;34m=\u001b[0m \u001b[0mgdf_centroid_eqc\u001b[0m\u001b[0;34m[\u001b[0m\u001b[0;34m[\u001b[0m\u001b[0;34m'CRATER_ID'\u001b[0m\u001b[0;34m,\u001b[0m\u001b[0;34m'lon'\u001b[0m\u001b[0;34m,\u001b[0m\u001b[0;34m'lat'\u001b[0m\u001b[0;34m]\u001b[0m\u001b[0;34m]\u001b[0m\u001b[0;34m\u001b[0m\u001b[0;34m\u001b[0m\u001b[0m\n\u001b[0;32m-> 1477\u001b[0;31m         \u001b[0mdf_old_eqc_sampled\u001b[0m \u001b[0;34m=\u001b[0m \u001b[0mdf_old_eqc\u001b[0m\u001b[0;34m.\u001b[0m\u001b[0mloc\u001b[0m\u001b[0;34m[\u001b[0m\u001b[0mdf_new_eqc\u001b[0m\u001b[0;34m.\u001b[0m\u001b[0mindex\u001b[0m\u001b[0;34m]\u001b[0m\u001b[0;34m\u001b[0m\u001b[0;34m\u001b[0m\u001b[0m\n\u001b[0m\u001b[1;32m   1478\u001b[0m         \u001b[0mgdf_centroid_eqc\u001b[0m\u001b[0;34m[\u001b[0m\u001b[0;34m\"lon\"\u001b[0m\u001b[0;34m]\u001b[0m \u001b[0;34m=\u001b[0m \u001b[0mdf_old_eqc_sampled\u001b[0m\u001b[0;34m[\u001b[0m\u001b[0;34m\"lon\"\u001b[0m\u001b[0;34m]\u001b[0m\u001b[0;34m.\u001b[0m\u001b[0mvalues\u001b[0m\u001b[0;34m\u001b[0m\u001b[0;34m\u001b[0m\u001b[0m\n\u001b[1;32m   1479\u001b[0m         \u001b[0mgdf_centroid_eqc\u001b[0m\u001b[0;34m[\u001b[0m\u001b[0;34m\"lat\"\u001b[0m\u001b[0;34m]\u001b[0m \u001b[0;34m=\u001b[0m \u001b[0mdf_old_eqc_sampled\u001b[0m\u001b[0;34m[\u001b[0m\u001b[0;34m\"lat\"\u001b[0m\u001b[0;34m]\u001b[0m\u001b[0;34m.\u001b[0m\u001b[0mvalues\u001b[0m\u001b[0;34m\u001b[0m\u001b[0;34m\u001b[0m\u001b[0m\n",
      "\u001b[0;32m~/.pyenv/versions/3.8.0/envs/computer-vision/lib/python3.8/site-packages/pandas/core/indexing.py\u001b[0m in \u001b[0;36m__getitem__\u001b[0;34m(self, key)\u001b[0m\n\u001b[1;32m    929\u001b[0m \u001b[0;34m\u001b[0m\u001b[0m\n\u001b[1;32m    930\u001b[0m             \u001b[0mmaybe_callable\u001b[0m \u001b[0;34m=\u001b[0m \u001b[0mcom\u001b[0m\u001b[0;34m.\u001b[0m\u001b[0mapply_if_callable\u001b[0m\u001b[0;34m(\u001b[0m\u001b[0mkey\u001b[0m\u001b[0;34m,\u001b[0m \u001b[0mself\u001b[0m\u001b[0;34m.\u001b[0m\u001b[0mobj\u001b[0m\u001b[0;34m)\u001b[0m\u001b[0;34m\u001b[0m\u001b[0;34m\u001b[0m\u001b[0m\n\u001b[0;32m--> 931\u001b[0;31m             \u001b[0;32mreturn\u001b[0m \u001b[0mself\u001b[0m\u001b[0;34m.\u001b[0m\u001b[0m_getitem_axis\u001b[0m\u001b[0;34m(\u001b[0m\u001b[0mmaybe_callable\u001b[0m\u001b[0;34m,\u001b[0m \u001b[0maxis\u001b[0m\u001b[0;34m=\u001b[0m\u001b[0maxis\u001b[0m\u001b[0;34m)\u001b[0m\u001b[0;34m\u001b[0m\u001b[0;34m\u001b[0m\u001b[0m\n\u001b[0m\u001b[1;32m    932\u001b[0m \u001b[0;34m\u001b[0m\u001b[0m\n\u001b[1;32m    933\u001b[0m     \u001b[0;32mdef\u001b[0m \u001b[0m_is_scalar_access\u001b[0m\u001b[0;34m(\u001b[0m\u001b[0mself\u001b[0m\u001b[0;34m,\u001b[0m \u001b[0mkey\u001b[0m\u001b[0;34m:\u001b[0m \u001b[0mtuple\u001b[0m\u001b[0;34m)\u001b[0m\u001b[0;34m:\u001b[0m\u001b[0;34m\u001b[0m\u001b[0;34m\u001b[0m\u001b[0m\n",
      "\u001b[0;32m~/.pyenv/versions/3.8.0/envs/computer-vision/lib/python3.8/site-packages/pandas/core/indexing.py\u001b[0m in \u001b[0;36m_getitem_axis\u001b[0;34m(self, key, axis)\u001b[0m\n\u001b[1;32m   1151\u001b[0m                     \u001b[0;32mraise\u001b[0m \u001b[0mValueError\u001b[0m\u001b[0;34m(\u001b[0m\u001b[0;34m\"Cannot index with multidimensional key\"\u001b[0m\u001b[0;34m)\u001b[0m\u001b[0;34m\u001b[0m\u001b[0;34m\u001b[0m\u001b[0m\n\u001b[1;32m   1152\u001b[0m \u001b[0;34m\u001b[0m\u001b[0m\n\u001b[0;32m-> 1153\u001b[0;31m                 \u001b[0;32mreturn\u001b[0m \u001b[0mself\u001b[0m\u001b[0;34m.\u001b[0m\u001b[0m_getitem_iterable\u001b[0m\u001b[0;34m(\u001b[0m\u001b[0mkey\u001b[0m\u001b[0;34m,\u001b[0m \u001b[0maxis\u001b[0m\u001b[0;34m=\u001b[0m\u001b[0maxis\u001b[0m\u001b[0;34m)\u001b[0m\u001b[0;34m\u001b[0m\u001b[0;34m\u001b[0m\u001b[0m\n\u001b[0m\u001b[1;32m   1154\u001b[0m \u001b[0;34m\u001b[0m\u001b[0m\n\u001b[1;32m   1155\u001b[0m             \u001b[0;31m# nested tuple slicing\u001b[0m\u001b[0;34m\u001b[0m\u001b[0;34m\u001b[0m\u001b[0;34m\u001b[0m\u001b[0m\n",
      "\u001b[0;32m~/.pyenv/versions/3.8.0/envs/computer-vision/lib/python3.8/site-packages/pandas/core/indexing.py\u001b[0m in \u001b[0;36m_getitem_iterable\u001b[0;34m(self, key, axis)\u001b[0m\n\u001b[1;32m   1091\u001b[0m \u001b[0;34m\u001b[0m\u001b[0m\n\u001b[1;32m   1092\u001b[0m         \u001b[0;31m# A collection of keys\u001b[0m\u001b[0;34m\u001b[0m\u001b[0;34m\u001b[0m\u001b[0;34m\u001b[0m\u001b[0m\n\u001b[0;32m-> 1093\u001b[0;31m         \u001b[0mkeyarr\u001b[0m\u001b[0;34m,\u001b[0m \u001b[0mindexer\u001b[0m \u001b[0;34m=\u001b[0m \u001b[0mself\u001b[0m\u001b[0;34m.\u001b[0m\u001b[0m_get_listlike_indexer\u001b[0m\u001b[0;34m(\u001b[0m\u001b[0mkey\u001b[0m\u001b[0;34m,\u001b[0m \u001b[0maxis\u001b[0m\u001b[0;34m)\u001b[0m\u001b[0;34m\u001b[0m\u001b[0;34m\u001b[0m\u001b[0m\n\u001b[0m\u001b[1;32m   1094\u001b[0m         return self.obj._reindex_with_indexers(\n\u001b[1;32m   1095\u001b[0m             \u001b[0;34m{\u001b[0m\u001b[0maxis\u001b[0m\u001b[0;34m:\u001b[0m \u001b[0;34m[\u001b[0m\u001b[0mkeyarr\u001b[0m\u001b[0;34m,\u001b[0m \u001b[0mindexer\u001b[0m\u001b[0;34m]\u001b[0m\u001b[0;34m}\u001b[0m\u001b[0;34m,\u001b[0m \u001b[0mcopy\u001b[0m\u001b[0;34m=\u001b[0m\u001b[0;32mTrue\u001b[0m\u001b[0;34m,\u001b[0m \u001b[0mallow_dups\u001b[0m\u001b[0;34m=\u001b[0m\u001b[0;32mTrue\u001b[0m\u001b[0;34m\u001b[0m\u001b[0;34m\u001b[0m\u001b[0m\n",
      "\u001b[0;32m~/.pyenv/versions/3.8.0/envs/computer-vision/lib/python3.8/site-packages/pandas/core/indexing.py\u001b[0m in \u001b[0;36m_get_listlike_indexer\u001b[0;34m(self, key, axis)\u001b[0m\n\u001b[1;32m   1312\u001b[0m             \u001b[0mkeyarr\u001b[0m\u001b[0;34m,\u001b[0m \u001b[0mindexer\u001b[0m\u001b[0;34m,\u001b[0m \u001b[0mnew_indexer\u001b[0m \u001b[0;34m=\u001b[0m \u001b[0max\u001b[0m\u001b[0;34m.\u001b[0m\u001b[0m_reindex_non_unique\u001b[0m\u001b[0;34m(\u001b[0m\u001b[0mkeyarr\u001b[0m\u001b[0;34m)\u001b[0m\u001b[0;34m\u001b[0m\u001b[0;34m\u001b[0m\u001b[0m\n\u001b[1;32m   1313\u001b[0m \u001b[0;34m\u001b[0m\u001b[0m\n\u001b[0;32m-> 1314\u001b[0;31m         \u001b[0mself\u001b[0m\u001b[0;34m.\u001b[0m\u001b[0m_validate_read_indexer\u001b[0m\u001b[0;34m(\u001b[0m\u001b[0mkeyarr\u001b[0m\u001b[0;34m,\u001b[0m \u001b[0mindexer\u001b[0m\u001b[0;34m,\u001b[0m \u001b[0maxis\u001b[0m\u001b[0;34m)\u001b[0m\u001b[0;34m\u001b[0m\u001b[0;34m\u001b[0m\u001b[0m\n\u001b[0m\u001b[1;32m   1315\u001b[0m \u001b[0;34m\u001b[0m\u001b[0m\n\u001b[1;32m   1316\u001b[0m         if needs_i8_conversion(ax.dtype) or isinstance(\n",
      "\u001b[0;32m~/.pyenv/versions/3.8.0/envs/computer-vision/lib/python3.8/site-packages/pandas/core/indexing.py\u001b[0m in \u001b[0;36m_validate_read_indexer\u001b[0;34m(self, key, indexer, axis)\u001b[0m\n\u001b[1;32m   1375\u001b[0m \u001b[0;34m\u001b[0m\u001b[0m\n\u001b[1;32m   1376\u001b[0m             \u001b[0mnot_found\u001b[0m \u001b[0;34m=\u001b[0m \u001b[0mlist\u001b[0m\u001b[0;34m(\u001b[0m\u001b[0mensure_index\u001b[0m\u001b[0;34m(\u001b[0m\u001b[0mkey\u001b[0m\u001b[0;34m)\u001b[0m\u001b[0;34m[\u001b[0m\u001b[0mmissing_mask\u001b[0m\u001b[0;34m.\u001b[0m\u001b[0mnonzero\u001b[0m\u001b[0;34m(\u001b[0m\u001b[0;34m)\u001b[0m\u001b[0;34m[\u001b[0m\u001b[0;36m0\u001b[0m\u001b[0;34m]\u001b[0m\u001b[0;34m]\u001b[0m\u001b[0;34m.\u001b[0m\u001b[0munique\u001b[0m\u001b[0;34m(\u001b[0m\u001b[0;34m)\u001b[0m\u001b[0;34m)\u001b[0m\u001b[0;34m\u001b[0m\u001b[0;34m\u001b[0m\u001b[0m\n\u001b[0;32m-> 1377\u001b[0;31m             \u001b[0;32mraise\u001b[0m \u001b[0mKeyError\u001b[0m\u001b[0;34m(\u001b[0m\u001b[0;34mf\"{not_found} not in index\"\u001b[0m\u001b[0;34m)\u001b[0m\u001b[0;34m\u001b[0m\u001b[0;34m\u001b[0m\u001b[0m\n\u001b[0m\u001b[1;32m   1378\u001b[0m \u001b[0;34m\u001b[0m\u001b[0m\n\u001b[1;32m   1379\u001b[0m \u001b[0;34m\u001b[0m\u001b[0m\n",
      "\u001b[0;31mKeyError\u001b[0m: '[405, 428, 432, 444, 582, 585, 638, 644, 664, 689, 700, 777, 856, 893, 905, 907, 919, 960, 962, 992, 1010, 1012, 1016, 1021, 1034, 1049, 1050, 1056, 1089, 1117, 1138, 1141, 1189, 1193, 1235, 1248, 1322, 1328, 1339, 1342, 1348, 1350, 1352, 1357, 1358, 1374, 1381, 1390, 1438, 1449, 1452, 1453, 1476, 1512, 1524, 1525, 1535, 1537, 1538, 1541, 1553, 1574, 1579, 1580, 1581, 1592, 1595, 1599, 1606, 1608, 1616, 1617, 1621, 1627, 1634, 1635, 1638, 1649, 1658, 1661, 1662, 1663, 1668, 1670, 1672, 1675, 1679, 1680, 1686, 1688, 1697, 1701, 1705, 1722, 1724, 1725, 1726, 1727, 1730, 1733, 1734, 1736, 1754, 1760, 1763, 1767, 1770, 1774, 1777, 1778, 1782, 1783, 1801, 1803, 1810, 1811, 1821, 1823, 1829, 1830, 1833, 1840, 1843, 1852, 1853, 1856, 1859, 1863, 1865, 1866, 1867, 1872, 1873, 1877, 1878, 1884, 1886, 1887, 1889, 1891, 1892, 1893, 1901, 1903, 1912, 1916, 1932, 1935, 1936, 1938, 1941, 1943, 1944, 1945, 1946, 1952, 1962, 1968, 1970, 1988, 1999, 2016, 2056, 2058, 2071, 2075, 2077, 2086, 2090, 2092, 2095, 2101, 2103, 2116, 2218, 2126, 2134, 2143, 2149, 2152, 2153, 2156, 2170, 2200, 2205, 2206, 2217, 2219, 2223, 2230, 2256, 2259, 2267, 387, 2277] not in index'"
     ]
    }
   ],
   "source": [
    "rim_detection.update_crater_centres(shp_folder, out_shapefile, old_crater_centres, replace_crs=False)"
   ]
  },
  {
   "cell_type": "markdown",
   "id": "46e6bdcc-669b-47c9-b4d7-929fc8679a01",
   "metadata": {},
   "source": [
    "## Update the DEM, and the 2.0R-3.0R and 0.9R-1.1R detrendings\n",
    "To have the right DEMs"
   ]
  },
  {
   "cell_type": "code",
   "execution_count": 13,
   "id": "0fd36424-1014-4967-b4e5-1200e877e57d",
   "metadata": {},
   "outputs": [],
   "source": [
    "location_of_craters = \"/media/nilscp/pampa/ANALYSIS/2022/shapefiles/ColdSpots/final_crater_center/global/coldspots_larger_than_250m_EQC_manually_checked.shp\"\n",
    "dem = \"/media/nilscp/pampa/Kaguya/SLDEM2013/SLDEM2013.vrt\"\n",
    "orthoimage = \"/media/nilscp/pampa/Kaguya/TCO_MAP_02/TCO_MAP_02.vrt\"\n",
    "clip_distance = 8.0\n",
    "output_dir = \"/media/nilscp/pampa/ANALYSIS/2022/SLDEM2013_ColdSpots/\"\n",
    "output_dir_ortho = \"/media/nilscp/pampa/ANALYSIS/2022/TCOMAP_ColdSpots/\"\n",
    "identifier_dem = \"Kaguya_SLDEM2013\"\n",
    "identifier_orthoimage = \"Kaguya_TCOMAP_02\"\n",
    "shp_folder = \"/media/nilscp/pampa/ANALYSIS/2022/shapefiles/ColdSpots/final_crater_centre/\""
   ]
  },
  {
   "cell_type": "code",
   "execution_count": 14,
   "id": "88b53264-ac81-42d3-9f53-eeea9348e11f",
   "metadata": {},
   "outputs": [
    {
     "name": "stderr",
     "output_type": "stream",
     "text": [
      "100%|██████████| 386/386 [15:00<00:00,  2.33s/it]\n"
     ]
    }
   ],
   "source": [
    "DEM_extraction.clip_raster_to_crater(location_of_craters, dem, clip_distance, output_dir, shp_folder, identifier_dem, craterID = None)"
   ]
  },
  {
   "cell_type": "code",
   "execution_count": 15,
   "id": "13f8e7a5-67f1-48a9-8013-2dfca37f9858",
   "metadata": {},
   "outputs": [
    {
     "name": "stderr",
     "output_type": "stream",
     "text": [
      "100%|██████████| 386/386 [12:46<00:00,  1.98s/it]\n"
     ]
    }
   ],
   "source": [
    "DEM_extraction.clip_raster_to_crater(location_of_craters, orthoimage, clip_distance, output_dir_ortho, shp_folder, identifier_orthoimage, craterID = None)"
   ]
  },
  {
   "cell_type": "code",
   "execution_count": 16,
   "id": "29f94468-befa-440a-91ec-47371e7a3b53",
   "metadata": {},
   "outputs": [],
   "source": [
    "scaling_factor = 1.0\n",
    "dem_folder = \"/media/nilscp/pampa/ANALYSIS/2022/SLDEM2013_ColdSpots/\"\n",
    "dem_detrended_folder = \"/media/nilscp/pampa/ANALYSIS/2022/SLDEM2013_ColdSpots_detrended/\"\n",
    "craterID = None\n",
    "overwrite=True"
   ]
  },
  {
   "cell_type": "code",
   "execution_count": 17,
   "id": "e0b0812f-0a7a-4b7c-a621-16d95475aca4",
   "metadata": {},
   "outputs": [
    {
     "name": "stderr",
     "output_type": "stream",
     "text": [
      "100%|██████████| 386/386 [03:34<00:00,  1.80it/s]\n"
     ]
    }
   ],
   "source": [
    "rim_detection.generated_detrended_dem(location_of_craters, scaling_factor, dem_folder, shp_folder, dem_detrended_folder, craterID=craterID, overwrite=overwrite)"
   ]
  },
  {
   "cell_type": "code",
   "execution_count": null,
   "id": "cdc09d8f-c2fd-476c-8983-30c254969e95",
   "metadata": {},
   "outputs": [],
   "source": []
  },
  {
   "cell_type": "markdown",
   "id": "a41d4110-de18-41f5-9924-a09aa41152ac",
   "metadata": {},
   "source": [
    "## Calculate morphometrical parameters from the second ellipse (of the second run)\n",
    "- load ellipse in pixel coordinates (can also give the possibility to use points and not the ellipse!)\n",
    "- create an ellipse with 2.0 r\n",
    "- I could add the possibility to add manually an ellipse for the few cases where the ellipse is not representing well the rim of the crater"
   ]
  },
  {
   "cell_type": "code",
   "execution_count": null,
   "id": "c16501d8-f3cf-45b7-b469-c08616951d81",
   "metadata": {},
   "outputs": [],
   "source": [
    "location_of_craters = \"/media/nilscp/pampa/ANALYSIS/2022/validation/crater_centres/validation_eqc_manually_checked.shp\"\n",
    "shp_folder = '/media/nilscp/pampa/ANALYSIS/2022/validation/shapefiles/SLDEM2015/polygons'\n",
    "dem_folder = \"/media/nilscp/pampa/ANALYSIS/2022/validation/SLDEM2015_detrended/\"\n",
    "suffix = '_SLDEM2015_detrended.tif'\n",
    "prefix = 'crater'\n",
    "craterID=None"
   ]
  },
  {
   "cell_type": "code",
   "execution_count": null,
   "id": "87704419-3676-4b47-a938-ac9b78f9b2cf",
   "metadata": {},
   "outputs": [],
   "source": [
    "location_of_craters = \"/media/nilscp/pampa/ANALYSIS/2022/validation/crater_centres/validation_eqc_kaguya_manually_checked.shp\"\n",
    "shp_folder = '/media/nilscp/pampa/ANALYSIS/2022/validation/shapefiles/SLDEM2013/polygons'\n",
    "dem_folder = \"/media/nilscp/pampa/ANALYSIS/2022/validation/SLDEM2013_detrended/\"\n",
    "suffix = '_Kaguya_SLDEM2013_detrended.tif'\n",
    "prefix = 'crater'\n",
    "craterID=None"
   ]
  }
 ],
 "metadata": {
  "kernelspec": {
   "display_name": "Python 3",
   "language": "python",
   "name": "python3"
  },
  "language_info": {
   "codemirror_mode": {
    "name": "ipython",
    "version": 3
   },
   "file_extension": ".py",
   "mimetype": "text/x-python",
   "name": "python",
   "nbconvert_exporter": "python",
   "pygments_lexer": "ipython3",
   "version": "3.8.0"
  }
 },
 "nbformat": 4,
 "nbformat_minor": 5
}
