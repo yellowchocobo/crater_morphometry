{
 "cells": [
  {
   "cell_type": "code",
   "execution_count": 1,
   "id": "3790a897-5fc5-4d6a-a255-7a37cb913adf",
   "metadata": {},
   "outputs": [
    {
     "name": "stderr",
     "output_type": "stream",
     "text": [
      "/home/nilscp/.pyenv/versions/3.8.0/envs/computer-vision/lib/python3.8/site-packages/geopandas/_compat.py:106: UserWarning: The Shapely GEOS version (3.8.0-CAPI-1.13.1 ) is incompatible with the GEOS version PyGEOS was compiled with (3.10.1-CAPI-1.16.0). Conversions between both will be slow.\n",
      "  warnings.warn(\n"
     ]
    }
   ],
   "source": [
    "import numpy as np\n",
    "import sys\n",
    "import geopandas as gpd\n",
    "\n",
    "sys.path.append(\"/home/nilscp/GIT/crater_morphometry\")\n",
    "import geomorphometry\n",
    "from preprocessing import DEM_extraction\n",
    "from rim_detection import rim_detection\n",
    "from pathlib import Path\n",
    "\n",
    "sys.path.append(\"/home/nilscp/GIT/\")\n",
    "from rastertools import utils"
   ]
  },
  {
   "cell_type": "markdown",
   "id": "024dba39-6d46-428e-bbfe-5f3155fc26d0",
   "metadata": {},
   "source": [
    "## Clip DEM and visible image for rayed craters (SLDEM2015)"
   ]
  },
  {
   "cell_type": "code",
   "execution_count": 4,
   "id": "78163fc5-320e-4072-83c8-29f58b3567b1",
   "metadata": {},
   "outputs": [],
   "source": [
    "location_of_craters = \"/home/nilscp/QGIS/Moon/Stopar2017/fresh_impact_craters_LUNA24_EQC_filtered.shp\"\n",
    "dem = \"/home/nilscp/QGIS/Moon/NAC_DTM/NAC_DTM_LUNA24.TIF\"\n",
    "orthoimage = \"/home/nilscp/QGIS/Moon/NAC_DTM/NAC_DTM_LUNA24_M144212439_50CM.tiff\"\n",
    "clip_distance = 4.0\n",
    "output_dir = \"/home/nilscp/tmp/NAC_DTM_LUNA24/DTM_clipped/\"\n",
    "output_dir_ortho = \"/home/nilscp/tmp/NAC_DTM_LUNA24/Ortho_clipped/\"\n",
    "identifier_dem = \"NACDTM\"\n",
    "identifier_orthoimage = \"NAC\"\n",
    "shp_folder = \"/home/nilscp/tmp/NAC_DTM_LUNA24/shapefiles/\""
   ]
  },
  {
   "cell_type": "code",
   "execution_count": 5,
   "id": "eaa4b895-5218-45ea-b7ff-2eb03711bd04",
   "metadata": {},
   "outputs": [
    {
     "name": "stderr",
     "output_type": "stream",
     "text": [
      "100%|██████████| 42/42 [00:50<00:00,  1.19s/it]\n"
     ]
    }
   ],
   "source": [
    "DEM_extraction.clip_raster_to_crater(location_of_craters, dem, clip_distance, output_dir, shp_folder, identifier_dem, craterID = None)"
   ]
  },
  {
   "cell_type": "code",
   "execution_count": 6,
   "id": "25d387c8-fe4f-43a7-a15f-227ecf7c1700",
   "metadata": {},
   "outputs": [
    {
     "name": "stderr",
     "output_type": "stream",
     "text": [
      "100%|██████████| 42/42 [00:58<00:00,  1.40s/it]\n"
     ]
    }
   ],
   "source": [
    "DEM_extraction.clip_raster_to_crater(location_of_craters, orthoimage, clip_distance, output_dir_ortho, shp_folder, identifier_orthoimage, craterID = None)"
   ]
  },
  {
   "cell_type": "markdown",
   "id": "241d6232-7107-4f0f-89eb-052451973915",
   "metadata": {},
   "source": [
    "## Generate regional (2.0-3.0R) detrended DEM (SLDEM2015, Rayed craters)"
   ]
  },
  {
   "cell_type": "code",
   "execution_count": 9,
   "id": "744d6d0c-ae18-4133-ba26-c092c0cc6816",
   "metadata": {},
   "outputs": [],
   "source": [
    "location_of_craters = \"/home/nilscp/QGIS/Moon/Stopar2017/fresh_impact_craters_LUNA24_EQC_filtered.shp\"\n",
    "scaling_factor = 1.0\n",
    "dem_folder = \"/home/nilscp/tmp/NAC_DTM_LUNA24/DTM_clipped/\"\n",
    "dem_detrended_folder = \"/home/nilscp/tmp/NAC_DTM_LUNA24/DTM_clipped_detrended/\"\n",
    "craterID = None\n",
    "overwrite = True\n",
    "shp_folder = \"/home/nilscp/tmp/NAC_DTM_LUNA24/shapefiles/\""
   ]
  },
  {
   "cell_type": "code",
   "execution_count": 10,
   "id": "38f365d7-44e4-4c0d-a151-a9ac321eaf8a",
   "metadata": {},
   "outputs": [
    {
     "name": "stderr",
     "output_type": "stream",
     "text": [
      "100%|██████████| 42/42 [00:17<00:00,  2.43it/s]\n"
     ]
    }
   ],
   "source": [
    "rim_detection.generated_detrended_dem(location_of_craters, scaling_factor, dem_folder, shp_folder, dem_detrended_folder, craterID=craterID, overwrite=overwrite)"
   ]
  },
  {
   "cell_type": "markdown",
   "id": "157a2c0a-3b10-4e1e-81b0-5a87e20a3a1f",
   "metadata": {},
   "source": [
    "## The detection of the rim composite, and the following update of the crater centre\n",
    "----\n",
    "#### Note that the algorithm will not work if:\n",
    "- the centre of the crater is outside of the crater of interest\n",
    "- the resolution of the dem is too low (at least 20 cells is required along the crater radius to provide reasonable results <br>\n",
    "----\n",
    "#### It can be that the algorithm work but gives wrong results if:\n",
    "- There are large change in slopes that does not correspond to the actual change in slope associated with the rim (either very close or very far)"
   ]
  },
  {
   "cell_type": "code",
   "execution_count": 11,
   "id": "b9c8536b-1884-44d9-955f-56820496d5b5",
   "metadata": {},
   "outputs": [],
   "source": [
    "dem_folder = \"/home/nilscp/tmp/NAC_DTM_LUNA24/DTM_clipped_detrended/\"\n",
    "shp_folder = \"/home/nilscp/tmp/NAC_DTM_LUNA24/shapefiles/\"\n",
    "suffix = \"_NACDTM_detrended.tif\""
   ]
  },
  {
   "cell_type": "code",
   "execution_count": 12,
   "id": "8146edae-3b60-4de1-ba69-9bee8c85f0b0",
   "metadata": {},
   "outputs": [
    {
     "name": "stderr",
     "output_type": "stream",
     "text": [
      "  0%|          | 0/42 [00:00<?, ?it/s]/home/nilscp/GIT/crater_morphometry/rim_detection/rim_detection.py:1033: UserWarning: Column names longer than 10 characters will be truncated when saved to ESRI Shapefile.\n",
      "  gdf.to_file(filename)\n",
      "100%|██████████| 42/42 [03:14<00:00,  4.63s/it]\n"
     ]
    }
   ],
   "source": [
    "rim_detection.main(location_of_craters, dem_folder, shp_folder, suffix, threshold_min=None, threshold_max=None , craterID = None)"
   ]
  },
  {
   "cell_type": "markdown",
   "id": "7e4c89bd-ecb9-41aa-85cd-a78909503f3d",
   "metadata": {},
   "source": [
    "## Manual check of results\n",
    "It is important to manually check if the detected rims give meaningful results. If not, the polygon can be deleted, and replace by a manually generated ellipse. This should (hopefully) not happen in many cases for fresh impact structures (<5%). However, this is likely to happen more often for degraded craters (such as the rayed crater dataset, that contains both young and old craters). For completion, we are writing down the id of the crater where a problem is detected, to understand if we can improve the rule-based detection of rim in the future. \n",
    "\n",
    "## Update centre of craters\n",
    "- Merge the centres of craters together\n",
    "\n"
   ]
  },
  {
   "cell_type": "code",
   "execution_count": 13,
   "id": "9e08cdc9-b6ee-47e0-a758-8a40b1053fbf",
   "metadata": {},
   "outputs": [],
   "source": [
    "out_shapefile = \"/home/nilscp/tmp/NAC_DTM_LUNA24/shapefiles/final_crater_center/global/fresh_impact_craters_LUNA24_validation_lonlat_manually_checked.shp\"\n",
    "shp_folder = \"/home/nilscp/tmp/NAC_DTM_LUNA24/shapefiles/polygons/\"\n",
    "old_crater_centres = \"/home/nilscp/QGIS/Moon/Stopar2017/fresh_impact_craters_LUNA24_EQC_filtered.shp\""
   ]
  },
  {
   "cell_type": "code",
   "execution_count": 17,
   "id": "7b07520b-12d6-44b5-beca-7076ce1bfa4a",
   "metadata": {},
   "outputs": [],
   "source": [
    "rim_detection.update_crater_centres(shp_folder, out_shapefile, old_crater_centres, replace_crs=False)"
   ]
  },
  {
   "cell_type": "markdown",
   "id": "46e6bdcc-669b-47c9-b4d7-929fc8679a01",
   "metadata": {},
   "source": [
    "## Update the DEM, and the 2.0R-3.0R and 0.9R-1.1R detrendings\n",
    "- decrease clip distance to 4R to divide the size of DEMs by 2 (for SLDEM2015 and SLDEM2013)\n",
    "- could be that the size of the SLDEM2013 could be decreased by moving away from float."
   ]
  },
  {
   "cell_type": "code",
   "execution_count": 17,
   "id": "88b53264-ac81-42d3-9f53-eeea9348e11f",
   "metadata": {},
   "outputs": [],
   "source": [
    "location_of_craters = \"/home/nilscp/tmp/NAC_DTM_LUNA24/shapefiles/final_crater_center/global/fresh_impact_craters_LUNA24_validation_lonlat_manually_checked.shp\"\n",
    "clip_distance = 4.0\n",
    "output_dir = \"/home/nilscp/tmp/NAC_DTM_LUNA24/DTM_clipped/\"\n",
    "output_dir_ortho = \"/home/nilscp/tmp/NAC_DTM_LUNA24/Ortho_clipped/\"\n",
    "identifier_dem = \"NACDTM\"\n",
    "identifier_orthoimage = \"NAC\"\n",
    "shp_folder = \"/home/nilscp/tmp/NAC_DTM_LUNA24/shapefiles/final_crater_center/\""
   ]
  },
  {
   "cell_type": "code",
   "execution_count": 18,
   "id": "d2eb5522-745d-4063-83ec-9bfc60d6503e",
   "metadata": {},
   "outputs": [
    {
     "name": "stderr",
     "output_type": "stream",
     "text": [
      "100%|██████████| 42/42 [00:50<00:00,  1.21s/it]\n"
     ]
    }
   ],
   "source": [
    "DEM_extraction.clip_raster_to_crater(location_of_craters, dem, clip_distance, output_dir, shp_folder, identifier_dem, craterID = None)"
   ]
  },
  {
   "cell_type": "code",
   "execution_count": 19,
   "id": "934af901-0f36-419f-b6d9-b979646cbbcd",
   "metadata": {},
   "outputs": [
    {
     "name": "stderr",
     "output_type": "stream",
     "text": [
      "100%|██████████| 42/42 [01:03<00:00,  1.51s/it]\n"
     ]
    }
   ],
   "source": [
    "DEM_extraction.clip_raster_to_crater(location_of_craters, orthoimage, clip_distance, output_dir_ortho, shp_folder, identifier_orthoimage, craterID = None)"
   ]
  },
  {
   "cell_type": "markdown",
   "id": "02aa0c0f-9b75-4dd9-8d5f-1ca3dc0912a8",
   "metadata": {},
   "source": [
    "## Update the 2.0R-3.0R and 0.9R-1.1R detrendings"
   ]
  },
  {
   "cell_type": "code",
   "execution_count": 20,
   "id": "f5637f0d-e191-461b-b67a-275821d30a2f",
   "metadata": {},
   "outputs": [],
   "source": [
    "scaling_factor = 1.0\n",
    "dem_folder = \"/home/nilscp/tmp/NAC_DTM_LUNA24/DTM_clipped/\"\n",
    "dem_detrended_folder = \"/home/nilscp/tmp/NAC_DTM_LUNA24/DTM_clipped_detrended/\"\n",
    "craterID = None\n",
    "overwrite = True\n",
    "shp_folder = \"/home/nilscp/tmp/NAC_DTM_LUNA24/shapefiles/final_crater_center/\""
   ]
  },
  {
   "cell_type": "code",
   "execution_count": 21,
   "id": "db50c173-9bc1-45d8-906a-ce9a9e48de8b",
   "metadata": {},
   "outputs": [
    {
     "name": "stderr",
     "output_type": "stream",
     "text": [
      "100%|██████████| 42/42 [00:15<00:00,  2.71it/s]\n"
     ]
    }
   ],
   "source": [
    "rim_detection.generated_detrended_dem(location_of_craters, scaling_factor, dem_folder, shp_folder, dem_detrended_folder, craterID=craterID, overwrite=overwrite)"
   ]
  },
  {
   "cell_type": "markdown",
   "id": "a41d4110-de18-41f5-9924-a09aa41152ac",
   "metadata": {},
   "source": [
    "## Calculate morphometrical parameters from the second ellipse, final crater centre and new detrended products\n",
    "- load ellipse in world coordinates (can also give the possibility to use points and not the ellipse!)\n",
    "- create an ellipse with 2.0 r (maybe need to modify with the -xc, yc\n",
    "\n",
    "There are a few problems by using ellipse... approximating the rim of a crater with an ellipse is totally ok, but it will always result in \"shooting\" over or under the actual position of the rim of crater. The majority of morphometric parameters (e.g., middle, upper, rim flank slope) are a bit sensitive to the exact location of the rim. I think I will try to create a function that retrieve the breaks in slope within 10% of the ellipse, and then use those few locations to extract cross sections and calculate parameters. This means that not all of the craters will have a constant number of cross-sections (512) as for ellipses. I will compare the results of those different values."
   ]
  },
  {
   "cell_type": "code",
   "execution_count": null,
   "id": "c16501d8-f3cf-45b7-b469-c08616951d81",
   "metadata": {},
   "outputs": [],
   "source": [
    "location_of_craters = \"/home/nilscp/tmp/NAC_DTM_LUNA24/shapefiles/final_crater_center/global/fresh_impact_craters_LUNA24_validation_lonlat_manually_checked.shp\"\n",
    "shp_folder = \"/home/nilscp/tmp/NAC_DTM_LUNA24/shapefiles/polygons/\"\n",
    "dem_folder = \"/home/nilscp/tmp/NAC_DTM_LUNA24/DTM_clipped_detrended/\"\n",
    "suffix = \"_NACDTM_detrended.tif\"\n",
    "prefix = 'crater'\n",
    "craterID=None"
   ]
  },
  {
   "cell_type": "code",
   "execution_count": null,
   "id": "87704419-3676-4b47-a938-ac9b78f9b2cf",
   "metadata": {},
   "outputs": [],
   "source": []
  }
 ],
 "metadata": {
  "kernelspec": {
   "display_name": "Python 3",
   "language": "python",
   "name": "python3"
  },
  "language_info": {
   "codemirror_mode": {
    "name": "ipython",
    "version": 3
   },
   "file_extension": ".py",
   "mimetype": "text/x-python",
   "name": "python",
   "nbconvert_exporter": "python",
   "pygments_lexer": "ipython3",
   "version": "3.8.0"
  }
 },
 "nbformat": 4,
 "nbformat_minor": 5
}
