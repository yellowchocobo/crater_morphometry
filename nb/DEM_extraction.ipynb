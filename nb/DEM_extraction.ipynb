{
 "cells": [
  {
   "cell_type": "code",
   "execution_count": 1,
   "metadata": {},
   "outputs": [],
   "source": [
    "import sys\n",
    "sys.path.append(\"/home/nilscp/GIT/crater_morphometry\")\n",
    "\n",
    "from preprocessing import DEM_extraction\n",
    "\n",
    "# for crater0026 the actual diameter is twice the reported value\n",
    "\n",
    "location_of_craters = \"/home/nilscp/GIT/crater_morphometry/data/rayed_craters/rayed_craters.shp\"\n",
    "dem = \"/home/nilscp/tmp/Lunar_LRO_LrocKaguya_DEMmerge_60N60S_512ppd.tif\"\n",
    "clip_distance = 8.0\n",
    "output_dir = \"/home/nilscp/tmp/crater/\"\n",
    "craterID = None\n",
    "\n",
    "DEM_extraction.clip_raster_to_crater(location_of_craters, dem, clip_distance, output_dir, craterID)"
   ]
  }
 ],
 "metadata": {
  "kernelspec": {
   "display_name": "Python 3",
   "language": "python",
   "name": "python3"
  },
  "language_info": {
   "codemirror_mode": {
    "name": "ipython",
    "version": 3
   },
   "file_extension": ".py",
   "mimetype": "text/x-python",
   "name": "python",
   "nbconvert_exporter": "python",
   "pygments_lexer": "ipython3",
   "version": "3.8.0"
  }
 },
 "nbformat": 4,
 "nbformat_minor": 4
}
