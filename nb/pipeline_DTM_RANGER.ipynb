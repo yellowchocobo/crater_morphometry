{
 "cells": [
  {
   "cell_type": "code",
   "execution_count": 20,
   "id": "3790a897-5fc5-4d6a-a255-7a37cb913adf",
   "metadata": {},
   "outputs": [],
   "source": [
    "import numpy as np\n",
    "import sys\n",
    "import geopandas as gpd\n",
    "\n",
    "sys.path.append(\"/home/nilscp/GIT/crater_morphometry\")\n",
    "import geomorphometry\n",
    "from preprocessing import DEM_extraction\n",
    "from rim_detection import rim_detection\n",
    "from pathlib import Path\n",
    "\n",
    "sys.path.append(\"/home/nilscp/GIT/\")\n",
    "from rastertools import utils"
   ]
  },
  {
   "cell_type": "markdown",
   "id": "024dba39-6d46-428e-bbfe-5f3155fc26d0",
   "metadata": {},
   "source": [
    "## Clip DEM and visible image for rayed craters (SLDEM2015)"
   ]
  },
  {
   "cell_type": "code",
   "execution_count": 6,
   "id": "e5a66648-7912-46e0-94bf-d3d59389f483",
   "metadata": {},
   "outputs": [],
   "source": [
    "lonlat_crs = ('GEOGCRS[\"Moon 2000\",DATUM[\"D_Moon_2000\",'\n",
    "              'ELLIPSOID[\"Moon_2000_IAU_IAG\",1737400,0,'\n",
    "              'LENGTHUNIT[\"metre\",1,ID[\"EPSG\",9001]]]],'\n",
    "              'PRIMEM[\"Greenwich\",0,'\n",
    "              'ANGLEUNIT[\"Decimal_Degree\",0.0174532925199433]],'\n",
    "              'CS[ellipsoidal,2],AXIS[\"longitude\",east,ORDER[1],'\n",
    "              'ANGLEUNIT[\"Decimal_Degree\",0.0174532925199433]],'\n",
    "              'AXIS[\"latitude\",north,ORDER[2],'\n",
    "              'ANGLEUNIT[\"Decimal_Degree\",0.0174532925199433]]]')"
   ]
  },
  {
   "cell_type": "code",
   "execution_count": 3,
   "id": "5ffa7a02-601a-44b3-b5bd-9cc4d673ea6f",
   "metadata": {},
   "outputs": [],
   "source": [
    "location_of_craters =\"/home/nilscp/QGIS/Moon/Stopar2017/fresh_impact_craters_RANGER_validation.shp\""
   ]
  },
  {
   "cell_type": "markdown",
   "id": "933b9566-5609-456b-bce8-948128fd94ef",
   "metadata": {},
   "source": [
    "Let's add lon and lat in degrees"
   ]
  },
  {
   "cell_type": "code",
   "execution_count": 4,
   "id": "96a49dbe-d78e-4c34-a45f-5fd1f54015b5",
   "metadata": {},
   "outputs": [],
   "source": [
    "gdf = gpd.read_file(location_of_craters)"
   ]
  },
  {
   "cell_type": "code",
   "execution_count": 7,
   "id": "9586784a-ac81-4a13-8cff-bd2a741daf62",
   "metadata": {},
   "outputs": [],
   "source": [
    "gdf_lonlat = gdf.to_crs(lonlat_crs)"
   ]
  },
  {
   "cell_type": "code",
   "execution_count": 14,
   "id": "90122f5d-a0bb-4067-98e5-8ad6f4144a22",
   "metadata": {},
   "outputs": [],
   "source": [
    "lon = []\n",
    "lat = []\n",
    "for i, row in gdf_lonlat.iterrows():\n",
    "    lon.append(np.array(row.geometry.coords.xy[0])[0])\n",
    "    lat.append(np.array(row.geometry.coords.xy[1])[0])"
   ]
  },
  {
   "cell_type": "code",
   "execution_count": 15,
   "id": "f955a1ec-a21e-4035-b08a-e93c20519ed5",
   "metadata": {},
   "outputs": [],
   "source": [
    "gdf[\"lon\"] = lon\n",
    "gdf[\"lat\"] = lat"
   ]
  },
  {
   "cell_type": "code",
   "execution_count": 17,
   "id": "5cc91882-a346-491a-8ef3-d29a6339ce17",
   "metadata": {},
   "outputs": [],
   "source": [
    "gdf.to_file(\"/home/nilscp/QGIS/Moon/Stopar2017/fresh_impact_craters_RANGER_validation_lonlat.shp\")"
   ]
  },
  {
   "cell_type": "markdown",
   "id": "6e399cfb-8895-4cde-9010-35f7cf5adf2d",
   "metadata": {},
   "source": [
    "Let's check the crs of the DEM is the same as the crs of the shapefile"
   ]
  },
  {
   "cell_type": "code",
   "execution_count": 19,
   "id": "22bebc2a-7fe8-4ad7-aa17-feb9ba755ee6",
   "metadata": {},
   "outputs": [
    {
     "name": "stderr",
     "output_type": "stream",
     "text": [
      "/home/nilscp/.pyenv/versions/3.8.0/envs/computer-vision/lib/python3.8/site-packages/pyproj/crs/crs.py:1256: UserWarning: You will likely lose important projection information when converting to a PROJ string from another format. See: https://proj.org/faq.html#what-is-the-best-format-for-describing-coordinate-reference-systems\n",
      "  return self._crs.to_proj4(version=version)\n"
     ]
    },
    {
     "data": {
      "text/plain": [
       "'+proj=eqc +lat_ts=9 +lat_0=0 +lon_0=180 +x_0=0 +y_0=0 +R=1737400 +units=m +no_defs +type=crs'"
      ]
     },
     "execution_count": 19,
     "metadata": {},
     "output_type": "execute_result"
    }
   ],
   "source": [
    "gdf.crs.to_proj4()"
   ]
  },
  {
   "cell_type": "code",
   "execution_count": 23,
   "id": "78163fc5-320e-4072-83c8-29f58b3567b1",
   "metadata": {},
   "outputs": [],
   "source": [
    "location_of_craters = \"/home/nilscp/QGIS/Moon/Stopar2017/fresh_impact_craters_RANGER_validation_lonlat.shp\"\n",
    "dem = \"/home/nilscp/QGIS/Moon/NAC_DTM/NAC_DTM_RANGER.tiff\"\n",
    "orthoimage = \"/home/nilscp/QGIS/Moon/NAC_DTM/NAC_DTM_RANGER_M144490730_50CM.tiff\"\n",
    "clip_distance = 4.0\n",
    "output_dir = \"/home/nilscp/tmp/NAC_DTM_RANGER/DTM_clipped/\"\n",
    "output_dir_ortho = \"/home/nilscp/tmp/NAC_DTM_RANGER/Ortho_clipped/\"\n",
    "identifier_dem = \"NACDTM\"\n",
    "identifier_orthoimage = \"NAC\"\n",
    "shp_folder = \"/home/nilscp/tmp/NAC_DTM_RANGER/shapefiles/\""
   ]
  },
  {
   "cell_type": "code",
   "execution_count": 22,
   "id": "5700557b-40c7-4b2b-861f-08fb8299acc1",
   "metadata": {},
   "outputs": [
    {
     "data": {
      "text/plain": [
       "'+proj=eqc +lat_ts=9 +lat_0=0 +lon_0=180 +x_0=0 +y_0=0 +R=1737400 +units=m +no_defs=True'"
      ]
     },
     "execution_count": 22,
     "metadata": {},
     "output_type": "execute_result"
    }
   ],
   "source": [
    "utils.get_raster_crs(dem).to_proj4()"
   ]
  },
  {
   "cell_type": "code",
   "execution_count": 24,
   "id": "eaa4b895-5218-45ea-b7ff-2eb03711bd04",
   "metadata": {},
   "outputs": [
    {
     "name": "stderr",
     "output_type": "stream",
     "text": [
      "100%|██████████| 22/22 [00:22<00:00,  1.04s/it]\n"
     ]
    }
   ],
   "source": [
    "DEM_extraction.clip_raster_to_crater(location_of_craters, dem, clip_distance, output_dir, shp_folder, identifier_dem, craterID = None)"
   ]
  },
  {
   "cell_type": "code",
   "execution_count": 25,
   "id": "25d387c8-fe4f-43a7-a15f-227ecf7c1700",
   "metadata": {},
   "outputs": [
    {
     "name": "stderr",
     "output_type": "stream",
     "text": [
      "100%|██████████| 22/22 [00:23<00:00,  1.08s/it]\n"
     ]
    }
   ],
   "source": [
    "DEM_extraction.clip_raster_to_crater(location_of_craters, orthoimage, clip_distance, output_dir_ortho, shp_folder, identifier_orthoimage, craterID = None)"
   ]
  },
  {
   "cell_type": "markdown",
   "id": "241d6232-7107-4f0f-89eb-052451973915",
   "metadata": {},
   "source": [
    "## Generate regional (2.0-3.0R) detrended DEM (SLDEM2015, Rayed craters)"
   ]
  },
  {
   "cell_type": "code",
   "execution_count": 27,
   "id": "744d6d0c-ae18-4133-ba26-c092c0cc6816",
   "metadata": {},
   "outputs": [],
   "source": [
    "location_of_craters = \"/home/nilscp/QGIS/Moon/Stopar2017/fresh_impact_craters_RANGER_validation_lonlat.shp\"\n",
    "scaling_factor = 1.0\n",
    "dem_folder = \"/home/nilscp/tmp/NAC_DTM_RANGER/DTM_clipped/\"\n",
    "dem_detrended_folder = \"/home/nilscp/tmp/NAC_DTM_RANGER/DTM_clipped_detrended/\"\n",
    "craterID = None\n",
    "overwrite = True\n",
    "shp_folder = \"/home/nilscp/tmp/NAC_DTM_RANGER/shapefiles/\""
   ]
  },
  {
   "cell_type": "code",
   "execution_count": 28,
   "id": "38f365d7-44e4-4c0d-a151-a9ac321eaf8a",
   "metadata": {},
   "outputs": [
    {
     "name": "stderr",
     "output_type": "stream",
     "text": [
      "  0%|          | 0/22 [00:00<?, ?it/s]/home/nilscp/.pyenv/versions/3.8.0/envs/computer-vision/lib/python3.8/site-packages/numpy/lib/nanfunctions.py:1111: RuntimeWarning: Mean of empty slice\n",
      "  return np.nanmean(a, axis, out=out, keepdims=keepdims)\n",
      "/home/nilscp/.pyenv/versions/3.8.0/envs/computer-vision/lib/python3.8/site-packages/numpy/lib/nanfunctions.py:1664: RuntimeWarning: Degrees of freedom <= 0 for slice.\n",
      "  var = nanvar(a, axis=axis, dtype=dtype, out=out, ddof=ddof,\n",
      "100%|██████████| 22/22 [00:08<00:00,  2.58it/s]\n"
     ]
    }
   ],
   "source": [
    "rim_detection.generated_detrended_dem(location_of_craters, scaling_factor, dem_folder, shp_folder, dem_detrended_folder, craterID=craterID, overwrite=overwrite)"
   ]
  },
  {
   "cell_type": "markdown",
   "id": "157a2c0a-3b10-4e1e-81b0-5a87e20a3a1f",
   "metadata": {},
   "source": [
    "## The detection of the rim composite, and the following update of the crater centre\n",
    "----\n",
    "#### Note that the algorithm will not work if:\n",
    "- the centre of the crater is outside of the crater of interest\n",
    "- the resolution of the dem is too low (at least 20 cells is required along the crater radius to provide reasonable results <br>\n",
    "----\n",
    "#### It can be that the algorithm work but gives wrong results if:\n",
    "- There are large change in slopes that does not correspond to the actual change in slope associated with the rim (either very close or very far)"
   ]
  },
  {
   "cell_type": "code",
   "execution_count": 31,
   "id": "b9c8536b-1884-44d9-955f-56820496d5b5",
   "metadata": {},
   "outputs": [],
   "source": [
    "location_of_craters = \"/home/nilscp/QGIS/Moon/Stopar2017/fresh_impact_craters_RANGER_validation_lonlat.shp\"\n",
    "dem_folder = \"/home/nilscp/tmp/NAC_DTM_RANGER/DTM_clipped_detrended/\"\n",
    "shp_folder = \"/home/nilscp/tmp/NAC_DTM_RANGER/shapefiles/\"\n",
    "suffix = \"_NACDTM_detrended.tif\""
   ]
  },
  {
   "cell_type": "code",
   "execution_count": 32,
   "id": "8146edae-3b60-4de1-ba69-9bee8c85f0b0",
   "metadata": {},
   "outputs": [
    {
     "name": "stderr",
     "output_type": "stream",
     "text": [
      "  0%|          | 0/22 [00:00<?, ?it/s]/home/nilscp/GIT/crater_morphometry/rim_detection/rim_detection.py:1033: UserWarning: Column names longer than 10 characters will be truncated when saved to ESRI Shapefile.\n",
      "  gdf.to_file(filename)\n",
      "100%|██████████| 22/22 [01:42<00:00,  4.65s/it]\n"
     ]
    }
   ],
   "source": [
    "rim_detection.main(location_of_craters, dem_folder, shp_folder, suffix, threshold_min=None, threshold_max=None , craterID = None)"
   ]
  },
  {
   "cell_type": "markdown",
   "id": "7e4c89bd-ecb9-41aa-85cd-a78909503f3d",
   "metadata": {},
   "source": [
    "## Manual check of results\n",
    "It is important to manually check if the detected rims give meaningful results. If not, the polygon can be deleted, and replace by a manually generated ellipse. This should (hopefully) not happen in many cases for fresh impact structures (<5%). However, this is likely to happen more often for degraded craters (such as the rayed crater dataset, that contains both young and old craters). For completion, we are writing down the id of the crater where a problem is detected, to understand if we can improve the rule-based detection of rim in the future. \n",
    "\n",
    "## Update centre of craters\n",
    "- Merge the centres of craters together\n",
    "\n"
   ]
  },
  {
   "cell_type": "code",
   "execution_count": 3,
   "id": "9e08cdc9-b6ee-47e0-a758-8a40b1053fbf",
   "metadata": {},
   "outputs": [],
   "source": [
    "out_shapefile = \"/home/nilscp/tmp/NAC_DTM_RANGER/shapefiles/final_crater_center/global/fresh_impact_craters_RANGER_validation_lonlat_manually_checked.shp\"\n",
    "shp_folder = \"/home/nilscp/tmp/NAC_DTM_RANGER/shapefiles/\"\n",
    "old_crater_centres = \"/home/nilscp/QGIS/Moon/Stopar2017/fresh_impact_craters_RANGER_validation_lonlat.shp\""
   ]
  },
  {
   "cell_type": "code",
   "execution_count": null,
   "id": "7b07520b-12d6-44b5-beca-7076ce1bfa4a",
   "metadata": {},
   "outputs": [],
   "source": [
    "rim_detection.update_crater_centres(shp_folder, out_shapefile, old_crater_centres, replace_crs=False)"
   ]
  },
  {
   "cell_type": "markdown",
   "id": "46e6bdcc-669b-47c9-b4d7-929fc8679a01",
   "metadata": {},
   "source": [
    "## Update the DEM, and the 2.0R-3.0R and 0.9R-1.1R detrendings\n",
    "- decrease clip distance to 4R to divide the size of DEMs by 2 (for SLDEM2015 and SLDEM2013)\n",
    "- could be that the size of the SLDEM2013 could be decreased by moving away from float."
   ]
  },
  {
   "cell_type": "code",
   "execution_count": 33,
   "id": "88b53264-ac81-42d3-9f53-eeea9348e11f",
   "metadata": {},
   "outputs": [],
   "source": [
    "location_of_craters = \"/home/nilscp/tmp/NAC_DTM_RANGER/shapefiles/final_crater_center/global/fresh_impact_craters_RANGER_validation_lonlat_manually_checked.shp\"\n",
    "dem = \"/home/nilscp/QGIS/Moon/NAC_DTM/NAC_DTM_RANGER.tiff\"\n",
    "orthoimage = \"/home/nilscp/QGIS/Moon/NAC_DTM/NAC_DTM_RANGER_M144490730_50CM.tiff\"\n",
    "clip_distance = 4.0\n",
    "output_dir = \"/home/nilscp/tmp/NAC_DTM_RANGER/DTM_clipped/\"\n",
    "output_dir_ortho = \"/home/nilscp/tmp/NAC_DTM_RANGER/Ortho_clipped/\"\n",
    "identifier_dem = \"NACDTM\"\n",
    "identifier_orthoimage = \"NAC\"\n",
    "shp_folder = \"/home/nilscp/tmp/NAC_DTM_RANGER/shapefiles/final_crater_center/\""
   ]
  },
  {
   "cell_type": "code",
   "execution_count": 34,
   "id": "d2eb5522-745d-4063-83ec-9bfc60d6503e",
   "metadata": {},
   "outputs": [
    {
     "name": "stderr",
     "output_type": "stream",
     "text": [
      "100%|██████████| 22/22 [00:25<00:00,  1.17s/it]\n"
     ]
    }
   ],
   "source": [
    "DEM_extraction.clip_raster_to_crater(location_of_craters, dem, clip_distance, output_dir, shp_folder, identifier_dem, craterID = None)"
   ]
  },
  {
   "cell_type": "code",
   "execution_count": 35,
   "id": "934af901-0f36-419f-b6d9-b979646cbbcd",
   "metadata": {},
   "outputs": [
    {
     "name": "stderr",
     "output_type": "stream",
     "text": [
      "100%|██████████| 22/22 [00:28<00:00,  1.28s/it]\n"
     ]
    }
   ],
   "source": [
    "DEM_extraction.clip_raster_to_crater(location_of_craters, orthoimage, clip_distance, output_dir_ortho, shp_folder, identifier_orthoimage, craterID = None)"
   ]
  },
  {
   "cell_type": "markdown",
   "id": "02aa0c0f-9b75-4dd9-8d5f-1ca3dc0912a8",
   "metadata": {},
   "source": [
    "## Update the 2.0R-3.0R and 0.9R-1.1R detrendings"
   ]
  },
  {
   "cell_type": "code",
   "execution_count": 36,
   "id": "f5637f0d-e191-461b-b67a-275821d30a2f",
   "metadata": {},
   "outputs": [],
   "source": [
    "scaling_factor = 1.0\n",
    "dem_folder = \"/home/nilscp/tmp/NAC_DTM_RANGER/DTM_clipped/\"\n",
    "dem_detrended_folder = \"/home/nilscp/tmp/NAC_DTM_RANGER/DTM_clipped_detrended/\"\n",
    "craterID = None\n",
    "overwrite = True\n",
    "shp_folder = \"/home/nilscp/tmp/NAC_DTM_RANGER/shapefiles/final_crater_center/\""
   ]
  },
  {
   "cell_type": "code",
   "execution_count": 37,
   "id": "db50c173-9bc1-45d8-906a-ce9a9e48de8b",
   "metadata": {},
   "outputs": [
    {
     "name": "stderr",
     "output_type": "stream",
     "text": [
      "100%|██████████| 22/22 [00:09<00:00,  2.33it/s]\n"
     ]
    }
   ],
   "source": [
    "rim_detection.generated_detrended_dem(location_of_craters, scaling_factor, dem_folder, shp_folder, dem_detrended_folder, craterID=craterID, overwrite=overwrite)"
   ]
  },
  {
   "cell_type": "markdown",
   "id": "a41d4110-de18-41f5-9924-a09aa41152ac",
   "metadata": {},
   "source": [
    "## Calculate morphometrical parameters from the second ellipse, final crater centre and new detrended products\n",
    "- load ellipse in world coordinates (can also give the possibility to use points and not the ellipse!)\n",
    "- create an ellipse with 2.0 r (maybe need to modify with the -xc, yc\n",
    "\n",
    "There are a few problems by using ellipse... approximating the rim of a crater with an ellipse is totally ok, but it will always result in \"shooting\" over or under the actual position of the rim of crater. The majority of morphometric parameters (e.g., middle, upper, rim flank slope) are a bit sensitive to the exact location of the rim. I think I will try to create a function that retrieve the breaks in slope within 10% of the ellipse, and then use those few locations to extract cross sections and calculate parameters. This means that not all of the craters will have a constant number of cross-sections (512) as for ellipses. I will compare the results of those different values."
   ]
  },
  {
   "cell_type": "code",
   "execution_count": null,
   "id": "c16501d8-f3cf-45b7-b469-c08616951d81",
   "metadata": {},
   "outputs": [],
   "source": [
    "location_of_craters = \"/home/nilscp/tmp/NAC_DTM_RANGER/shapefiles/final_crater_center/global/fresh_impact_craters_RANGER_validation_lonlat_manually_checked_noproj.shp\"\n",
    "shp_folder = \"/home/nilscp/tmp/NAC_DTM_RANGER/shapefiles/\"\n",
    "dem_folder = \"/home/nilscp/tmp/NAC_DTM_RANGER/DTM_clipped_detrended/\"\n",
    "suffix = \"_NACDTM_detrended.tif\"\n",
    "prefix = 'crater'\n",
    "craterID=None"
   ]
  },
  {
   "cell_type": "code",
   "execution_count": null,
   "id": "87704419-3676-4b47-a938-ac9b78f9b2cf",
   "metadata": {},
   "outputs": [],
   "source": []
  }
 ],
 "metadata": {
  "kernelspec": {
   "display_name": "Python 3",
   "language": "python",
   "name": "python3"
  },
  "language_info": {
   "codemirror_mode": {
    "name": "ipython",
    "version": 3
   },
   "file_extension": ".py",
   "mimetype": "text/x-python",
   "name": "python",
   "nbconvert_exporter": "python",
   "pygments_lexer": "ipython3",
   "version": "3.8.0"
  }
 },
 "nbformat": 4,
 "nbformat_minor": 5
}
