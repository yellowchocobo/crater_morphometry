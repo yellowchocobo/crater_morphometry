{
 "cells": [
  {
   "cell_type": "code",
   "execution_count": 14,
   "id": "3790a897-5fc5-4d6a-a255-7a37cb913adf",
   "metadata": {},
   "outputs": [],
   "source": [
    "import geopandas as gpd\n",
    "import numpy as np\n",
    "import shutil\n",
    "import sys\n",
    "\n",
    "sys.path.append(\"/home/nilscp/GIT/crater_morphometry\")\n",
    "import geomorphometry\n",
    "from preprocessing import DEM_extraction\n",
    "from rim_detection import rim_detection\n",
    "from pathlib import Path"
   ]
  },
  {
   "cell_type": "markdown",
   "id": "024dba39-6d46-428e-bbfe-5f3155fc26d0",
   "metadata": {},
   "source": [
    "## Clip DEM and visible image for rayed craters"
   ]
  },
  {
   "cell_type": "code",
   "execution_count": 8,
   "id": "78163fc5-320e-4072-83c8-29f58b3567b1",
   "metadata": {},
   "outputs": [],
   "source": [
    "location_of_craters = \"/home/nilscp/tmp/fresh_impact_craters/GLD100/crater_center/GLD100_rayed_craters_larger_than_1500m.shp\"\n",
    "dem = \"/home/nilscp/QGIS/Moon/globalMosaics/Lunar_LRO_WAC_GLD100_DTM_79S79N_100m_v1.1.tif\"\n",
    "clip_distance = 8.0\n",
    "output_dir = \"/home/nilscp/tmp/fresh_impact_craters/GLD100/GLD100/\"\n",
    "identifier_dem = \"GLD100DEM\"\n",
    "shp_folder = \"/home/nilscp/tmp/fresh_impact_craters/GLD100/shapefiles/\""
   ]
  },
  {
   "cell_type": "code",
   "execution_count": 5,
   "id": "eaa4b895-5218-45ea-b7ff-2eb03711bd04",
   "metadata": {},
   "outputs": [
    {
     "name": "stderr",
     "output_type": "stream",
     "text": [
      "100%|██████████| 852/852 [19:44<00:00,  1.39s/it]\n"
     ]
    }
   ],
   "source": [
    "DEM_extraction.clip_raster_to_crater(location_of_craters, dem, clip_distance, output_dir, shp_folder, identifier_dem, craterID = None)"
   ]
  },
  {
   "cell_type": "markdown",
   "id": "241d6232-7107-4f0f-89eb-052451973915",
   "metadata": {},
   "source": [
    "## Generate regional (2.0-3.0R) detrended DEM (SLDEM2015, Rayed craters)"
   ]
  },
  {
   "cell_type": "code",
   "execution_count": 9,
   "id": "744d6d0c-ae18-4133-ba26-c092c0cc6816",
   "metadata": {},
   "outputs": [],
   "source": [
    "scaling_factor = 1.0\n",
    "dem_folder = \"/home/nilscp/tmp/fresh_impact_craters/GLD100/GLD100/\"\n",
    "dem_detrended_folder = \"/home/nilscp/tmp/fresh_impact_craters/GLD100/GLD100_detrended/\"\n",
    "craterID = None\n",
    "overwrite = True"
   ]
  },
  {
   "cell_type": "code",
   "execution_count": 10,
   "id": "38f365d7-44e4-4c0d-a151-a9ac321eaf8a",
   "metadata": {},
   "outputs": [
    {
     "name": "stderr",
     "output_type": "stream",
     "text": [
      "  7%|▋         | 59/852 [00:27<05:34,  2.37it/s]/home/nilscp/.pyenv/versions/3.8.0/envs/computer-vision/lib/python3.8/site-packages/numpy/lib/nanfunctions.py:1111: RuntimeWarning: Mean of empty slice\n",
      "  return np.nanmean(a, axis, out=out, keepdims=keepdims)\n",
      "/home/nilscp/.pyenv/versions/3.8.0/envs/computer-vision/lib/python3.8/site-packages/numpy/lib/nanfunctions.py:1664: RuntimeWarning: Degrees of freedom <= 0 for slice.\n",
      "  var = nanvar(a, axis=axis, dtype=dtype, out=out, ddof=ddof,\n",
      "100%|██████████| 852/852 [06:12<00:00,  2.29it/s]\n"
     ]
    }
   ],
   "source": [
    "rim_detection.generated_detrended_dem(location_of_craters, scaling_factor, dem_folder, shp_folder, dem_detrended_folder, craterID=craterID, overwrite=overwrite)"
   ]
  },
  {
   "cell_type": "markdown",
   "id": "157a2c0a-3b10-4e1e-81b0-5a87e20a3a1f",
   "metadata": {},
   "source": [
    "## The detection of the rim composite, and the following update of the crater centre\n",
    "----\n",
    "#### Note that the algorithm will not work if:\n",
    "- the centre of the crater is outside of the crater of interest\n",
    "- the resolution of the dem is too low (at least 20 cells is required along the crater radius to provide reasonable results <br>\n",
    "----\n",
    "#### It can be that the algorithm work but gives wrong results if:\n",
    "- There are large change in slopes that does not correspond to the actual change in slope associated with the rim (either very close or very far)"
   ]
  },
  {
   "cell_type": "code",
   "execution_count": 11,
   "id": "b9c8536b-1884-44d9-955f-56820496d5b5",
   "metadata": {},
   "outputs": [],
   "source": [
    "suffix = '_GLD100DEM_detrended.tif'"
   ]
  },
  {
   "cell_type": "code",
   "execution_count": 12,
   "id": "8146edae-3b60-4de1-ba69-9bee8c85f0b0",
   "metadata": {},
   "outputs": [
    {
     "name": "stderr",
     "output_type": "stream",
     "text": [
      "  0%|          | 0/849 [00:00<?, ?it/s]/home/nilscp/GIT/crater_morphometry/rim_detection/rim_detection.py:1033: UserWarning: Column names longer than 10 characters will be truncated when saved to ESRI Shapefile.\n",
      "  gdf.to_file(filename)\n",
      " 11%|█         | 91/849 [07:16<50:58,  4.04s/it]  "
     ]
    },
    {
     "name": "stdout",
     "output_type": "stream",
     "text": [
      "crater0126\n"
     ]
    },
    {
     "name": "stderr",
     "output_type": "stream",
     "text": [
      "100%|██████████| 849/849 [1:03:02<00:00,  4.46s/it]\n"
     ]
    }
   ],
   "source": [
    "rim_detection.main(location_of_craters, dem_detrended_folder, shp_folder, suffix, threshold_min=None, threshold_max=None , craterID = None)"
   ]
  },
  {
   "cell_type": "markdown",
   "id": "7e4c89bd-ecb9-41aa-85cd-a78909503f3d",
   "metadata": {},
   "source": [
    "## Manual check of results\n",
    "It is important to manually check if the detected rims give meaningful results. If not, the polygon can be deleted, and replace by a manually generated ellipse. This should (hopefully) not happen in many cases for fresh impact structures (<5%). However, this is likely to happen more often for degraded craters (such as the rayed crater dataset, that contains both young and old craters). For completion, we are writing down the id of the crater where a problem is detected, to understand if we can improve the rule-based detection of rim in the future. \n",
    "\n",
    "## Update centre of craters\n",
    "- Merge the centres of craters together\n",
    "- Three craters were deleted because they were closed to the origin (and that they overlapped between the edge of the global raster)\n",
    "- This is not going to be any issues because of that, as I only want to computer GLD100 to have an idea of how SLDEM2015 is performing compare to it.\n",
    "\n",
    "In this special case, I am just copying the ellipse of the SLDEM2015. It should be a minimal shift between the two datasets, and the computation with GLD100 DTM is only for comparison and not use in the final results.\n",
    "\n",
    "## let's copy the ellipse and change their names"
   ]
  },
  {
   "cell_type": "code",
   "execution_count": 37,
   "id": "9e08cdc9-b6ee-47e0-a758-8a40b1053fbf",
   "metadata": {},
   "outputs": [],
   "source": [
    "input_folder = Path(\"/home/nilscp/tmp/fresh_impact_craters/shapefiles/polygons\")\n",
    "desti_folder = Path(\"/home/nilscp/tmp/fresh_impact_craters/GLD100/shapefiles/polygons\")\n",
    "input_txt_str = \"_LROKaguyaDEM_detrended_ellipse_candidate2_polygon\"\n",
    "desti_txt_str = \"_GLD100DEM_detrended_ellipse_candidate2_polygon\"\n",
    "gdf = gpd.read_file(location_of_craters)    "
   ]
  },
  {
   "cell_type": "code",
   "execution_count": 38,
   "id": "216b4d61-efc9-43ef-8008-d21290a2d877",
   "metadata": {},
   "outputs": [],
   "source": [
    "for i, row in gdf.iterrows():\n",
    "    tmp_files = list(input_folder.glob(row.CRATER_ID + input_txt_str + \"*\"))\n",
    "    for file in tmp_files:\n",
    "        ndesti = file.name.replace(input_txt_str, desti_txt_str)\n",
    "        ndesti = desti_folder / ndesti\n",
    "        shutil.copy(file, ndesti)"
   ]
  },
  {
   "cell_type": "markdown",
   "id": "a41d4110-de18-41f5-9924-a09aa41152ac",
   "metadata": {},
   "source": [
    "## Calculate morphometrical parameters from the second ellipse, final crater centre and new detrended products\n",
    "- load ellipse in world coordinates (can also give the possibility to use points and not the ellipse!)\n",
    "- create an ellipse with 2.0 r (maybe need to modify with the -xc, yc\n",
    "\n",
    "There are a few problems by using ellipse... approximating the rim of a crater with an ellipse is totally ok, but it will always result in \"shooting\" over or under the actual position of the rim of crater. The majority of morphometric parameters (e.g., middle, upper, rim flank slope) are a bit sensitive to the exact location of the rim. I think I will try to create a function that retrieve the breaks in slope within 10% of the ellipse, and then use those few locations to extract cross sections and calculate parameters. This means that not all of the craters will have a constant number of cross-sections (512) as for ellipses. I will compare the results of those different values."
   ]
  },
  {
   "cell_type": "code",
   "execution_count": null,
   "id": "c16501d8-f3cf-45b7-b469-c08616951d81",
   "metadata": {},
   "outputs": [],
   "source": [
    "location_of_craters = \"/home/nilscp/tmp/fresh_impact_craters/GLD100/crater_center/GLD100_rayed_craters_larger_than_1500m.shp\"\n",
    "shp_folder = '/home/nilscp/tmp/fresh_impact_craters/GLD100/shapefiles/polygons/'\n",
    "dem_folder = '/home/nilscp/tmp/fresh_impact_craters/GLD100/GLD100_detrended/'\n",
    "suffix = '_GLD100DEM_detrended.tif'\n",
    "prefix = 'crater'\n",
    "craterID=None"
   ]
  }
 ],
 "metadata": {
  "kernelspec": {
   "display_name": "Python 3",
   "language": "python",
   "name": "python3"
  },
  "language_info": {
   "codemirror_mode": {
    "name": "ipython",
    "version": 3
   },
   "file_extension": ".py",
   "mimetype": "text/x-python",
   "name": "python",
   "nbconvert_exporter": "python",
   "pygments_lexer": "ipython3",
   "version": "3.8.0"
  }
 },
 "nbformat": 4,
 "nbformat_minor": 5
}
