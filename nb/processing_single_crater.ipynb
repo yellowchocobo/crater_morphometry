{
 "cells": [
  {
   "cell_type": "markdown",
   "metadata": {},
   "source": [
    "# Workflow of the rim-detection algorithm\n",
    "I would like to have a graphical plot showing all the different steps in the algorithm.\n",
    "\n",
    "I was thinking at 5 rows and 3 columns graph with (a) crater center; (b) crater center with a 4 radii envelope around the crater and the clipped DEM, (c) the sampling of cross-sections pixel wise with non-overlapping, (d) crater with the 2.0 and 3.0 radii radius circle, (e) show one cross section before and after the first detrending, the actual cross section can be highlight in red in (c), (f) detection of global maxima, (g) second detrending with the plane going through 0.9 and 1.1 radii, (h) showing the result of this detrending for one cross section, (i) finding local + global maxima, (j) finding global maxima and local maxima, (k) generating rim composite, (l) redoing everything after adjusting for crater center and crater diameter, (m that takes three spots). I could actually make a script plotting all of these things automatically (with the help of rasterio and ++). So I need\n",
    "\n",
    "- 1) coordinates of the crater center\n",
    "- 2) envelope at 4R or 8R + clipped DEM\n",
    "- 3) circle at a distance of 2R and 3R and all the values in between\n",
    "- 4) plane fitted through these points (3D is maybe a bit too complicated)? Otherwise show cross sections before and after for and W-E and N-S transects. \n",
    "- 5) detection of global maxima\n",
    "- 6) detection of local maximas\n",
    "- 7) generation of a rim composite based on locations of global and local maximas\n",
    "- 8) an ellipse is fitted (or a circle, check) through the detected rim and the centre of the crater is re-calculated, steps (3) to (7) are re-conducted. A second detrending steps is conducted after the first one (between 0.9 and 1.1 R)"
   ]
  },
  {
   "cell_type": "code",
   "execution_count": 1,
   "metadata": {},
   "outputs": [],
   "source": [
    "from pathlib import Path\n",
    "from rasterio.plot import reshape_as_raster, reshape_as_image\n",
    "\n",
    "import geopandas as gpd\n",
    "import matplotlib.pyplot as plt\n",
    "import numpy as np\n",
    "import pandas as pd\n",
    "import sys\n",
    "import rasterio as rio"
   ]
  },
  {
   "cell_type": "code",
   "execution_count": 2,
   "metadata": {},
   "outputs": [],
   "source": [
    "sys.path.append(\"/home/nilscp/GIT/crater_morphometry/rim_detection\")\n",
    "sys.path.append(\"/home/nilscp/GIT/crater_morphometry/preprocessing\")\n",
    "sys.path.append(\"/home/nilscp/GIT/crater_morphometry\")\n",
    "\n",
    "import rim_detection\n",
    "import geomorphometry"
   ]
  },
  {
   "cell_type": "code",
   "execution_count": 3,
   "metadata": {
    "jupyter": {
     "source_hidden": true
    }
   },
   "outputs": [],
   "source": [
    "import scipy\n",
    "\n",
    "def detrending(crater_radius,\n",
    "               from_scaled_crater_radius, scaled_crater_radius_end,\n",
    "               elevations, \n",
    "               dem_resolution, \n",
    "               xmesh, ymesh, \n",
    "               height_crater_center_px, width_crater_center_px, \n",
    "               filterMedianStd):\n",
    "    \n",
    "    '''\n",
    "    Routine to fetch all the pixel values between SCALED_crater_radius_START and \n",
    "    SCALED_crater_radius_END from the crater centre (e.g., between 2.0 R and 3.0 R\n",
    "    for detrending in a regional context and 0.9 and 1.1 for detrending\n",
    "    assymetries along ) \n",
    "\n",
    "    Parameters\n",
    "    ----------\n",
    "    crater_radius : float\n",
    "        crater crater_radius in the unit of the proj. coordinate system (e.g., meters).\n",
    "    from_scaled_crater_radius : float\n",
    "        Distance (scaled with the crater_radius of the crater diameter) from which the\n",
    "        detrending step will be conducted. \n",
    "    scaled_crater_radius_end : float\n",
    "        Distance (scaled with the crater_radius of the crater diameter) up to which the\n",
    "        detrending step will be conducted. \n",
    "    elevations : numpy array\n",
    "        Numpy array containg elevations (either original or detrended values).\n",
    "    dem_resolution : float\n",
    "        resolution of the DEM in meters.\n",
    "    xmesh : numpy array\n",
    "        mesh grid with the same dimension as the elevations.\n",
    "    ymesh : numpy array\n",
    "        mesh grid with the same dimension as the elevations.\n",
    "    height_crater_center_px : int\n",
    "        centre of the crater in pixel coordinates.\n",
    "    width_crater_center_px : int\n",
    "        centre of the crater in pixel coordinates.\n",
    "    filterMedianStd : boolean\n",
    "        if True, values above the median of the elevation + one standard dev\n",
    "        and below the median of the elevation - one standard dev are discarded.\n",
    "        This allow \n",
    "\n",
    "    Returns\n",
    "    -------\n",
    "    detrended_elevation : numpy array \n",
    "        Detrended elevations between the specified from_scaled_crater_radius and \n",
    "        .\n",
    "        \n",
    "    Suggestions for improvements\n",
    "    -------\n",
    "    - I am sure the selection could be made in a much more smooth way. Check\n",
    "    https://stackoverflow.com/questions/49330080/numpy-2d-array-selecting-indices-in-a-circle.\n",
    "    This would be make this script much smaller and would avoid some unnecessary\n",
    "    looping. \n",
    "    - Error message if, for some reasons, the from_scaled_crater_radius and scaled_crater_radius_end\n",
    "    result in the fetching of elevations values outside of the mapped area.\n",
    "\n",
    "    '''\n",
    "    # in map coordinates       \n",
    "    x2, y2 = rim_detection.xy_circle((from_scaled_crater_radius*crater_radius) / dem_resolution, \n",
    "                       height_crater_center_px, width_crater_center_px)\n",
    "    \n",
    "    x3, y3 = rim_detection.xy_circle((scaled_crater_radius_end*crater_radius) / dem_resolution, \n",
    "                       height_crater_center_px, width_crater_center_px)\n",
    "              \n",
    "    (x2, y2, x3, y3) = (np.round(x2).astype('int'), np.round(y2).astype('int'),\n",
    "                        np.round(x3).astype('int'), np.round(y3).astype('int'))\n",
    "\n",
    "    # number of values along each cross section\n",
    "    # sampled at two times the dem resolution\n",
    "    n_points_along_cs = np.int((crater_radius / dem_resolution) * 2.0)\n",
    "    \n",
    "    # empty array\n",
    "    y_disk_seletion_px = []\n",
    "    x_disk_seletion_px = []\n",
    "    \n",
    "    # Looping through all the x-coordinates of the circle located at 2R\n",
    "    for i in range(len(x2)):\n",
    "\n",
    "        # the starting coordinates move all the time and correspond to the \n",
    "        # boundary of the 2R circle\n",
    "        x_cs_start = x2[i]\n",
    "        y_cs_start = y2[i]\n",
    "        \n",
    "        # the end coordinates correspond to the boundary of the 3R circle\n",
    "        x_cs_end = x3[i]\n",
    "        y_cs_end = y3[i]\n",
    "                \n",
    "        # the distance is calculated, should be equal to two times the crater_radius\n",
    "        (x_coord_cs, y_coord_cs) = (np.linspace(x_cs_start, x_cs_end, n_points_along_cs), \n",
    "                        np.linspace(y_cs_start, y_cs_end, n_points_along_cs))\n",
    "        \n",
    "        # only integer here\n",
    "        (x_coord_cs, y_coord_cs) = (np.round(x_coord_cs).astype('int'), \n",
    "                                    np.round(y_coord_cs).astype('int'))\n",
    "        \n",
    "        #need to get rid of repetitions\n",
    "        rep = np.zeros((len(x_coord_cs),2))\n",
    "        rep[:,0] = x_coord_cs\n",
    "        rep[:,1] = y_coord_cs\n",
    "        __, index = np.unique([\"{}{}\".format(ix, j) for ix,j in rep], \n",
    "                              return_index=True)\n",
    "        \n",
    "        for i in index:\n",
    "            x_disk_seletion_px.append(x_coord_cs[i])\n",
    "            y_disk_seletion_px.append(y_coord_cs[i])\n",
    "    \n",
    "    \n",
    "    # these correspond to all coordinates between the slice of 2R and 3R                \n",
    "    x_disk_seletion_px = np.array(x_disk_seletion_px)\n",
    "    y_disk_seletion_px = np.array(y_disk_seletion_px)\n",
    "           \n",
    "    # elevations are extracted for the map coordinates\n",
    "    z = elevations[x_disk_seletion_px,y_disk_seletion_px]\n",
    " \n",
    "    # and x- and y-coordinates in meters (this is correct now) # weird\n",
    "    x_disk_seletion = xmesh[x_disk_seletion_px,y_disk_seletion_px]\n",
    "    y_disk_seletion = ymesh[x_disk_seletion_px,y_disk_seletion_px]\n",
    "    \n",
    "    return (x_disk_seletion, y_disk_seletion, z)\n",
    "\n",
    "\n",
    "def detect_maximum_elevations(xmesh, ymesh, \n",
    "                              height_crater_center_px, width_crater_center_px, \n",
    "                              elevations, crater_radius, dem_resolution):\n",
    "    '''\n",
    "    \n",
    "\n",
    "    Parameters\n",
    "    ----------\n",
    "    xmesh : TYPE\n",
    "        DESCRIPTION.\n",
    "    ymesh : TYPE\n",
    "        DESCRIPTION.\n",
    "    height_crater_center_px : TYPE\n",
    "        DESCRIPTION.\n",
    "    width_crater_center_px : TYPE\n",
    "        DESCRIPTION.\n",
    "    elevations : TYPE\n",
    "        DESCRIPTION.\n",
    "    crater_radius : TYPE\n",
    "        DESCRIPTION.\n",
    "    dem_resolution : TYPE\n",
    "        DESCRIPTION.\n",
    "\n",
    "    Returns\n",
    "    -------\n",
    "    col_coord_ME : TYPE\n",
    "        DESCRIPTION.\n",
    "    row_coord_ME : TYPE\n",
    "        DESCRIPTION.\n",
    "    col_px_ME : TYPE\n",
    "        DESCRIPTION.\n",
    "    row_px_ME : TYPE\n",
    "        DESCRIPTION.\n",
    "    elev_ME : TYPE\n",
    "        DESCRIPTION.\n",
    "    prof_ME : TYPE\n",
    "        DESCRIPTION.\n",
    "\n",
    "    '''\n",
    "    \n",
    "   \n",
    "    # 2R circles pixel coordinates x2, y2\n",
    "    x2, y2 = rim_detection.xy_circle((2.0*crater_radius) / dem_resolution, \n",
    "                         height_crater_center_px, width_crater_center_px)\n",
    "    \n",
    "    # real values x2, y2\n",
    "    (x2, y2) = (np.round(x2).astype('int'), np.round(y2).astype('int'))\n",
    "                    \n",
    "    # we define the maximum elevation variables   \n",
    "    (col_coord_ME, row_coord_ME, \n",
    "     col_px_ME, row_px_ME, \n",
    "     elev_ME) = [np.ones(len(x2)) for _ in range(5)]\n",
    "    \n",
    "    # profile ID\n",
    "    prof_ME = np.arange(0,512)\n",
    "    \n",
    "    # samples at half the dem_resolution \n",
    "    n_points_along_cs = np.int(np.ceil(2.0*crater_radius/dem_resolution)*2.0)\n",
    "    \n",
    "    # set arrays equal to nan\n",
    "    [array.fill(np.nan) for array in \n",
    "    [col_coord_ME, row_coord_ME, col_px_ME, row_px_ME, elev_ME]]\n",
    "    \n",
    "    \n",
    "    # empty array\n",
    "    cols_disk_seletion_px = []\n",
    "    rows_disk_seletion_px = []\n",
    "    prof = []\n",
    "        \n",
    "    # generate cross sections between the centre of the crater and the 2.0R\n",
    "    # circle pixel coordinates\n",
    "    for ix in range(len(x2)):\n",
    "\n",
    "        # find the pixel coordinates \n",
    "        ncol = x2[ix]\n",
    "        nrow = y2[ix]\n",
    "                \n",
    "        # the distance is calculated, should be equal to two times the crater_radius\n",
    "        (cols, rows) = (np.linspace(height_crater_center_px, ncol, n_points_along_cs),\n",
    "        np.linspace(width_crater_center_px, nrow, n_points_along_cs))\n",
    "        \n",
    "        # Extract the values along the line, using cubic interpolation and the \n",
    "        # map coordinates\n",
    "        z = scipy.ndimage.map_coordinates(elevations, np.vstack((cols,rows)))\n",
    "        \n",
    "        cols_disk_seletion_px.append(cols)\n",
    "        rows_disk_seletion_px.append(rows)\n",
    "        prof.append([ix] * len(cols))\n",
    "        \n",
    "    # only integer here\n",
    "    (cols_disk_seletion_px, rows_disk_seletion_px) = (np.round(cols_disk_seletion_px).astype('int'), \n",
    "                                    np.round(rows_disk_seletion_px).astype('int'))\n",
    "                \n",
    "    # and x- and y-coordinates in meters (this is correct now) # weird\n",
    "    width_seletion = ymesh[cols_disk_seletion_px,rows_disk_seletion_px]\n",
    "    height_seletion = xmesh[cols_disk_seletion_px,rows_disk_seletion_px]\n",
    "    \n",
    "    return (height_seletion, width_seletion, prof)"
   ]
  },
  {
   "cell_type": "markdown",
   "metadata": {},
   "source": [
    "### Need to get the map proj. from the rayed crater layer (for later, when I will export the points to QGIS to make nice plots)\n",
    "But also the crater diameter so that is much easier"
   ]
  },
  {
   "cell_type": "code",
   "execution_count": 4,
   "metadata": {},
   "outputs": [],
   "source": [
    "df = gpd.read_file(\"/home/nilscp/GIT/crater_morphometry/data/rayed_craters/rayed_craters.shp\")"
   ]
  },
  {
   "cell_type": "code",
   "execution_count": 5,
   "metadata": {},
   "outputs": [
    {
     "data": {
      "text/plain": [
       "<Projected CRS: PROJCS[\"SimpleCylindrical_Moon\",GEOGCS[\"GCS_Moon\", ...>\n",
       "Name: SimpleCylindrical_Moon\n",
       "Axis Info [cartesian]:\n",
       "- [east]: Easting (metre)\n",
       "- [north]: Northing (metre)\n",
       "Area of Use:\n",
       "- undefined\n",
       "Coordinate Operation:\n",
       "- name: unnamed\n",
       "- method: Equidistant Cylindrical\n",
       "Datum: D_Moon\n",
       "- Ellipsoid: Moon\n",
       "- Prime Meridian: Reference_Meridian"
      ]
     },
     "execution_count": 5,
     "metadata": {},
     "output_type": "execute_result"
    }
   ],
   "source": [
    "df.crs"
   ]
  },
  {
   "cell_type": "markdown",
   "metadata": {},
   "source": [
    "### Selection of Linne crater"
   ]
  },
  {
   "cell_type": "code",
   "execution_count": 6,
   "metadata": {},
   "outputs": [],
   "source": [
    "# some information related to the crater008\n",
    "crater_id = 'crater0173'\n",
    "i = 173\n",
    "\n",
    "crater_dem = Path('/home/nilscp/tmp/crater/' + crater_id + '.tif')\n",
    "scaling_factor = 0.5\n",
    "dem_resolution = 59.22529380000000288\n",
    "crater_radius = (df.Diam_km.iloc[i]*1000.0) / 2.0"
   ]
  },
  {
   "cell_type": "markdown",
   "metadata": {},
   "source": [
    "### To read the raster with rasterio"
   ]
  },
  {
   "cell_type": "code",
   "execution_count": 7,
   "metadata": {},
   "outputs": [
    {
     "data": {
      "text/plain": [
       "((313, 312), (1, 313, 312))"
      ]
     },
     "execution_count": 7,
     "metadata": {},
     "output_type": "execute_result"
    }
   ],
   "source": [
    "with rio.open(crater_dem) as src:\n",
    "    array = src.read()\n",
    "    meta = src.profile\n",
    "    \n",
    "reshaped_array = reshape_as_image(array)[:,:,0]\n",
    "reshaped_array.shape, array.shape"
   ]
  },
  {
   "cell_type": "code",
   "execution_count": 8,
   "metadata": {},
   "outputs": [
    {
     "data": {
      "text/plain": [
       "{'driver': 'GTiff', 'dtype': 'int16', 'nodata': -32768.0, 'width': 312, 'height': 313, 'count': 1, 'crs': CRS.from_wkt('PROJCS[\"Equirectangular Moon\",GEOGCS[\"GCS_Moon\",DATUM[\"D_Moon\",SPHEROID[\"Moon_localRadius\",1737400,0]],PRIMEM[\"Reference_Meridian\",0],UNIT[\"degree\",0.0174532925199433,AUTHORITY[\"EPSG\",\"9122\"]]],PROJECTION[\"Equirectangular\"],PARAMETER[\"standard_parallel_1\",0],PARAMETER[\"central_meridian\",0],PARAMETER[\"false_easting\",0],PARAMETER[\"false_northing\",0],UNIT[\"metre\",1,AUTHORITY[\"EPSG\",\"9001\"]],AXIS[\"Easting\",EAST],AXIS[\"Northing\",NORTH]]'), 'transform': Affine(59.2252938, 0.0, 348600.0795678003,\n",
       "       0.0, -59.2252938, 850475.2188810001), 'tiled': False, 'interleave': 'band'}"
      ]
     },
     "execution_count": 8,
     "metadata": {},
     "output_type": "execute_result"
    }
   ],
   "source": [
    "meta"
   ]
  },
  {
   "cell_type": "markdown",
   "metadata": {},
   "source": [
    "### upper left coordinates (origin) of the raster"
   ]
  },
  {
   "cell_type": "code",
   "execution_count": 9,
   "metadata": {},
   "outputs": [
    {
     "data": {
      "text/plain": [
       "(348600.0795678003, 850475.2188810001)"
      ]
     },
     "execution_count": 9,
     "metadata": {},
     "output_type": "execute_result"
    }
   ],
   "source": [
    "x_origin = meta['transform'][2]\n",
    "y_origin = meta['transform'][5]\n",
    "\n",
    "x_origin, y_origin"
   ]
  },
  {
   "cell_type": "markdown",
   "metadata": {},
   "source": [
    "### Get the centre of the crater"
   ]
  },
  {
   "cell_type": "code",
   "execution_count": 10,
   "metadata": {},
   "outputs": [],
   "source": [
    "# infer dem resolution from the crater dem \n",
    "dem_resolution = meta['transform'][0]\n",
    "\n",
    "# height scaling factor for the SLDEM2015\n",
    "z = reshaped_array * scaling_factor\n",
    "\n",
    "# we would like to have a square array so we take the min\n",
    "min_of_shape = np.min(z.shape)\n",
    "z_square = z[:min_of_shape, :min_of_shape]\n",
    "\n",
    "x_y = np.linspace(0,(min_of_shape-1)*dem_resolution,min_of_shape)\n",
    "x_y_center = np.linspace(dem_resolution/2.0, (dem_resolution/2.0) + \n",
    "                         ((min_of_shape-1)*dem_resolution), min_of_shape)\n",
    "\n",
    "# mix up, so actually x is equivalent to the width and columns\n",
    "height_mesh, width_mesh = np.meshgrid(x_y, x_y, indexing='ij') \n",
    "height_mesh_center, width_mesh_center = np.meshgrid(x_y_center, x_y_center, indexing='ij') \n",
    "\n",
    "(height_px, width_px) = np.meshgrid(np.arange(min_of_shape), np.arange(min_of_shape), indexing='ij') \n",
    "\n",
    "# centre of the map\n",
    "x_center_px = int(min_of_shape / 2)\n",
    "y_center_px = int(min_of_shape / 2)"
   ]
  },
  {
   "cell_type": "code",
   "execution_count": 11,
   "metadata": {},
   "outputs": [
    {
     "data": {
      "text/plain": [
       "[<matplotlib.lines.Line2D at 0x7f49bdd23790>]"
      ]
     },
     "execution_count": 11,
     "metadata": {},
     "output_type": "execute_result"
    },
    {
     "data": {
      "image/png": "[encoded data removed]",
      "text/plain": [
       "<Figure size 432x288 with 1 Axes>"
      ]
     },
     "metadata": {
      "needs_background": "light"
     },
     "output_type": "display_data"
    }
   ],
   "source": [
    "plt.imshow(z_square)\n",
    "plt.plot(height_px[y_center_px,:], width_px[y_center_px,:], \"ko\") #W-E\n",
    "plt.plot(height_px[:,x_center_px], width_px[:,x_center_px], \"bo\") #N-S"
   ]
  },
  {
   "cell_type": "markdown",
   "metadata": {},
   "source": [
    "### First detrending + detection of maximum and local elevations (+ break in slope changes)"
   ]
  },
  {
   "cell_type": "code",
   "execution_count": 12,
   "metadata": {},
   "outputs": [
    {
     "name": "stderr",
     "output_type": "stream",
     "text": [
      "/home/nilscp/GIT/crater_morphometry/rim_detection/rim_detection.py:514: FutureWarning: `rcond` parameter will change to the default of machine precision times ``max(M, N)`` where M and N are the input matrix dimensions.\n",
      "To use the future default and silence this warning we advise to pass `rcond=None`, to keep using the old, explicitly pass `rcond=-1`.\n",
      "  be4stat = np.linalg.lstsq(sbe4,zbe4)[0]\n",
      "/home/nilscp/GIT/crater_morphometry/rim_detection/rim_detection.py:515: FutureWarning: `rcond` parameter will change to the default of machine precision times ``max(M, N)`` where M and N are the input matrix dimensions.\n",
      "To use the future default and silence this warning we advise to pass `rcond=None`, to keep using the old, explicitly pass `rcond=-1`.\n",
      "  aftstat = np.linalg.lstsq(saft,zaft)[0]\n"
     ]
    }
   ],
   "source": [
    "# cols and rows are here mixed up.... should be first row (height) and then column (width)\n",
    "((z_detrended), (height_coord_ME, width_coord_ME, height_px_ME, width_px_ME, elev_ME, prof_ME,\n",
    "            height_coord_LE, width_coord_LE, height_px_LE, width_px_LE, elev_LE, prof_LE,\n",
    "            height_coord_BS, width_coord_BS, height_px_BS, width_px_BS, elev_BS, prof_BS)) = rim_detection.run(crater_dem, crater_radius, scaling_factor)"
   ]
  },
  {
   "cell_type": "markdown",
   "metadata": {},
   "source": [
    "Let's try to export some of this data so that we can make plots in QGIS (Note that as the origin is from the top left, the slicing of the dem to obtain a square dem should not have any affect)\n",
    "\n",
    "### Let's export the centre of the crater"
   ]
  },
  {
   "cell_type": "code",
   "execution_count": 13,
   "metadata": {},
   "outputs": [
    {
     "data": {
      "text/plain": [
       "9239.145832799999"
      ]
     },
     "execution_count": 13,
     "metadata": {},
     "output_type": "execute_result"
    }
   ],
   "source": [
    "x_y[y_center_px]"
   ]
  },
  {
   "cell_type": "code",
   "execution_count": 14,
   "metadata": {},
   "outputs": [
    {
     "data": {
      "text/plain": [
       "9239.145832799999"
      ]
     },
     "execution_count": 14,
     "metadata": {},
     "output_type": "execute_result"
    }
   ],
   "source": [
    "x_y[x_center_px]"
   ]
  },
  {
   "cell_type": "code",
   "execution_count": 15,
   "metadata": {},
   "outputs": [],
   "source": [
    "y_center = y_origin - x_y[y_center_px]\n",
    "x_center = x_origin + x_y[x_center_px]\n",
    "\n",
    "df_xy_center = pd.DataFrame(\n",
    "    {'prof': [0],\n",
    "     'x': [x_center],\n",
    "     'y': [y_center]})\n",
    "\n",
    "gdf_center = gpd.GeoDataFrame(\n",
    "    df_xy_center.prof, geometry=gpd.points_from_xy(df_xy_center.x, df_xy_center.y))\n",
    "\n",
    "gdf_center.crs = df.crs\n",
    "gdf_center.to_file(\"/home/nilscp/tmp/step_by_step/\" + crater_id + \"_centre_crater.shp\")"
   ]
  },
  {
   "cell_type": "markdown",
   "metadata": {},
   "source": [
    "### Export two and three times the scaled radius"
   ]
  },
  {
   "cell_type": "code",
   "execution_count": 52,
   "metadata": {},
   "outputs": [
    {
     "data": {
      "text/plain": [
       "array([[    0.       ,     0.       ,     0.       , ...,     0.       ,\n",
       "            0.       ,     0.       ],\n",
       "       [   59.2252938,    59.2252938,    59.2252938, ...,    59.2252938,\n",
       "           59.2252938,    59.2252938],\n",
       "       [  118.4505876,   118.4505876,   118.4505876, ...,   118.4505876,\n",
       "          118.4505876,   118.4505876],\n",
       "       ...,\n",
       "       [18300.6157842, 18300.6157842, 18300.6157842, ..., 18300.6157842,\n",
       "        18300.6157842, 18300.6157842],\n",
       "       [18359.841078 , 18359.841078 , 18359.841078 , ..., 18359.841078 ,\n",
       "        18359.841078 , 18359.841078 ],\n",
       "       [18419.0663718, 18419.0663718, 18419.0663718, ..., 18419.0663718,\n",
       "        18419.0663718, 18419.0663718]])"
      ]
     },
     "execution_count": 52,
     "metadata": {},
     "output_type": "execute_result"
    }
   ],
   "source": [
    "height_mesh"
   ]
  },
  {
   "cell_type": "code",
   "execution_count": 16,
   "metadata": {},
   "outputs": [],
   "source": [
    "(x_disk_seletion, y_disk_seletion, z_disk_seletion,  z2R3R) = rim_detection.detrending(crater_radius,\n",
    "               2.0, 3.0,\n",
    "               z_square, \n",
    "               dem_resolution, \n",
    "               height_mesh, width_mesh, \n",
    "               y_center_px, x_center_px, \n",
    "               True, debugging=True)"
   ]
  },
  {
   "cell_type": "code",
   "execution_count": 17,
   "metadata": {},
   "outputs": [
    {
     "data": {
      "text/plain": [
       "((11352,), (11352,), (312, 312))"
      ]
     },
     "execution_count": 17,
     "metadata": {},
     "output_type": "execute_result"
    }
   ],
   "source": [
    "x_disk_seletion.shape, y_disk_seletion.shape, z2R3R.shape"
   ]
  },
  {
   "cell_type": "code",
   "execution_count": 18,
   "metadata": {},
   "outputs": [],
   "source": [
    "# again big mess between x and y\n",
    "y_2R3R = y_origin - x_disk_seletion\n",
    "x_2R3R = x_origin + y_disk_seletion\n",
    "\n",
    "df_xy_2R3R = pd.DataFrame(\n",
    "    {'z': list(z_disk_seletion),\n",
    "     'x': list(x_2R3R),\n",
    "     'y': list(y_2R3R)})\n",
    "\n",
    "gdf_2R3R = gpd.GeoDataFrame(\n",
    "    df_xy_2R3R.z, geometry=gpd.points_from_xy(df_xy_2R3R.x, df_xy_2R3R.y))\n",
    "\n",
    "gdf_2R3R.crs = df.crs\n",
    "gdf_2R3R.to_file(\"/home/nilscp/tmp/step_by_step/\" + crater_id + \"_Nov2020_detrending_2R3R.shp\")"
   ]
  },
  {
   "cell_type": "markdown",
   "metadata": {},
   "source": [
    "### Export all the cross sections (with the profile ID so that I can show it in QGIS)"
   ]
  },
  {
   "cell_type": "code",
   "execution_count": 117,
   "metadata": {},
   "outputs": [],
   "source": [
    "(cs_heights_list, cs_widths_list, cs_z_list, cs_prof_list,\n",
    "                height_coord_ME, width_coord_ME, height_px_ME, width_px_ME, elev_ME, prof_ME) = rim_detection.detect_maximum_elevations(height_mesh, width_mesh, \n",
    "                                 y_center_px, x_center_px, \n",
    "                                 z_detrended, crater_radius, dem_resolution, debugging=True)"
   ]
  },
  {
   "cell_type": "code",
   "execution_count": 20,
   "metadata": {},
   "outputs": [
    {
     "data": {
      "text/plain": [
       "<matplotlib.collections.PathCollection at 0x7f49bdd244d0>"
      ]
     },
     "execution_count": 20,
     "metadata": {},
     "output_type": "execute_result"
    },
    {
     "data": {
      "image/png": "[encoded data removed]",
      "text/plain": [
       "<Figure size 432x288 with 1 Axes>"
      ]
     },
     "metadata": {
      "needs_background": "light"
     },
     "output_type": "display_data"
    }
   ],
   "source": [
    "plt.scatter(cs_heights_list, cs_widths_list, c = cs_prof_list)"
   ]
  },
  {
   "cell_type": "code",
   "execution_count": 120,
   "metadata": {},
   "outputs": [],
   "source": [
    "prof_cs = [np.array(x) for x in cs_prof_list]\n",
    "prof_cs = np.array(prof_cs).flatten()\n",
    "height_cs = np.array(cs_heights_list).flatten()\n",
    "width_cs = np.array(cs_widths_list).flatten()\n",
    "#z_cs= np.array(cs_z_list).flatten()"
   ]
  },
  {
   "cell_type": "code",
   "execution_count": 121,
   "metadata": {},
   "outputs": [],
   "source": [
    "y_cs = y_origin - (height_cs *dem_resolution)\n",
    "x_cs = x_origin + (width_cs * dem_resolution)\n",
    "\n",
    "df_cs = pd.DataFrame(\n",
    "    {'prof': list(prof_cs),\n",
    "     'x': list(x_cs),\n",
    "     'y': list(y_cs)})\n",
    "     #'z': list(z_cs)})\n",
    "\n",
    "gdf_cs = gpd.GeoDataFrame(\n",
    "    df_cs.prof, geometry=gpd.points_from_xy(df_cs.x, df_cs.y)) #df_cs.z, \n",
    "\n",
    "gdf_cs.crs = df.crs\n",
    "gdf_cs.to_file(\"/home/nilscp/tmp/step_by_step/\" + crater_id + \"_csNov.shp\")"
   ]
  },
  {
   "cell_type": "markdown",
   "metadata": {},
   "source": [
    "### Let's export the maximum elevation detected"
   ]
  },
  {
   "cell_type": "code",
   "execution_count": 27,
   "metadata": {},
   "outputs": [],
   "source": [
    "y_ME = y_origin - height_coord_ME # these are the values that should be given as height_coord_ME\n",
    "x_ME = x_origin + width_coord_ME  # these are the values that should be given as width_coord_ME\n",
    "\n",
    "df_xy = pd.DataFrame(\n",
    "    {'prof': list(prof_ME),\n",
    "     'x': list(x_ME),\n",
    "     'y': list(y_ME)})\n",
    "\n",
    "gdf = gpd.GeoDataFrame(\n",
    "    df_xy.prof, geometry=gpd.points_from_xy(df_xy.x, df_xy.y))\n",
    "\n",
    "gdf.crs = df.crs\n",
    "gdf.to_file(\"/home/nilscp/tmp/step_by_step/\"  + crater_id + \"_ME_first_detrendNov.shp\")"
   ]
  },
  {
   "cell_type": "markdown",
   "metadata": {},
   "source": [
    "#### Let's export the local elevations"
   ]
  },
  {
   "cell_type": "code",
   "execution_count": 28,
   "metadata": {},
   "outputs": [],
   "source": [
    "y_LE = y_origin - height_coord_LE\n",
    "x_LE = x_origin + width_coord_LE\n",
    "\n",
    "df_xy_LE = pd.DataFrame(\n",
    "    {'prof': list(prof_LE),\n",
    "     'x': list(x_LE),\n",
    "     'y': list(y_LE)})\n",
    "\n",
    "gdf_LE = gpd.GeoDataFrame(\n",
    "    df_xy_LE.prof, geometry=gpd.points_from_xy(df_xy_LE.x, df_xy_LE.y))\n",
    "\n",
    "gdf_LE.crs = df.crs\n",
    "gdf_LE.to_file(\"/home/nilscp/tmp/step_by_step/\"  + crater_id + \"_LE_first_detrendNov.shp\")"
   ]
  },
  {
   "cell_type": "markdown",
   "metadata": {},
   "source": [
    "#### Let's export the change in slopes"
   ]
  },
  {
   "cell_type": "code",
   "execution_count": 29,
   "metadata": {},
   "outputs": [],
   "source": [
    "y_BS = y_origin - height_coord_BS\n",
    "x_BS = x_origin + width_coord_BS\n",
    "\n",
    "df_xy_BS = pd.DataFrame(\n",
    "    {'prof': list(prof_BS),\n",
    "     'x': list(x_BS),\n",
    "     'y': list(y_BS)})\n",
    "\n",
    "gdf_BS = gpd.GeoDataFrame(\n",
    "    df_xy_BS.prof, geometry=gpd.points_from_xy(df_xy_BS.x, df_xy_BS.y))\n",
    "\n",
    "gdf_BS.crs = df.crs\n",
    "gdf_BS.to_file(\"/home/nilscp/tmp/step_by_step/\"  + crater_id + \"_BS_first_detrendNov.shp\")"
   ]
  },
  {
   "cell_type": "markdown",
   "metadata": {},
   "source": [
    "### Let's make a few plots to get an idea of how well the detrending has been performing"
   ]
  },
  {
   "cell_type": "code",
   "execution_count": 30,
   "metadata": {},
   "outputs": [
    {
     "data": {
      "image/png": "[encoded data removed]",
      "text/plain": [
       "<Figure size 864x576 with 1 Axes>"
      ]
     },
     "metadata": {
      "needs_background": "light"
     },
     "output_type": "display_data"
    }
   ],
   "source": [
    "plt.figure(figsize=(12,8))\n",
    "\n",
    "# W-E profile\n",
    "plt.plot(np.arange(len(z_square[y_center_px,:])) * dem_resolution / 1000.0, z_square[y_center_px,:],\"ko\", label = 'Original DEM')\n",
    "plt.plot(np.arange(len(z_detrended[y_center_px,:])) * dem_resolution / 1000.0, z_detrended[y_center_px,:],\"ro\", label = 'Detrended DEM (2R-3R)')\n",
    "plt.ylim((-3000, 1000))\n",
    "plt.legend(loc='lower left', fontsize = 18)\n",
    "plt.xlabel('Distance (km)', fontsize = 20)\n",
    "plt.ylabel('Elevation (m)', fontsize = 20)\n",
    "plt.tick_params(axis='both', which='major', labelsize=16)"
   ]
  },
  {
   "cell_type": "code",
   "execution_count": 31,
   "metadata": {},
   "outputs": [
    {
     "data": {
      "image/png": "[encoded data removed]",
      "text/plain": [
       "<Figure size 864x576 with 1 Axes>"
      ]
     },
     "metadata": {
      "needs_background": "light"
     },
     "output_type": "display_data"
    }
   ],
   "source": [
    "plt.figure(figsize=(12,8))\n",
    "\n",
    "# N-S profile\n",
    "plt.plot(np.arange(len(z_square[:,y_center_px])) * dem_resolution / 1000.0, z_square[:,y_center_px],\"ko\", label = 'Original DEM')\n",
    "plt.plot(np.arange(len(z_detrended[:,y_center_px])) * dem_resolution / 1000.0, z_detrended[:,y_center_px],\"ro\", label = 'Detrended DEM (2R-3R)')\n",
    "plt.ylim((-3000, 1000))\n",
    "plt.legend(loc='lower left', fontsize = 18)\n",
    "plt.xlabel('Distance (km)', fontsize = 20)\n",
    "plt.ylabel('Elevation (m)', fontsize = 20)\n",
    "plt.tick_params(axis='both', which='major', labelsize=16)"
   ]
  },
  {
   "cell_type": "markdown",
   "metadata": {},
   "source": [
    "### Could eventually make a 3D plot with k3D...\n",
    "Or a difference in DEM (before and after detrending) to have a good understanding. If I want to save the new detrended DEM..."
   ]
  },
  {
   "cell_type": "code",
   "execution_count": null,
   "metadata": {},
   "outputs": [],
   "source": [
    "meta"
   ]
  },
  {
   "cell_type": "code",
   "execution_count": null,
   "metadata": {},
   "outputs": [],
   "source": [
    "meta_new_DEM = meta.copy()"
   ]
  },
  {
   "cell_type": "code",
   "execution_count": null,
   "metadata": {},
   "outputs": [],
   "source": [
    "meta_new_DEM['width'] = int(min_of_shape)\n",
    "meta_new_DEM['height'] = int(min_of_shape)\n",
    "meta_new_DEM['dtype'] = 'float64'"
   ]
  },
  {
   "cell_type": "code",
   "execution_count": null,
   "metadata": {},
   "outputs": [],
   "source": [
    "np.shape(z_detrended)"
   ]
  },
  {
   "cell_type": "code",
   "execution_count": null,
   "metadata": {},
   "outputs": [],
   "source": [
    "z_detrended_reshaped = np.reshape(z_detrended, (int(min_of_shape),int(min_of_shape),1))\n",
    "z_square_reshaped = np.reshape(z_square, (int(min_of_shape),int(min_of_shape),1))"
   ]
  },
  {
   "cell_type": "code",
   "execution_count": null,
   "metadata": {},
   "outputs": [],
   "source": [
    "destination = \"/home/nilscp/tmp/step_by_step/\" + crater_id + \"_detrended.tif\"\n",
    "\n",
    "with rio.open(destination, 'w', **meta_new_DEM) as ds:\n",
    "\n",
    "    # reshape to rasterio raster format\n",
    "    ds.write(reshape_as_raster(z_detrended_reshaped))\n",
    "    \n",
    "destination_sq = \"/home/nilscp/tmp/step_by_step/\" + crater_id + \"_square.tif\"\n",
    "\n",
    "with rio.open(destination_sq, 'w', **meta_new_DEM) as ds:\n",
    "\n",
    "    # reshape to rasterio raster format\n",
    "    ds.write(reshape_as_raster(z_square_reshaped))"
   ]
  },
  {
   "cell_type": "markdown",
   "metadata": {},
   "source": [
    "### Stiching of a rim composite"
   ]
  },
  {
   "cell_type": "code",
   "execution_count": 32,
   "metadata": {},
   "outputs": [],
   "source": [
    "# Maximum allowed radial discontinuity Drad (I should convert these values in cells)\n",
    "Drad = 0.1 * crater_radius\n",
    "\n",
    "# Distance of interest (searching distance)\n",
    "Dint = 0.05 * crater_radius\n",
    "\n",
    "\n",
    "OptRims, Omegas, gap, maxradf = rim_detection.rim_composite(y_ME, x_ME, height_px_ME, width_px_ME, elev_ME, prof_ME, \n",
    "                  y_LE, x_LE, height_px_LE, width_px_LE, elev_LE, prof_LE,\n",
    "                  height_mesh, width_mesh, y_center_px, x_center_px, \n",
    "                  Drad, Dint)\n",
    "\n",
    "\n",
    "#rim_composite(height_coord_ME, width_coord_ME, height_px_ME, width_px_ME, elev_ME, profile_ME, \n",
    "#                  height_coord_LE, width_coord_LE, height_px_LE, width_px_LE, elev_LE, profile_LE,\n",
    "#                  height_mesh, width_mesh, height_crater_center_px, width_crater_center_px, \n",
    "#                  maximum_shift_ME, maximum_shift_LE)"
   ]
  },
  {
   "cell_type": "markdown",
   "metadata": {},
   "source": [
    "now have the 16 cross sections (In this case a maximum elevation has been found everywhere, so that local elevation values are not used). The 16 cross sections are similar. "
   ]
  },
  {
   "cell_type": "code",
   "execution_count": 33,
   "metadata": {},
   "outputs": [
    {
     "data": {
      "text/plain": [
       "((1, 5, 512), 1)"
      ]
     },
     "execution_count": 33,
     "metadata": {},
     "output_type": "execute_result"
    }
   ],
   "source": [
    "np.shape(OptRims), np.shape(OptRims)[0] "
   ]
  },
  {
   "cell_type": "code",
   "execution_count": null,
   "metadata": {},
   "outputs": [],
   "source": [
    "#for i in range(16):\n",
    "#    plt.plot(OptRims[i][0,:] + (i*10000), OptRims[i][1,:] ,\"o\") # x and y"
   ]
  },
  {
   "cell_type": "code",
   "execution_count": 34,
   "metadata": {},
   "outputs": [
    {
     "data": {
      "text/plain": [
       "<matplotlib.colorbar.Colorbar at 0x7f49b98a5d10>"
      ]
     },
     "execution_count": 34,
     "metadata": {},
     "output_type": "execute_result"
    },
    {
     "data": {
      "image/png": "[encoded data removed]",
      "text/plain": [
       "<Figure size 432x288 with 2 Axes>"
      ]
     },
     "metadata": {
      "needs_background": "light"
     },
     "output_type": "display_data"
    }
   ],
   "source": [
    "plt.scatter(OptRims[0][1,:][OptRims[0][1,:] != 0], OptRims[0][0,:][OptRims[0][0,:] != 0], c = OptRims[0][-2,:][OptRims[0][1,:] != 0]) # x (width) & y (height) with the name of the profile, need to get rid of zeros\n",
    "plt.colorbar()\n",
    "\n",
    "\n",
    "# xarcgis[~np.isnan(xarcgis)]"
   ]
  },
  {
   "cell_type": "code",
   "execution_count": null,
   "metadata": {},
   "outputs": [],
   "source": [
    "plt.scatter(OptRims[1][1,:][OptRims[1][1,:] != 0], OptRims[1][0,:][OptRims[1][0,:] != 0], c = OptRims[1][-3,:][OptRims[1][1,:] != 0]) # x and y with the elevation \n",
    "plt.colorbar()"
   ]
  },
  {
   "cell_type": "code",
   "execution_count": null,
   "metadata": {},
   "outputs": [],
   "source": [
    "plt.scatter(OptRims[2][1,:][OptRims[2][1,:] != 0], OptRims[2][0,:][OptRims[2][0,:] != 0], c = OptRims[2][-3,:][OptRims[2][1,:] != 0]) # x and y with the elevation \n",
    "plt.colorbar()"
   ]
  },
  {
   "cell_type": "code",
   "execution_count": null,
   "metadata": {},
   "outputs": [],
   "source": [
    "plt.scatter(OptRims[3][1,:][OptRims[3][1,:] != 0], OptRims[3][0,:][OptRims[3][0,:] != 0], c = OptRims[3][-3,:][OptRims[3][1,:] != 0]) # x and y with the elevation \n",
    "plt.colorbar()"
   ]
  },
  {
   "cell_type": "code",
   "execution_count": null,
   "metadata": {},
   "outputs": [],
   "source": [
    "plt.scatter(OptRims[4][1,:][OptRims[4][1,:] != 0], OptRims[4][0,:][OptRims[4][0,:] != 0], c = OptRims[4][-3,:][OptRims[4][1,:] != 0]) # x and y with the elevation \n",
    "plt.colorbar()"
   ]
  },
  {
   "cell_type": "markdown",
   "metadata": {},
   "source": [
    "### Selection of the best rim composite \n",
    "It only make uses of omegas (which are the number of cross section profiles where the maximum elevations failed the selection criteria (within 0.1D of the previous"
   ]
  },
  {
   "cell_type": "code",
   "execution_count": 35,
   "metadata": {},
   "outputs": [
    {
     "name": "stderr",
     "output_type": "stream",
     "text": [
      "/home/nilscp/anaconda3/envs/remoteSensing/lib/python3.7/site-packages/numpy/core/fromnumeric.py:3335: RuntimeWarning: Mean of empty slice.\n",
      "  out=out, **kwargs)\n",
      "/home/nilscp/anaconda3/envs/remoteSensing/lib/python3.7/site-packages/numpy/core/_methods.py:161: RuntimeWarning: invalid value encountered in double_scalars\n",
      "  ret = ret.dtype.type(ret / rcount)\n"
     ]
    }
   ],
   "source": [
    "for i in range(np.shape(OptRims)[0]):\n",
    "    a = np.mean(maxradf[i]) + (0.5*Omegas[i])\n",
    "    if i == 0:\n",
    "        b = a\n",
    "        c = i\n",
    "    else:\n",
    "        if a < b:\n",
    "            b = a\n",
    "            c = i"
   ]
  },
  {
   "cell_type": "markdown",
   "metadata": {},
   "source": [
    "#### I would like to extract several rims composite for an example (and the final selection)"
   ]
  },
  {
   "cell_type": "code",
   "execution_count": null,
   "metadata": {},
   "outputs": [],
   "source": []
  },
  {
   "cell_type": "code",
   "execution_count": null,
   "metadata": {},
   "outputs": [],
   "source": []
  },
  {
   "cell_type": "markdown",
   "metadata": {},
   "source": [
    "### Fitting of a circle through the best rim composite and re-adjusting ot the centre of the crater"
   ]
  },
  {
   "cell_type": "code",
   "execution_count": 36,
   "metadata": {},
   "outputs": [],
   "source": [
    "height_arcgis = np.array(OptRims[c][0,:])\n",
    "height_arcgis = height_arcgis[np.nonzero(height_arcgis)] \n",
    "\n",
    "width_arcgis = np.array(OptRims[c][1,:])\n",
    "width_arcgis = width_arcgis[np.nonzero(width_arcgis)]\n",
    "\n",
    "zarcgis = np.array(OptRims[c][2,:])\n",
    "zarcgis = zarcgis[np.nonzero(height_arcgis)]\n",
    "\n",
    "profgis = np.array(OptRims[c][3,:])\n",
    "profgis = profgis[np.nonzero(height_arcgis)]\n",
    "\n",
    "flaggis = np.array(OptRims[c][4,:])\n",
    "flaggis = flaggis[np.nonzero(height_arcgis)]"
   ]
  },
  {
   "cell_type": "code",
   "execution_count": 37,
   "metadata": {},
   "outputs": [],
   "source": [
    "df_xy_rim_composite = pd.DataFrame(\n",
    "    {'prof': list(profgis),\n",
    "     'x': list(width_arcgis),\n",
    "     'y': list(height_arcgis)})\n",
    "\n",
    "gdf_rim_composite = gpd.GeoDataFrame(\n",
    "    df_xy_rim_composite.prof, geometry=gpd.points_from_xy(df_xy_rim_composite.x, df_xy_rim_composite.y))\n",
    "\n",
    "gdf_rim_composite.crs = df.crs\n",
    "gdf_rim_composite.to_file(\"/home/nilscp/tmp/step_by_step/\"  + crater_id + \"_rim_compositeNov.shp\")"
   ]
  },
  {
   "cell_type": "code",
   "execution_count": 38,
   "metadata": {},
   "outputs": [],
   "source": [
    "xnewcenter, ynewcenter, rnew, residu = geomorphometry.leastsq_circle(width_arcgis,height_arcgis)"
   ]
  },
  {
   "cell_type": "code",
   "execution_count": 39,
   "metadata": {},
   "outputs": [
    {
     "data": {
      "text/plain": [
       "(357692.4388838661,\n",
       " 841389.9938935648,\n",
       " 1198.8310282644534,\n",
       " 357839.2254006003,\n",
       " 841236.0730482001)"
      ]
     },
     "execution_count": 39,
     "metadata": {},
     "output_type": "execute_result"
    }
   ],
   "source": [
    "xnewcenter, ynewcenter, rnew, x_center, y_center"
   ]
  },
  {
   "cell_type": "markdown",
   "metadata": {},
   "source": [
    "### Save location of the new crater centre"
   ]
  },
  {
   "cell_type": "code",
   "execution_count": 40,
   "metadata": {},
   "outputs": [],
   "source": [
    "df_xy_new_center = pd.DataFrame(\n",
    "    {'prof': [0],\n",
    "     'x': [xnewcenter],\n",
    "     'y': [ynewcenter]})\n",
    "\n",
    "gdf_new_center = gpd.GeoDataFrame(\n",
    "    df_xy_new_center.prof, geometry=gpd.points_from_xy(df_xy_new_center.x, df_xy_new_center.y))\n",
    "\n",
    "gdf_new_center.crs = df.crs\n",
    "gdf_new_center.to_file(\"/home/nilscp/tmp/step_by_step/\" + crater_id + \"_new_centre_craterNov.shp\")"
   ]
  },
  {
   "cell_type": "markdown",
   "metadata": {},
   "source": [
    "### Rerun everything with the new location of the crater (including two detrending now)"
   ]
  },
  {
   "cell_type": "code",
   "execution_count": 50,
   "metadata": {},
   "outputs": [],
   "source": [
    "x_new_center_px, y_new_center_px = int(round((xnewcenter - x_origin) / dem_resolution)), int(round((y_origin - ynewcenter) / dem_resolution))"
   ]
  },
  {
   "cell_type": "code",
   "execution_count": 53,
   "metadata": {},
   "outputs": [],
   "source": [
    "(x_disk_seletion2, y_disk_seletion2, z_disk_seletion2,  z2R3R2) = rim_detection.detrending(rnew,\n",
    "               2.0, 3.0,\n",
    "               z_square, \n",
    "               dem_resolution, \n",
    "               height_mesh, width_mesh, \n",
    "               y_new_center_px, x_new_center_px, \n",
    "               True, debugging=True)\n",
    "\n",
    "\n",
    "(x_disk_seletion3, y_disk_seletion3, z_disk_seletion3,  z2R3R3) = rim_detection.detrending(rnew,\n",
    "               0.9, 1.1,\n",
    "               z2R3R2, \n",
    "               dem_resolution, \n",
    "               height_mesh, width_mesh, \n",
    "               y_new_center_px, x_new_center_px, \n",
    "               True, debugging=True)"
   ]
  },
  {
   "cell_type": "code",
   "execution_count": 57,
   "metadata": {},
   "outputs": [
    {
     "data": {
      "image/png": "[encoded data removed]",
      "text/plain": [
       "<Figure size 864x576 with 1 Axes>"
      ]
     },
     "metadata": {
      "needs_background": "light"
     },
     "output_type": "display_data"
    }
   ],
   "source": [
    "plt.figure(figsize=(12,8))\n",
    "\n",
    "# W-E profile\n",
    "#plt.plot(np.arange(len(z_square[y_new_center_px,:])) * dem_resolution / 1000.0, z_square[y_new_center_px,:],\"ko\", label = 'Original DEM')\n",
    "plt.plot(np.arange(len(z2R3R2[y_new_center_px,:])) * dem_resolution / 1000.0, z2R3R2[y_new_center_px,:],\"ro\", label = 'Detrended DEM (2R-3R)')\n",
    "plt.plot(np.arange(len(z2R3R3[y_new_center_px,:])) * dem_resolution / 1000.0, z2R3R3[y_new_center_px,:],\"bo\", label = 'Detrended DEM (0.9R-1.1R)')\n",
    "plt.ylim((-500, 500))\n",
    "plt.legend(loc='lower left', fontsize = 18)\n",
    "plt.xlabel('Distance (km)', fontsize = 20)\n",
    "plt.ylabel('Elevation (m)', fontsize = 20)\n",
    "plt.tick_params(axis='both', which='major', labelsize=16)"
   ]
  },
  {
   "cell_type": "code",
   "execution_count": 58,
   "metadata": {},
   "outputs": [
    {
     "data": {
      "image/png": "[encoded data removed]",
      "text/plain": [
       "<Figure size 864x576 with 1 Axes>"
      ]
     },
     "metadata": {
      "needs_background": "light"
     },
     "output_type": "display_data"
    }
   ],
   "source": [
    "plt.figure(figsize=(12,8))\n",
    "\n",
    "# W-E profile\n",
    "#plt.plot(np.arange(len(z_square[:,y_new_center_px])) * dem_resolution / 1000.0, z_square[:,y_new_center_px],\"ko\", label = 'Original DEM')\n",
    "plt.plot(np.arange(len(z2R3R2[:,y_new_center_px])) * dem_resolution / 1000.0, z2R3R2[:,y_new_center_px],\"ro\", label = 'Detrended DEM (2R-3R)')\n",
    "plt.plot(np.arange(len(z2R3R3[:,y_new_center_px])) * dem_resolution / 1000.0, z2R3R3[:,y_new_center_px],\"bo\", label = 'Detrended DEM (0.9R-1.1R)')\n",
    "plt.ylim((-500, 500))\n",
    "plt.legend(loc='lower left', fontsize = 18)\n",
    "plt.xlabel('Distance (km)', fontsize = 20)\n",
    "plt.ylabel('Elevation (m)', fontsize = 20)\n",
    "plt.tick_params(axis='both', which='major', labelsize=16)"
   ]
  },
  {
   "cell_type": "code",
   "execution_count": 59,
   "metadata": {},
   "outputs": [],
   "source": [
    "# again big mess between x and y\n",
    "y_2R3R_second_detrending = y_origin - x_disk_seletion2\n",
    "x_2R3R_second_detrending = x_origin + y_disk_seletion2\n",
    "\n",
    "df_xy_2R3R = pd.DataFrame(\n",
    "    {'z': list(z_disk_seletion2),\n",
    "     'x': list(x_2R3R_second_detrending),\n",
    "     'y': list(y_2R3R_second_detrending)})\n",
    "\n",
    "gdf_2R3R = gpd.GeoDataFrame(\n",
    "    df_xy_2R3R.z, geometry=gpd.points_from_xy(df_xy_2R3R.x, df_xy_2R3R.y))\n",
    "\n",
    "gdf_2R3R.crs = df.crs\n",
    "gdf_2R3R.to_file(\"/home/nilscp/tmp/step_by_step/\" + crater_id + \"_Nov2020_second_detrending_2R3R.shp\")"
   ]
  },
  {
   "cell_type": "code",
   "execution_count": 60,
   "metadata": {},
   "outputs": [],
   "source": [
    "# again big mess between x and y\n",
    "y_2R3R_second_detrending = y_origin - x_disk_seletion3\n",
    "x_2R3R_second_detrending = x_origin + y_disk_seletion3\n",
    "\n",
    "df_xy_2R3R = pd.DataFrame(\n",
    "    {'z': list(z_disk_seletion3),\n",
    "     'x': list(x_2R3R_second_detrending),\n",
    "     'y': list(y_2R3R_second_detrending)})\n",
    "\n",
    "gdf_2R3R = gpd.GeoDataFrame(\n",
    "    df_xy_2R3R.z, geometry=gpd.points_from_xy(df_xy_2R3R.x, df_xy_2R3R.y))\n",
    "\n",
    "gdf_2R3R.crs = df.crs\n",
    "gdf_2R3R.to_file(\"/home/nilscp/tmp/step_by_step/\" + crater_id + \"_Nov2020_second_detrending_1R.shp\")"
   ]
  },
  {
   "cell_type": "markdown",
   "metadata": {},
   "source": [
    "#### Radial cross sections"
   ]
  },
  {
   "cell_type": "code",
   "execution_count": 61,
   "metadata": {},
   "outputs": [],
   "source": [
    "(cs_heights_list2, cs_widths_list2, cs_z_list2, cs_prof_list2,\n",
    "                height_coord_ME, width_coord_ME, height_px_ME, width_px_ME, elev_ME, prof_ME) = rim_detection.detect_maximum_elevations(height_mesh, width_mesh, \n",
    "                                 y_new_center_px, x_new_center_px, \n",
    "                                 z2R3R3, rnew, dem_resolution, debugging=True)"
   ]
  },
  {
   "cell_type": "code",
   "execution_count": 110,
   "metadata": {},
   "outputs": [],
   "source": [
    "cs_prof_list2_mod = [np.array(x) for x in cs_prof_list2]"
   ]
  },
  {
   "cell_type": "code",
   "execution_count": 112,
   "metadata": {},
   "outputs": [],
   "source": [
    "prof_cs = np.array(cs_prof_list2_mod).flatten()\n",
    "height_cs = np.array(cs_heights_list2).flatten()\n",
    "width_cs = np.array(cs_widths_list2).flatten()\n",
    "z_cs= np.array(cs_z_list2).flatten()"
   ]
  },
  {
   "cell_type": "code",
   "execution_count": 104,
   "metadata": {},
   "outputs": [
    {
     "data": {
      "text/plain": [
       "((41984,), (41984,))"
      ]
     },
     "execution_count": 104,
     "metadata": {},
     "output_type": "execute_result"
    }
   ],
   "source": [
    "df_cs.z.shape, df_cs.prof.shape"
   ]
  },
  {
   "cell_type": "code",
   "execution_count": 114,
   "metadata": {},
   "outputs": [],
   "source": [
    "y_cs = y_origin - (height_cs *dem_resolution)\n",
    "x_cs = x_origin + (width_cs * dem_resolution)\n",
    "\n",
    "df_cs = pd.DataFrame(\n",
    "    {'x': list(x_cs),\n",
    "     'y': list(y_cs),\n",
    "     'prof': list(prof_cs)})\n",
    "     #'z': list(z_cs)})\n",
    "\n",
    "gdf_cs = gpd.GeoDataFrame(\n",
    "    df_cs.prof, geometry=gpd.points_from_xy(df_cs.x, df_cs.y)) #df_cs.z, \n",
    "\n",
    "gdf_cs.crs = df.crs\n",
    "gdf_cs.to_file(\"/home/nilscp/tmp/step_by_step/\" + crater_id + \"_csNov_second_detrendingtest.shp\")"
   ]
  },
  {
   "cell_type": "code",
   "execution_count": 46,
   "metadata": {},
   "outputs": [
    {
     "data": {
      "text/plain": [
       "(156, 156)"
      ]
     },
     "execution_count": 46,
     "metadata": {},
     "output_type": "execute_result"
    }
   ],
   "source": [
    "x_center_px, y_center_px"
   ]
  },
  {
   "cell_type": "markdown",
   "metadata": {},
   "source": [
    "#### Get the px coordinates the closest to the new centers"
   ]
  },
  {
   "cell_type": "code",
   "execution_count": null,
   "metadata": {},
   "outputs": [],
   "source": []
  },
  {
   "cell_type": "markdown",
   "metadata": {},
   "source": [
    "#### Two detrending (between 2.0 and 3.0R  and 0.9 and 1.1R)"
   ]
  },
  {
   "cell_type": "code",
   "execution_count": null,
   "metadata": {},
   "outputs": [],
   "source": []
  },
  {
   "cell_type": "code",
   "execution_count": null,
   "metadata": {},
   "outputs": [],
   "source": []
  },
  {
   "cell_type": "markdown",
   "metadata": {},
   "source": [
    "### Run the calculations from the cross sections"
   ]
  }
 ],
 "metadata": {
  "kernelspec": {
   "display_name": "Python 3",
   "language": "python",
   "name": "python3"
  },
  "language_info": {
   "codemirror_mode": {
    "name": "ipython",
    "version": 3
   },
   "file_extension": ".py",
   "mimetype": "text/x-python",
   "name": "python",
   "nbconvert_exporter": "python",
   "pygments_lexer": "ipython3",
   "version": "3.8.0"
  }
 },
 "nbformat": 4,
 "nbformat_minor": 4
}
