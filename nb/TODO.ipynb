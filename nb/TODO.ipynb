{
 "cells": [
  {
   "cell_type": "markdown",
   "id": "0a3d44b6-bde7-42ae-890f-16e1b73d9297",
   "metadata": {},
   "source": [
    "## TODO\n",
    "- [ ] Fix the mix-up between x and y in the algorithm (it does not affect the results, but it is a problem when results want to be exported to a GIS software.\n",
    "- [ ] "
   ]
  }
 ],
 "metadata": {
  "kernelspec": {
   "display_name": "Python 3",
   "language": "python",
   "name": "python3"
  },
  "language_info": {
   "codemirror_mode": {
    "name": "ipython",
    "version": 3
   },
   "file_extension": ".py",
   "mimetype": "text/x-python",
   "name": "python",
   "nbconvert_exporter": "python",
   "pygments_lexer": "ipython3",
   "version": "3.8.0"
  }
 },
 "nbformat": 4,
 "nbformat_minor": 5
}
