{
 "cells": [
  {
   "cell_type": "code",
   "execution_count": 1,
   "id": "3790a897-5fc5-4d6a-a255-7a37cb913adf",
   "metadata": {},
   "outputs": [
    {
     "name": "stderr",
     "output_type": "stream",
     "text": [
      "/home/nilscp/.pyenv/versions/3.8.0/envs/computer-vision/lib/python3.8/site-packages/geopandas/_compat.py:106: UserWarning: The Shapely GEOS version (3.8.0-CAPI-1.13.1 ) is incompatible with the GEOS version PyGEOS was compiled with (3.10.1-CAPI-1.16.0). Conversions between both will be slow.\n",
      "  warnings.warn(\n"
     ]
    }
   ],
   "source": [
    "import geopandas as gpd\n",
    "import numpy as np\n",
    "import sys\n",
    "\n",
    "sys.path.append(\"/home/nilscp/GIT/crater_morphometry\")\n",
    "import geomorphometry\n",
    "from preprocessing import DEM_extraction\n",
    "from rim_detection import rim_detection\n",
    "from pathlib import Path"
   ]
  },
  {
   "cell_type": "markdown",
   "id": "6cb6d053-bdd7-437a-9fff-ef76a55bf1d5",
   "metadata": {},
   "source": [
    "## Clip DEM and visible image for coldspots (SLDEM2013)\n",
    "bla bla bla"
   ]
  },
  {
   "cell_type": "code",
   "execution_count": 5,
   "id": "cbebdec5-be62-4dc1-969d-76836f0ab2a1",
   "metadata": {},
   "outputs": [],
   "source": [
    "location_of_craters = '/media/nilscp/pampa/ANALYSIS/2022/SLDEM2013vsNAC/global_centre/large_crater_in_NAC.shp'\n",
    "dem = \"/media/nilscp/pampa/Kaguya/SLDEM2013/SLDEM2013.vrt\"\n",
    "orthoimage = \"/media/nilscp/pampa/Kaguya/TCO_MAP_02/TCO_MAP_02.vrt\"\n",
    "clip_distance = 8.0\n",
    "output_dir = \"/media/nilscp/pampa/ANALYSIS/2022/SLDEM2013vsNAC/SLDEM2013/\"\n",
    "output_dir_ortho = \"/media/nilscp/pampa/ANALYSIS/2022/SLDEM2013vsNAC/TCOMAP/\"\n",
    "identifier_dem = \"Kaguya_SLDEM2013\"\n",
    "identifier_orthoimage = \"Kaguya_TCOMAP_02\"\n",
    "shp_folder = \"/media/nilscp/pampa/ANALYSIS/2022/SLDEM2013vsNAC/shapefiles/\""
   ]
  },
  {
   "cell_type": "code",
   "execution_count": 6,
   "id": "8799ca74-11d9-4281-bc7b-aedfb8ad36ab",
   "metadata": {},
   "outputs": [
    {
     "name": "stderr",
     "output_type": "stream",
     "text": [
      "100%|██████████| 7/7 [00:14<00:00,  2.03s/it]\n"
     ]
    }
   ],
   "source": [
    "DEM_extraction.clip_raster_to_crater(location_of_craters, dem, clip_distance, output_dir, shp_folder, identifier_dem, craterID = None)"
   ]
  },
  {
   "cell_type": "code",
   "execution_count": 7,
   "id": "6a488aa1-471f-41a1-9fef-2e51900a670a",
   "metadata": {},
   "outputs": [
    {
     "name": "stderr",
     "output_type": "stream",
     "text": [
      "100%|██████████| 7/7 [00:08<00:00,  1.19s/it]\n"
     ]
    }
   ],
   "source": [
    "DEM_extraction.clip_raster_to_crater(location_of_craters, orthoimage, clip_distance, output_dir_ortho, shp_folder, identifier_orthoimage, craterID = None)"
   ]
  },
  {
   "cell_type": "markdown",
   "id": "fb85b7ef-44ef-4e78-afac-77e2f0f44ad7",
   "metadata": {},
   "source": [
    "## Generate regional (2.0-3.0R) detrended DEM (SLDEM2013, Coldspots craters)"
   ]
  },
  {
   "cell_type": "code",
   "execution_count": 8,
   "id": "68db5172-7bae-43e5-9971-767d80681d24",
   "metadata": {},
   "outputs": [],
   "source": [
    "scaling_factor = 1.0\n",
    "dem_folder = \"/media/nilscp/pampa/ANALYSIS/2022/SLDEM2013vsNAC/SLDEM2013/\"\n",
    "dem_detrended_folder = \"/media/nilscp/pampa/ANALYSIS/2022/SLDEM2013vsNAC/SLDEM2013_detrended/\"\n",
    "craterID = None\n",
    "overwrite=True"
   ]
  },
  {
   "cell_type": "code",
   "execution_count": 9,
   "id": "adcb7f11-32a4-495c-9f8a-8aca55ace4f0",
   "metadata": {},
   "outputs": [
    {
     "name": "stderr",
     "output_type": "stream",
     "text": [
      "100%|██████████| 7/7 [00:02<00:00,  2.43it/s]\n"
     ]
    }
   ],
   "source": [
    "rim_detection.generated_detrended_dem(location_of_craters, scaling_factor, dem_folder, shp_folder, dem_detrended_folder, craterID=craterID, overwrite=overwrite)"
   ]
  },
  {
   "cell_type": "markdown",
   "id": "be1dff9a-e4ac-4599-9512-347583cfbe5e",
   "metadata": {},
   "source": [
    "## Detect rim composite, and update the centre of the crater (Coldspots)"
   ]
  },
  {
   "cell_type": "code",
   "execution_count": 10,
   "id": "516d1c73-e3c8-44ae-b0a9-d243dffa1601",
   "metadata": {},
   "outputs": [],
   "source": [
    "suffix = '_Kaguya_SLDEM2013_detrended.tif'"
   ]
  },
  {
   "cell_type": "code",
   "execution_count": 11,
   "id": "79beb078-9016-4ab1-9b2a-ec69fb689f0c",
   "metadata": {},
   "outputs": [
    {
     "name": "stderr",
     "output_type": "stream",
     "text": [
      "  0%|          | 0/7 [00:00<?, ?it/s]/home/nilscp/GIT/crater_morphometry/rim_detection/rim_detection.py:1033: UserWarning: Column names longer than 10 characters will be truncated when saved to ESRI Shapefile.\n",
      "  gdf.to_file(filename)\n",
      "100%|██████████| 7/7 [00:35<00:00,  5.13s/it]\n"
     ]
    }
   ],
   "source": [
    "rim_detection.main(location_of_craters, dem_detrended_folder, shp_folder, suffix, threshold_min=None, threshold_max=None , craterID = None)"
   ]
  },
  {
   "cell_type": "markdown",
   "id": "3b498215-0c67-4975-ab0f-ea3824ae4984",
   "metadata": {},
   "source": [
    "## Manual check of results\n",
    "It is important to manually check if the detected rims give meaningful results. If not, the polygon can be deleted, and replace by a manually generated ellipse. This should (hopefully) not happen in many cases for fresh impact structures (<5%). However, this is likely to happen more often for degraded craters (such as the rayed crater dataset, that contains both young and old craters). For completion, we are writing down the id of the crater where a problem is detected, to understand if we can improve the rule-based detection of rim in the future. "
   ]
  },
  {
   "cell_type": "markdown",
   "id": "7e4c89bd-ecb9-41aa-85cd-a78909503f3d",
   "metadata": {},
   "source": [
    "## Update centre of craters\n",
    "- Merge the centres of craters together\n",
    "- Merge the polygons of rim composite together (for a faster inspection of results). I think I will here \n",
    "- If this step is not working properly for a crater, its id is written down (most likely due to too low resolution of the DEM, or very special conditions)"
   ]
  },
  {
   "cell_type": "code",
   "execution_count": 10,
   "id": "7b07520b-12d6-44b5-beca-7076ce1bfa4a",
   "metadata": {},
   "outputs": [],
   "source": [
    "out_shapefile = \"/media/nilscp/pampa/ANALYSIS/2022/SLDEM2013vsNAC/global_centre/large_crater_in_NAC_manually_checked.shp\"\n",
    "old_crater_centres = \"/media/nilscp/pampa/ANALYSIS/2022/SLDEM2013vsNAC/global_centre/large_crater_in_NAC.shp\"\n",
    "shp_folder = \"/media/nilscp/pampa/ANALYSIS/2022/SLDEM2013vsNAC/shapefiles/\""
   ]
  },
  {
   "cell_type": "markdown",
   "id": "a671c798-b64e-4dc5-9303-d8c94dd8f5d3",
   "metadata": {},
   "source": [
    "I have a few issues with the indexing of the pandas and geopandas dataframe.. I have run the line below within python to fix index issues..."
   ]
  },
  {
   "cell_type": "code",
   "execution_count": 11,
   "id": "7d54cbb2-3ab5-4cfb-a4fa-143de75309fd",
   "metadata": {
    "collapsed": true,
    "jupyter": {
     "outputs_hidden": true
    },
    "tags": []
   },
   "outputs": [
    {
     "name": "stderr",
     "output_type": "stream",
     "text": [
      "100%|██████████| 386/386 [04:20<00:00,  1.48it/s]\n"
     ]
    },
    {
     "ename": "KeyError",
     "evalue": "'[405, 428, 432, 444, 582, 585, 638, 644, 664, 689, 700, 777, 856, 893, 905, 907, 919, 960, 962, 992, 1010, 1012, 1016, 1021, 1034, 1049, 1050, 1056, 1089, 1117, 1138, 1141, 1189, 1193, 1235, 1248, 1322, 1328, 1339, 1342, 1348, 1350, 1352, 1357, 1358, 1374, 1381, 1390, 1438, 1449, 1452, 1453, 1476, 1512, 1524, 1525, 1535, 1537, 1538, 1541, 1553, 1574, 1579, 1580, 1581, 1592, 1595, 1599, 1606, 1608, 1616, 1617, 1621, 1627, 1634, 1635, 1638, 1649, 1658, 1661, 1662, 1663, 1668, 1670, 1672, 1675, 1679, 1680, 1686, 1688, 1697, 1701, 1705, 1722, 1724, 1725, 1726, 1727, 1730, 1733, 1734, 1736, 1754, 1760, 1763, 1767, 1770, 1774, 1777, 1778, 1782, 1783, 1801, 1803, 1810, 1811, 1821, 1823, 1829, 1830, 1833, 1840, 1843, 1852, 1853, 1856, 1859, 1863, 1865, 1866, 1867, 1872, 1873, 1877, 1878, 1884, 1886, 1887, 1889, 1891, 1892, 1893, 1901, 1903, 1912, 1916, 1932, 1935, 1936, 1938, 1941, 1943, 1944, 1945, 1946, 1952, 1962, 1968, 1970, 1988, 1999, 2016, 2056, 2058, 2071, 2075, 2077, 2086, 2090, 2092, 2095, 2101, 2103, 2116, 2218, 2126, 2134, 2143, 2149, 2152, 2153, 2156, 2170, 2200, 2205, 2206, 2217, 2219, 2223, 2230, 2256, 2259, 2267, 387, 2277] not in index'",
     "output_type": "error",
     "traceback": [
      "\u001b[0;31m---------------------------------------------------------------------------\u001b[0m",
      "\u001b[0;31mKeyError\u001b[0m                                  Traceback (most recent call last)",
      "\u001b[0;32m<ipython-input-11-af210fd87d61>\u001b[0m in \u001b[0;36m<module>\u001b[0;34m\u001b[0m\n\u001b[0;32m----> 1\u001b[0;31m \u001b[0mrim_detection\u001b[0m\u001b[0;34m.\u001b[0m\u001b[0mupdate_crater_centres\u001b[0m\u001b[0;34m(\u001b[0m\u001b[0mshp_folder\u001b[0m\u001b[0;34m,\u001b[0m \u001b[0mout_shapefile\u001b[0m\u001b[0;34m,\u001b[0m \u001b[0mold_crater_centres\u001b[0m\u001b[0;34m,\u001b[0m \u001b[0mreplace_crs\u001b[0m\u001b[0;34m=\u001b[0m\u001b[0;32mFalse\u001b[0m\u001b[0;34m)\u001b[0m\u001b[0;34m\u001b[0m\u001b[0;34m\u001b[0m\u001b[0m\n\u001b[0m",
      "\u001b[0;32m~/GIT/crater_morphometry/rim_detection/rim_detection.py\u001b[0m in \u001b[0;36mupdate_crater_centres\u001b[0;34m(shp_folder, out_shapefile, old_crater_centres, replace_crs)\u001b[0m\n\u001b[1;32m   1475\u001b[0m         \u001b[0mdf_old_eqc\u001b[0m \u001b[0;34m=\u001b[0m \u001b[0mgdf_old_eqc\u001b[0m\u001b[0;34m[\u001b[0m\u001b[0;34m[\u001b[0m\u001b[0;34m'CRATER_ID'\u001b[0m\u001b[0;34m,\u001b[0m\u001b[0;34m'lon'\u001b[0m\u001b[0;34m,\u001b[0m\u001b[0;34m'lat'\u001b[0m\u001b[0;34m]\u001b[0m\u001b[0;34m]\u001b[0m\u001b[0;34m\u001b[0m\u001b[0;34m\u001b[0m\u001b[0m\n\u001b[1;32m   1476\u001b[0m         \u001b[0mdf_new_eqc\u001b[0m \u001b[0;34m=\u001b[0m \u001b[0mgdf_centroid_eqc\u001b[0m\u001b[0;34m[\u001b[0m\u001b[0;34m[\u001b[0m\u001b[0;34m'CRATER_ID'\u001b[0m\u001b[0;34m,\u001b[0m\u001b[0;34m'lon'\u001b[0m\u001b[0;34m,\u001b[0m\u001b[0;34m'lat'\u001b[0m\u001b[0;34m]\u001b[0m\u001b[0;34m]\u001b[0m\u001b[0;34m\u001b[0m\u001b[0;34m\u001b[0m\u001b[0m\n\u001b[0;32m-> 1477\u001b[0;31m         \u001b[0mdf_old_eqc_sampled\u001b[0m \u001b[0;34m=\u001b[0m \u001b[0mdf_old_eqc\u001b[0m\u001b[0;34m.\u001b[0m\u001b[0mloc\u001b[0m\u001b[0;34m[\u001b[0m\u001b[0mdf_new_eqc\u001b[0m\u001b[0;34m.\u001b[0m\u001b[0mindex\u001b[0m\u001b[0;34m]\u001b[0m\u001b[0;34m\u001b[0m\u001b[0;34m\u001b[0m\u001b[0m\n\u001b[0m\u001b[1;32m   1478\u001b[0m         \u001b[0mgdf_centroid_eqc\u001b[0m\u001b[0;34m[\u001b[0m\u001b[0;34m\"lon\"\u001b[0m\u001b[0;34m]\u001b[0m \u001b[0;34m=\u001b[0m \u001b[0mdf_old_eqc_sampled\u001b[0m\u001b[0;34m[\u001b[0m\u001b[0;34m\"lon\"\u001b[0m\u001b[0;34m]\u001b[0m\u001b[0;34m.\u001b[0m\u001b[0mvalues\u001b[0m\u001b[0;34m\u001b[0m\u001b[0;34m\u001b[0m\u001b[0m\n\u001b[1;32m   1479\u001b[0m         \u001b[0mgdf_centroid_eqc\u001b[0m\u001b[0;34m[\u001b[0m\u001b[0;34m\"lat\"\u001b[0m\u001b[0;34m]\u001b[0m \u001b[0;34m=\u001b[0m \u001b[0mdf_old_eqc_sampled\u001b[0m\u001b[0;34m[\u001b[0m\u001b[0;34m\"lat\"\u001b[0m\u001b[0;34m]\u001b[0m\u001b[0;34m.\u001b[0m\u001b[0mvalues\u001b[0m\u001b[0;34m\u001b[0m\u001b[0;34m\u001b[0m\u001b[0m\n",
      "\u001b[0;32m~/.pyenv/versions/3.8.0/envs/computer-vision/lib/python3.8/site-packages/pandas/core/indexing.py\u001b[0m in \u001b[0;36m__getitem__\u001b[0;34m(self, key)\u001b[0m\n\u001b[1;32m    929\u001b[0m \u001b[0;34m\u001b[0m\u001b[0m\n\u001b[1;32m    930\u001b[0m             \u001b[0mmaybe_callable\u001b[0m \u001b[0;34m=\u001b[0m \u001b[0mcom\u001b[0m\u001b[0;34m.\u001b[0m\u001b[0mapply_if_callable\u001b[0m\u001b[0;34m(\u001b[0m\u001b[0mkey\u001b[0m\u001b[0;34m,\u001b[0m \u001b[0mself\u001b[0m\u001b[0;34m.\u001b[0m\u001b[0mobj\u001b[0m\u001b[0;34m)\u001b[0m\u001b[0;34m\u001b[0m\u001b[0;34m\u001b[0m\u001b[0m\n\u001b[0;32m--> 931\u001b[0;31m             \u001b[0;32mreturn\u001b[0m \u001b[0mself\u001b[0m\u001b[0;34m.\u001b[0m\u001b[0m_getitem_axis\u001b[0m\u001b[0;34m(\u001b[0m\u001b[0mmaybe_callable\u001b[0m\u001b[0;34m,\u001b[0m \u001b[0maxis\u001b[0m\u001b[0;34m=\u001b[0m\u001b[0maxis\u001b[0m\u001b[0;34m)\u001b[0m\u001b[0;34m\u001b[0m\u001b[0;34m\u001b[0m\u001b[0m\n\u001b[0m\u001b[1;32m    932\u001b[0m \u001b[0;34m\u001b[0m\u001b[0m\n\u001b[1;32m    933\u001b[0m     \u001b[0;32mdef\u001b[0m \u001b[0m_is_scalar_access\u001b[0m\u001b[0;34m(\u001b[0m\u001b[0mself\u001b[0m\u001b[0;34m,\u001b[0m \u001b[0mkey\u001b[0m\u001b[0;34m:\u001b[0m \u001b[0mtuple\u001b[0m\u001b[0;34m)\u001b[0m\u001b[0;34m:\u001b[0m\u001b[0;34m\u001b[0m\u001b[0;34m\u001b[0m\u001b[0m\n",
      "\u001b[0;32m~/.pyenv/versions/3.8.0/envs/computer-vision/lib/python3.8/site-packages/pandas/core/indexing.py\u001b[0m in \u001b[0;36m_getitem_axis\u001b[0;34m(self, key, axis)\u001b[0m\n\u001b[1;32m   1151\u001b[0m                     \u001b[0;32mraise\u001b[0m \u001b[0mValueError\u001b[0m\u001b[0;34m(\u001b[0m\u001b[0;34m\"Cannot index with multidimensional key\"\u001b[0m\u001b[0;34m)\u001b[0m\u001b[0;34m\u001b[0m\u001b[0;34m\u001b[0m\u001b[0m\n\u001b[1;32m   1152\u001b[0m \u001b[0;34m\u001b[0m\u001b[0m\n\u001b[0;32m-> 1153\u001b[0;31m                 \u001b[0;32mreturn\u001b[0m \u001b[0mself\u001b[0m\u001b[0;34m.\u001b[0m\u001b[0m_getitem_iterable\u001b[0m\u001b[0;34m(\u001b[0m\u001b[0mkey\u001b[0m\u001b[0;34m,\u001b[0m \u001b[0maxis\u001b[0m\u001b[0;34m=\u001b[0m\u001b[0maxis\u001b[0m\u001b[0;34m)\u001b[0m\u001b[0;34m\u001b[0m\u001b[0;34m\u001b[0m\u001b[0m\n\u001b[0m\u001b[1;32m   1154\u001b[0m \u001b[0;34m\u001b[0m\u001b[0m\n\u001b[1;32m   1155\u001b[0m             \u001b[0;31m# nested tuple slicing\u001b[0m\u001b[0;34m\u001b[0m\u001b[0;34m\u001b[0m\u001b[0;34m\u001b[0m\u001b[0m\n",
      "\u001b[0;32m~/.pyenv/versions/3.8.0/envs/computer-vision/lib/python3.8/site-packages/pandas/core/indexing.py\u001b[0m in \u001b[0;36m_getitem_iterable\u001b[0;34m(self, key, axis)\u001b[0m\n\u001b[1;32m   1091\u001b[0m \u001b[0;34m\u001b[0m\u001b[0m\n\u001b[1;32m   1092\u001b[0m         \u001b[0;31m# A collection of keys\u001b[0m\u001b[0;34m\u001b[0m\u001b[0;34m\u001b[0m\u001b[0;34m\u001b[0m\u001b[0m\n\u001b[0;32m-> 1093\u001b[0;31m         \u001b[0mkeyarr\u001b[0m\u001b[0;34m,\u001b[0m \u001b[0mindexer\u001b[0m \u001b[0;34m=\u001b[0m \u001b[0mself\u001b[0m\u001b[0;34m.\u001b[0m\u001b[0m_get_listlike_indexer\u001b[0m\u001b[0;34m(\u001b[0m\u001b[0mkey\u001b[0m\u001b[0;34m,\u001b[0m \u001b[0maxis\u001b[0m\u001b[0;34m)\u001b[0m\u001b[0;34m\u001b[0m\u001b[0;34m\u001b[0m\u001b[0m\n\u001b[0m\u001b[1;32m   1094\u001b[0m         return self.obj._reindex_with_indexers(\n\u001b[1;32m   1095\u001b[0m             \u001b[0;34m{\u001b[0m\u001b[0maxis\u001b[0m\u001b[0;34m:\u001b[0m \u001b[0;34m[\u001b[0m\u001b[0mkeyarr\u001b[0m\u001b[0;34m,\u001b[0m \u001b[0mindexer\u001b[0m\u001b[0;34m]\u001b[0m\u001b[0;34m}\u001b[0m\u001b[0;34m,\u001b[0m \u001b[0mcopy\u001b[0m\u001b[0;34m=\u001b[0m\u001b[0;32mTrue\u001b[0m\u001b[0;34m,\u001b[0m \u001b[0mallow_dups\u001b[0m\u001b[0;34m=\u001b[0m\u001b[0;32mTrue\u001b[0m\u001b[0;34m\u001b[0m\u001b[0;34m\u001b[0m\u001b[0m\n",
      "\u001b[0;32m~/.pyenv/versions/3.8.0/envs/computer-vision/lib/python3.8/site-packages/pandas/core/indexing.py\u001b[0m in \u001b[0;36m_get_listlike_indexer\u001b[0;34m(self, key, axis)\u001b[0m\n\u001b[1;32m   1312\u001b[0m             \u001b[0mkeyarr\u001b[0m\u001b[0;34m,\u001b[0m \u001b[0mindexer\u001b[0m\u001b[0;34m,\u001b[0m \u001b[0mnew_indexer\u001b[0m \u001b[0;34m=\u001b[0m \u001b[0max\u001b[0m\u001b[0;34m.\u001b[0m\u001b[0m_reindex_non_unique\u001b[0m\u001b[0;34m(\u001b[0m\u001b[0mkeyarr\u001b[0m\u001b[0;34m)\u001b[0m\u001b[0;34m\u001b[0m\u001b[0;34m\u001b[0m\u001b[0m\n\u001b[1;32m   1313\u001b[0m \u001b[0;34m\u001b[0m\u001b[0m\n\u001b[0;32m-> 1314\u001b[0;31m         \u001b[0mself\u001b[0m\u001b[0;34m.\u001b[0m\u001b[0m_validate_read_indexer\u001b[0m\u001b[0;34m(\u001b[0m\u001b[0mkeyarr\u001b[0m\u001b[0;34m,\u001b[0m \u001b[0mindexer\u001b[0m\u001b[0;34m,\u001b[0m \u001b[0maxis\u001b[0m\u001b[0;34m)\u001b[0m\u001b[0;34m\u001b[0m\u001b[0;34m\u001b[0m\u001b[0m\n\u001b[0m\u001b[1;32m   1315\u001b[0m \u001b[0;34m\u001b[0m\u001b[0m\n\u001b[1;32m   1316\u001b[0m         if needs_i8_conversion(ax.dtype) or isinstance(\n",
      "\u001b[0;32m~/.pyenv/versions/3.8.0/envs/computer-vision/lib/python3.8/site-packages/pandas/core/indexing.py\u001b[0m in \u001b[0;36m_validate_read_indexer\u001b[0;34m(self, key, indexer, axis)\u001b[0m\n\u001b[1;32m   1375\u001b[0m \u001b[0;34m\u001b[0m\u001b[0m\n\u001b[1;32m   1376\u001b[0m             \u001b[0mnot_found\u001b[0m \u001b[0;34m=\u001b[0m \u001b[0mlist\u001b[0m\u001b[0;34m(\u001b[0m\u001b[0mensure_index\u001b[0m\u001b[0;34m(\u001b[0m\u001b[0mkey\u001b[0m\u001b[0;34m)\u001b[0m\u001b[0;34m[\u001b[0m\u001b[0mmissing_mask\u001b[0m\u001b[0;34m.\u001b[0m\u001b[0mnonzero\u001b[0m\u001b[0;34m(\u001b[0m\u001b[0;34m)\u001b[0m\u001b[0;34m[\u001b[0m\u001b[0;36m0\u001b[0m\u001b[0;34m]\u001b[0m\u001b[0;34m]\u001b[0m\u001b[0;34m.\u001b[0m\u001b[0munique\u001b[0m\u001b[0;34m(\u001b[0m\u001b[0;34m)\u001b[0m\u001b[0;34m)\u001b[0m\u001b[0;34m\u001b[0m\u001b[0;34m\u001b[0m\u001b[0m\n\u001b[0;32m-> 1377\u001b[0;31m             \u001b[0;32mraise\u001b[0m \u001b[0mKeyError\u001b[0m\u001b[0;34m(\u001b[0m\u001b[0;34mf\"{not_found} not in index\"\u001b[0m\u001b[0;34m)\u001b[0m\u001b[0;34m\u001b[0m\u001b[0;34m\u001b[0m\u001b[0m\n\u001b[0m\u001b[1;32m   1378\u001b[0m \u001b[0;34m\u001b[0m\u001b[0m\n\u001b[1;32m   1379\u001b[0m \u001b[0;34m\u001b[0m\u001b[0m\n",
      "\u001b[0;31mKeyError\u001b[0m: '[405, 428, 432, 444, 582, 585, 638, 644, 664, 689, 700, 777, 856, 893, 905, 907, 919, 960, 962, 992, 1010, 1012, 1016, 1021, 1034, 1049, 1050, 1056, 1089, 1117, 1138, 1141, 1189, 1193, 1235, 1248, 1322, 1328, 1339, 1342, 1348, 1350, 1352, 1357, 1358, 1374, 1381, 1390, 1438, 1449, 1452, 1453, 1476, 1512, 1524, 1525, 1535, 1537, 1538, 1541, 1553, 1574, 1579, 1580, 1581, 1592, 1595, 1599, 1606, 1608, 1616, 1617, 1621, 1627, 1634, 1635, 1638, 1649, 1658, 1661, 1662, 1663, 1668, 1670, 1672, 1675, 1679, 1680, 1686, 1688, 1697, 1701, 1705, 1722, 1724, 1725, 1726, 1727, 1730, 1733, 1734, 1736, 1754, 1760, 1763, 1767, 1770, 1774, 1777, 1778, 1782, 1783, 1801, 1803, 1810, 1811, 1821, 1823, 1829, 1830, 1833, 1840, 1843, 1852, 1853, 1856, 1859, 1863, 1865, 1866, 1867, 1872, 1873, 1877, 1878, 1884, 1886, 1887, 1889, 1891, 1892, 1893, 1901, 1903, 1912, 1916, 1932, 1935, 1936, 1938, 1941, 1943, 1944, 1945, 1946, 1952, 1962, 1968, 1970, 1988, 1999, 2016, 2056, 2058, 2071, 2075, 2077, 2086, 2090, 2092, 2095, 2101, 2103, 2116, 2218, 2126, 2134, 2143, 2149, 2152, 2153, 2156, 2170, 2200, 2205, 2206, 2217, 2219, 2223, 2230, 2256, 2259, 2267, 387, 2277] not in index'"
     ]
    }
   ],
   "source": [
    "rim_detection.update_crater_centres(shp_folder, out_shapefile, old_crater_centres, replace_crs=False)"
   ]
  },
  {
   "cell_type": "markdown",
   "id": "46e6bdcc-669b-47c9-b4d7-929fc8679a01",
   "metadata": {},
   "source": [
    "## Update the DEM, and the 2.0R-3.0R and 0.9R-1.1R detrendings\n",
    "To have the right DEMs"
   ]
  },
  {
   "cell_type": "code",
   "execution_count": 12,
   "id": "0fd36424-1014-4967-b4e5-1200e877e57d",
   "metadata": {},
   "outputs": [],
   "source": [
    "location_of_craters = \"/media/nilscp/pampa/ANALYSIS/2022/SLDEM2013vsNAC/global_centre/large_crater_in_NAC_manually_checked.shp\""
   ]
  },
  {
   "cell_type": "code",
   "execution_count": 13,
   "id": "88b53264-ac81-42d3-9f53-eeea9348e11f",
   "metadata": {},
   "outputs": [
    {
     "name": "stderr",
     "output_type": "stream",
     "text": [
      "100%|██████████| 6/6 [00:11<00:00,  2.00s/it]\n"
     ]
    }
   ],
   "source": [
    "DEM_extraction.clip_raster_to_crater(location_of_craters, dem, clip_distance, output_dir, shp_folder, identifier_dem, craterID = None)"
   ]
  },
  {
   "cell_type": "code",
   "execution_count": 14,
   "id": "13f8e7a5-67f1-48a9-8013-2dfca37f9858",
   "metadata": {},
   "outputs": [
    {
     "name": "stderr",
     "output_type": "stream",
     "text": [
      "100%|██████████| 6/6 [00:07<00:00,  1.21s/it]\n"
     ]
    }
   ],
   "source": [
    "DEM_extraction.clip_raster_to_crater(location_of_craters, orthoimage, clip_distance, output_dir_ortho, shp_folder, identifier_orthoimage, craterID = None)"
   ]
  },
  {
   "cell_type": "code",
   "execution_count": 15,
   "id": "e0b0812f-0a7a-4b7c-a621-16d95475aca4",
   "metadata": {},
   "outputs": [
    {
     "name": "stderr",
     "output_type": "stream",
     "text": [
      "100%|██████████| 6/6 [00:02<00:00,  2.38it/s]\n"
     ]
    }
   ],
   "source": [
    "rim_detection.generated_detrended_dem(location_of_craters, scaling_factor, dem_folder, shp_folder, dem_detrended_folder, craterID=craterID, overwrite=overwrite)"
   ]
  },
  {
   "cell_type": "code",
   "execution_count": null,
   "id": "cdc09d8f-c2fd-476c-8983-30c254969e95",
   "metadata": {},
   "outputs": [],
   "source": []
  },
  {
   "cell_type": "markdown",
   "id": "a41d4110-de18-41f5-9924-a09aa41152ac",
   "metadata": {},
   "source": [
    "## Calculate morphometrical parameters from the second ellipse (of the second run)\n",
    "- load ellipse in pixel coordinates (can also give the possibility to use points and not the ellipse!)\n",
    "- create an ellipse with 2.0 r\n",
    "- I could add the possibility to add manually an ellipse for the few cases where the ellipse is not representing well the rim of the crater"
   ]
  },
  {
   "cell_type": "code",
   "execution_count": null,
   "id": "c16501d8-f3cf-45b7-b469-c08616951d81",
   "metadata": {},
   "outputs": [],
   "source": [
    "location_of_craters = \"/media/nilscp/pampa/ANALYSIS/2022/SLDEM2013vsNAC/global_centre/large_crater_in_NAC_manually_checked.shp\"\n",
    "shp_folder = \"/media/nilscp/pampa/ANALYSIS/2022/SLDEM2013vsNAC/shapefiles/\"\n",
    "dem_folder = \"/media/nilscp/pampa/ANALYSIS/2022/SLDEM2013vsNAC/SLDEM2013_detrended/\"\n",
    "suffix = \"_Kaguya_SLDEM2013_detrended.tif\"\n",
    "prefix = 'crater'\n",
    "craterID=None"
   ]
  },
  {
   "cell_type": "code",
   "execution_count": null,
   "id": "87704419-3676-4b47-a938-ac9b78f9b2cf",
   "metadata": {},
   "outputs": [],
   "source": []
  }
 ],
 "metadata": {
  "kernelspec": {
   "display_name": "Python 3",
   "language": "python",
   "name": "python3"
  },
  "language_info": {
   "codemirror_mode": {
    "name": "ipython",
    "version": 3
   },
   "file_extension": ".py",
   "mimetype": "text/x-python",
   "name": "python",
   "nbconvert_exporter": "python",
   "pygments_lexer": "ipython3",
   "version": "3.8.0"
  }
 },
 "nbformat": 4,
 "nbformat_minor": 5
}
