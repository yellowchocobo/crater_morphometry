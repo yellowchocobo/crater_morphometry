{
 "cells": [
  {
   "cell_type": "code",
   "execution_count": 1,
   "id": "3790a897-5fc5-4d6a-a255-7a37cb913adf",
   "metadata": {},
   "outputs": [
    {
     "name": "stderr",
     "output_type": "stream",
     "text": [
      "/home/nilscp/.pyenv/versions/3.8.0/envs/computer-vision/lib/python3.8/site-packages/geopandas/_compat.py:106: UserWarning: The Shapely GEOS version (3.8.0-CAPI-1.13.1 ) is incompatible with the GEOS version PyGEOS was compiled with (3.10.1-CAPI-1.16.0). Conversions between both will be slow.\n",
      "  warnings.warn(\n"
     ]
    }
   ],
   "source": [
    "import numpy as np\n",
    "import sys\n",
    "\n",
    "sys.path.append(\"/home/nilscp/GIT/crater_morphometry\")\n",
    "import geomorphometry\n",
    "from preprocessing import DEM_extraction\n",
    "from rim_detection import rim_detection\n",
    "from pathlib import Path"
   ]
  },
  {
   "cell_type": "markdown",
   "id": "024dba39-6d46-428e-bbfe-5f3155fc26d0",
   "metadata": {},
   "source": [
    "## Clip DEM and visible image for rayed craters (SLDEM2015)"
   ]
  },
  {
   "cell_type": "code",
   "execution_count": 2,
   "id": "78163fc5-320e-4072-83c8-29f58b3567b1",
   "metadata": {},
   "outputs": [],
   "source": [
    "location_of_craters = '/home/nilscp/GIT/crater_morphometry/data/rayed_craters/rayed_craters_centroids.shp'\n",
    "dem = \"/home/nilscp/QGIS/Moon/globalMosaics/Lunar_LRO_LrocKaguya_DEMmerge_60N60S_512ppd.tif\"\n",
    "orthoimage = \"/home/nilscp/QGIS/Moon/globalMosaics/Lunar_LRO_LROC-WAC_Mosaic_global_100m_June2013.tif\"\n",
    "clip_distance = 8.0\n",
    "output_dir = \"/home/nilscp/tmp/fresh_impact_craters/SLDEM2015_RayedCraters/\"\n",
    "output_dir_ortho = \"/home/nilscp/tmp/fresh_impact_craters/LROWAC_RayedCraters/\"\n",
    "identifier_dem = \"LROKaguyaDEM\"\n",
    "identifier_orthoimage = \"LROWAC\""
   ]
  },
  {
   "cell_type": "code",
   "execution_count": 4,
   "id": "1004edcc-52c4-45df-9b9a-88df0cc954d9",
   "metadata": {},
   "outputs": [
    {
     "name": "stderr",
     "output_type": "stream",
     "text": [
      "100%|██████████| 1471/1471 [36:24<00:00,  1.48s/it] \n"
     ]
    }
   ],
   "source": [
    "DEM_extraction.clip_raster_to_crater(location_of_craters, dem, clip_distance,\n",
    "                          output_dir, identifier_dem, craterID = None)"
   ]
  },
  {
   "cell_type": "code",
   "execution_count": null,
   "id": "25d387c8-fe4f-43a7-a15f-227ecf7c1700",
   "metadata": {},
   "outputs": [],
   "source": [
    "DEM_extraction.clip_raster_to_crater(location_of_craters, orthoimage, clip_distance,\n",
    "                          output_dir_ortho, identifier_orthoimage, craterID = None)"
   ]
  },
  {
   "cell_type": "markdown",
   "id": "241d6232-7107-4f0f-89eb-052451973915",
   "metadata": {},
   "source": [
    "## Generate regional (2.0-3.0R) detrended DEM (SLDEM2015, Rayed craters)"
   ]
  },
  {
   "cell_type": "code",
   "execution_count": 3,
   "id": "744d6d0c-ae18-4133-ba26-c092c0cc6816",
   "metadata": {},
   "outputs": [],
   "source": [
    "location_of_craters = '/home/nilscp/GIT/crater_morphometry/data/rayed_craters/rayed_craters_centroids.shp'\n",
    "scaling_factor = 0.5\n",
    "dem_folder = \"/home/nilscp/tmp/fresh_impact_craters/SLDEM2015_RayedCraters/\"\n",
    "dem_detrended_folder = \"/home/nilscp/tmp/fresh_impact_craters/dem_detrended/\"\n",
    "craterID = None\n",
    "overwrite = False"
   ]
  },
  {
   "cell_type": "code",
   "execution_count": 4,
   "id": "38f365d7-44e4-4c0d-a151-a9ac321eaf8a",
   "metadata": {},
   "outputs": [
    {
     "name": "stderr",
     "output_type": "stream",
     "text": [
      "100%|██████████| 1471/1471 [06:42<00:00,  3.65it/s]\n"
     ]
    }
   ],
   "source": [
    "rim_detection.generated_detrended_dem(location_of_craters, scaling_factor, dem_folder, dem_detrended_folder, craterID=craterID, overwrite=overwrite)"
   ]
  },
  {
   "cell_type": "markdown",
   "id": "157a2c0a-3b10-4e1e-81b0-5a87e20a3a1f",
   "metadata": {},
   "source": [
    "## Detect rim composite, and update the centre of the crater"
   ]
  },
  {
   "cell_type": "code",
   "execution_count": 3,
   "id": "b9c8536b-1884-44d9-955f-56820496d5b5",
   "metadata": {},
   "outputs": [],
   "source": [
    "location_of_craters = '/home/nilscp/GIT/crater_morphometry/data/rayed_craters/rayed_craters_centroids.shp'\n",
    "dem_folder = '/home/nilscp/tmp/fresh_impact_craters/dem_detrended/'\n",
    "shp_folder = '/home/nilscp/tmp/fresh_impact_craters/shapefiles/'\n",
    "suffix = '_LROKaguyaDEM_detrended.tif'"
   ]
  },
  {
   "cell_type": "code",
   "execution_count": null,
   "id": "8146edae-3b60-4de1-ba69-9bee8c85f0b0",
   "metadata": {},
   "outputs": [
    {
     "name": "stderr",
     "output_type": "stream",
     "text": [
      "  0%|          | 0/1471 [00:00<?, ?it/s]"
     ]
    }
   ],
   "source": [
    "rim_detection.main(location_of_craters, dem_folder, shp_folder, suffix, craterID = None)"
   ]
  },
  {
   "cell_type": "markdown",
   "id": "694c6b8f-5946-4dc1-b8d7-3a011982bb65",
   "metadata": {},
   "source": [
    "#### For the SLDEM2013 (Kaguya, resolution of about 7 m)"
   ]
  },
  {
   "cell_type": "code",
   "execution_count": null,
   "id": "d07db0b4-9955-4289-b39b-663d559a5149",
   "metadata": {},
   "outputs": [],
   "source": [
    "location_of_craters = '/home/nilscp/GIT/crater_morphometry/data/rayed_craters/rayed_craters_centroids_kaguya.shp'\n",
    "dem_folder = '/home/nilscp/tmp/fresh_impact_craters/SLDEM2015_RayedCraters/'\n",
    "shp_folder = '/media/nilscp/pampa/ANALYSIS/2022/shapefiles/RayedCraters/'\n",
    "scaling_factor = 1.0\n",
    "suffix = '_Kaguya_SLDEM2013.tif'"
   ]
  },
  {
   "cell_type": "code",
   "execution_count": null,
   "id": "4fd10c5d-a630-4e12-b829-3bb2b587a5ad",
   "metadata": {},
   "outputs": [],
   "source": [
    "rim_detection.main(location_of_craters, dem_folder, shp_folder,  scaling_factor,\n",
    "         suffix, craterID = None)"
   ]
  },
  {
   "cell_type": "markdown",
   "id": "7e4c89bd-ecb9-41aa-85cd-a78909503f3d",
   "metadata": {},
   "source": [
    "## Update centre of craters\n",
    "- Merge the centres of craters together\n",
    "- Merge the polygons of rim composite together (for a faster inspection of results). I think I will here \n",
    "- If this step is not working properly for a crater, its id is written down (most likely due to too low resolution of the DEM, or very special conditions)"
   ]
  },
  {
   "cell_type": "code",
   "execution_count": null,
   "id": "7b07520b-12d6-44b5-beca-7076ce1bfa4a",
   "metadata": {},
   "outputs": [],
   "source": []
  },
  {
   "cell_type": "markdown",
   "id": "46e6bdcc-669b-47c9-b4d7-929fc8679a01",
   "metadata": {},
   "source": [
    "## Update the DEM, and the 2.0R-3.0R and 0.9R-1.1R detrendings\n",
    "- maybe decrease to 4R to divide the size of DEMs by 2 (for SLDEM2015 and SLDEM2013)\n",
    "- could be that the size of the SLDEM2013 could be decrease moving away from float."
   ]
  },
  {
   "cell_type": "code",
   "execution_count": null,
   "id": "88b53264-ac81-42d3-9f53-eeea9348e11f",
   "metadata": {},
   "outputs": [],
   "source": []
  },
  {
   "cell_type": "markdown",
   "id": "ef62d6a3-402f-43fc-b1da-074e35c05d8e",
   "metadata": {},
   "source": [
    "## Second run to detect rim composite, and update the centre of the crater"
   ]
  },
  {
   "cell_type": "code",
   "execution_count": null,
   "id": "13f8e7a5-67f1-48a9-8013-2dfca37f9858",
   "metadata": {},
   "outputs": [],
   "source": []
  },
  {
   "cell_type": "markdown",
   "id": "a41d4110-de18-41f5-9924-a09aa41152ac",
   "metadata": {},
   "source": [
    "## Calculate morphometrical parameters from the second ellipse (of the second run)\n",
    "- load ellipse in pixel coordinates (can also give the possibility to use points and not the ellipse!)\n",
    "- create an ellipse with 2.0 r\n",
    "- I could add the possibility to add manually an ellipse for the few cases where the ellipse is not representing well the rim of the crater"
   ]
  },
  {
   "cell_type": "code",
   "execution_count": null,
   "id": "c16501d8-f3cf-45b7-b469-c08616951d81",
   "metadata": {},
   "outputs": [],
   "source": []
  },
  {
   "cell_type": "code",
   "execution_count": null,
   "id": "87704419-3676-4b47-a938-ac9b78f9b2cf",
   "metadata": {},
   "outputs": [],
   "source": []
  }
 ],
 "metadata": {
  "kernelspec": {
   "display_name": "Python 3",
   "language": "python",
   "name": "python3"
  },
  "language_info": {
   "codemirror_mode": {
    "name": "ipython",
    "version": 3
   },
   "file_extension": ".py",
   "mimetype": "text/x-python",
   "name": "python",
   "nbconvert_exporter": "python",
   "pygments_lexer": "ipython3",
   "version": "3.8.0"
  }
 },
 "nbformat": 4,
 "nbformat_minor": 5
}
