{
 "cells": [
  {
   "cell_type": "code",
   "execution_count": 1,
   "id": "3790a897-5fc5-4d6a-a255-7a37cb913adf",
   "metadata": {},
   "outputs": [
    {
     "name": "stderr",
     "output_type": "stream",
     "text": [
      "/home/nilscp/.pyenv/versions/3.8.0/envs/computer-vision/lib/python3.8/site-packages/geopandas/_compat.py:106: UserWarning: The Shapely GEOS version (3.8.0-CAPI-1.13.1 ) is incompatible with the GEOS version PyGEOS was compiled with (3.10.1-CAPI-1.16.0). Conversions between both will be slow.\n",
      "  warnings.warn(\n"
     ]
    }
   ],
   "source": [
    "import geopandas as gpd\n",
    "import numpy as np\n",
    "import sys\n",
    "\n",
    "sys.path.append(\"/home/nilscp/GIT/crater_morphometry\")\n",
    "import geomorphometry\n",
    "from preprocessing import DEM_extraction\n",
    "from rim_detection import rim_detection\n",
    "from pathlib import Path"
   ]
  },
  {
   "cell_type": "markdown",
   "id": "f829c628-5993-4d7a-a585-c386abc5896b",
   "metadata": {},
   "source": [
    "## Clip DEM and visible image for rayed craters (SLDEM2013)"
   ]
  },
  {
   "cell_type": "code",
   "execution_count": 2,
   "id": "35e366a0-4c38-4303-9d97-a1e37c0aee48",
   "metadata": {},
   "outputs": [],
   "source": [
    "location_of_craters = '/home/nilscp/GIT/crater_morphometry/data/rayed_craters/rayed_craters_centroids_kaguya.shp'\n",
    "dem = \"/media/nilscp/pampa/Kaguya/SLDEM2013/SLDEM2013.vrt\"\n",
    "orthoimage = \"/media/nilscp/pampa/Kaguya/TCO_MAP_02/TCO_MAP_02.vrt\"\n",
    "clip_distance = 8.0\n",
    "output_dir = \"/media/nilscp/pampa/ANALYSIS/2022/SLDEM2013_RayedCraters/\"\n",
    "output_dir_ortho = \"/media/nilscp/pampa/ANALYSIS/2022/TCOMAP_RayedCraters/\"\n",
    "identifier_dem = \"Kaguya_SLDEM2013\"\n",
    "identifier_orthoimage = \"Kaguya_TCOMAP_02\"\n",
    "shp_folder = \"/media/nilscp/pampa/ANALYSIS/2022/shapefiles/RayedCraters\""
   ]
  },
  {
   "cell_type": "markdown",
   "id": "bf2c2c1e-d0bf-4f2a-8062-edfd89d6f94d",
   "metadata": {},
   "source": [
    "#### Let's limit SLDEM2013 to crater diameter below 7500 m in diameter"
   ]
  },
  {
   "cell_type": "code",
   "execution_count": 4,
   "id": "a6ada299-4d72-44c2-8e55-4fc704037525",
   "metadata": {},
   "outputs": [
    {
     "data": {
      "text/plain": [
       "Index(['lon', 'lat', 'tag', 'CRATER_ID', 'MED_DIAM', 'UNC_DIAM', 'DIAM_25',\n",
       "       'DIAM_75', 'DIAM_MIN', 'DIAM_MAX', 'DEPTH', 'MED_H', 'UNC_H', 'H_25',\n",
       "       'H_75', 'H_MIN', 'H_MAX', 'MED_MCW', 'UNC_MCW', 'MCW_25', 'MCW_75',\n",
       "       'MCW_MIN', 'MCW_MAX', 'MED_UCW', 'UNC_UCW', 'UCW_25', 'UCW_75',\n",
       "       'UCW_MIN', 'UCW_MAX', 'MED_CSE', 'UNC_CSE', 'CSE_25', 'CSE_75',\n",
       "       'CSE_MIN', 'CSE_MAX', 'dD', 'MARE', 'QUALITY', 'TYPE_CRAT',\n",
       "       'IMPACT_MLT', 'WITH_LGCRA', 'RA_CFLOOR', 'RA_EJEC', 'RAYS',\n",
       "       'CEJ_TEXTUR', 'NO_CRAT', 'LIGHT_CRA', 'MED_CRA', 'HEAV_CRA', 'TOTAL',\n",
       "       'CLEM', 'Shape_Leng', 'Shape_Area', 'diam', 'geometry'],\n",
       "      dtype='object')"
      ]
     },
     "execution_count": 4,
     "metadata": {},
     "output_type": "execute_result"
    }
   ],
   "source": [
    "gdf = gpd.read_file(location_of_craters)\n",
    "gdf.columns"
   ]
  },
  {
   "cell_type": "code",
   "execution_count": 5,
   "id": "05ca3a74-d862-4a59-bb62-1146194b06f0",
   "metadata": {},
   "outputs": [],
   "source": [
    "gdf_selection = gdf[gdf.diam < 7500.0]"
   ]
  },
  {
   "cell_type": "code",
   "execution_count": 6,
   "id": "e2aaf61c-2c73-492e-997a-35ed9d48997a",
   "metadata": {},
   "outputs": [
    {
     "data": {
      "text/html": [
       "<div>\n",
       "<style scoped>\n",
       "    .dataframe tbody tr th:only-of-type {\n",
       "        vertical-align: middle;\n",
       "    }\n",
       "\n",
       "    .dataframe tbody tr th {\n",
       "        vertical-align: top;\n",
       "    }\n",
       "\n",
       "    .dataframe thead th {\n",
       "        text-align: right;\n",
       "    }\n",
       "</style>\n",
       "<table border=\"1\" class=\"dataframe\">\n",
       "  <thead>\n",
       "    <tr style=\"text-align: right;\">\n",
       "      <th></th>\n",
       "      <th>lon</th>\n",
       "      <th>lat</th>\n",
       "      <th>tag</th>\n",
       "      <th>CRATER_ID</th>\n",
       "      <th>MED_DIAM</th>\n",
       "      <th>UNC_DIAM</th>\n",
       "      <th>DIAM_25</th>\n",
       "      <th>DIAM_75</th>\n",
       "      <th>DIAM_MIN</th>\n",
       "      <th>DIAM_MAX</th>\n",
       "      <th>...</th>\n",
       "      <th>NO_CRAT</th>\n",
       "      <th>LIGHT_CRA</th>\n",
       "      <th>MED_CRA</th>\n",
       "      <th>HEAV_CRA</th>\n",
       "      <th>TOTAL</th>\n",
       "      <th>CLEM</th>\n",
       "      <th>Shape_Leng</th>\n",
       "      <th>Shape_Area</th>\n",
       "      <th>diam</th>\n",
       "      <th>geometry</th>\n",
       "    </tr>\n",
       "  </thead>\n",
       "  <tbody>\n",
       "    <tr>\n",
       "      <th>16</th>\n",
       "      <td>-172.210501</td>\n",
       "      <td>56.619767</td>\n",
       "      <td>standard</td>\n",
       "      <td>crater0016</td>\n",
       "      <td>5488.27</td>\n",
       "      <td>35.8802</td>\n",
       "      <td>5289.83</td>\n",
       "      <td>5643.39</td>\n",
       "      <td>5008.120</td>\n",
       "      <td>10081.40</td>\n",
       "      <td>...</td>\n",
       "      <td>0.0</td>\n",
       "      <td>0.0</td>\n",
       "      <td>0.0</td>\n",
       "      <td>0.0</td>\n",
       "      <td>-3.0</td>\n",
       "      <td>1.0</td>\n",
       "      <td>25463.517125</td>\n",
       "      <td>4.531376e+07</td>\n",
       "      <td>5634.171259</td>\n",
       "      <td>POINT (-5221999.382 1716901.906)</td>\n",
       "    </tr>\n",
       "    <tr>\n",
       "      <th>17</th>\n",
       "      <td>-174.973257</td>\n",
       "      <td>59.415284</td>\n",
       "      <td>standard</td>\n",
       "      <td>crater0017</td>\n",
       "      <td>1204.95</td>\n",
       "      <td>46.1607</td>\n",
       "      <td>1017.46</td>\n",
       "      <td>1305.17</td>\n",
       "      <td>743.362</td>\n",
       "      <td>2648.64</td>\n",
       "      <td>...</td>\n",
       "      <td>0.0</td>\n",
       "      <td>0.0</td>\n",
       "      <td>0.0</td>\n",
       "      <td>0.0</td>\n",
       "      <td>-2.0</td>\n",
       "      <td>3.0</td>\n",
       "      <td>6604.531640</td>\n",
       "      <td>2.944041e+06</td>\n",
       "      <td>1381.046473</td>\n",
       "      <td>POINT (-5305964.776 1801820.287)</td>\n",
       "    </tr>\n",
       "    <tr>\n",
       "      <th>18</th>\n",
       "      <td>-162.804261</td>\n",
       "      <td>59.203522</td>\n",
       "      <td>standard</td>\n",
       "      <td>crater0018</td>\n",
       "      <td>1455.44</td>\n",
       "      <td>49.4992</td>\n",
       "      <td>1357.97</td>\n",
       "      <td>1621.39</td>\n",
       "      <td>1093.500</td>\n",
       "      <td>2888.14</td>\n",
       "      <td>...</td>\n",
       "      <td>0.0</td>\n",
       "      <td>0.0</td>\n",
       "      <td>0.0</td>\n",
       "      <td>0.0</td>\n",
       "      <td>-3.0</td>\n",
       "      <td>1.0</td>\n",
       "      <td>7123.058318</td>\n",
       "      <td>3.434447e+06</td>\n",
       "      <td>1496.294062</td>\n",
       "      <td>POINT (-4937035.851 1795353.404)</td>\n",
       "    </tr>\n",
       "    <tr>\n",
       "      <th>19</th>\n",
       "      <td>-149.990271</td>\n",
       "      <td>57.858883</td>\n",
       "      <td>standard</td>\n",
       "      <td>crater0019</td>\n",
       "      <td>1478.12</td>\n",
       "      <td>48.4531</td>\n",
       "      <td>1311.66</td>\n",
       "      <td>1692.39</td>\n",
       "      <td>764.654</td>\n",
       "      <td>2735.27</td>\n",
       "      <td>...</td>\n",
       "      <td>-1.0</td>\n",
       "      <td>0.0</td>\n",
       "      <td>0.0</td>\n",
       "      <td>0.0</td>\n",
       "      <td>-5.0</td>\n",
       "      <td>1.0</td>\n",
       "      <td>6752.443680</td>\n",
       "      <td>3.140565e+06</td>\n",
       "      <td>1458.545910</td>\n",
       "      <td>POINT (-4548324.050 1754654.492)</td>\n",
       "    </tr>\n",
       "    <tr>\n",
       "      <th>20</th>\n",
       "      <td>-145.761170</td>\n",
       "      <td>56.827936</td>\n",
       "      <td>standard</td>\n",
       "      <td>crater0020</td>\n",
       "      <td>2446.51</td>\n",
       "      <td>42.8265</td>\n",
       "      <td>2209.16</td>\n",
       "      <td>2641.62</td>\n",
       "      <td>1880.220</td>\n",
       "      <td>5135.21</td>\n",
       "      <td>...</td>\n",
       "      <td>-1.0</td>\n",
       "      <td>0.0</td>\n",
       "      <td>0.0</td>\n",
       "      <td>0.0</td>\n",
       "      <td>-4.0</td>\n",
       "      <td>1.0</td>\n",
       "      <td>11905.605507</td>\n",
       "      <td>9.882765e+06</td>\n",
       "      <td>2623.930029</td>\n",
       "      <td>POINT (-4420014.135 1723292.110)</td>\n",
       "    </tr>\n",
       "  </tbody>\n",
       "</table>\n",
       "<p>5 rows × 55 columns</p>\n",
       "</div>"
      ],
      "text/plain": [
       "           lon        lat       tag   CRATER_ID  MED_DIAM  UNC_DIAM  DIAM_25  \\\n",
       "16 -172.210501  56.619767  standard  crater0016   5488.27   35.8802  5289.83   \n",
       "17 -174.973257  59.415284  standard  crater0017   1204.95   46.1607  1017.46   \n",
       "18 -162.804261  59.203522  standard  crater0018   1455.44   49.4992  1357.97   \n",
       "19 -149.990271  57.858883  standard  crater0019   1478.12   48.4531  1311.66   \n",
       "20 -145.761170  56.827936  standard  crater0020   2446.51   42.8265  2209.16   \n",
       "\n",
       "    DIAM_75  DIAM_MIN  DIAM_MAX  ...  NO_CRAT  LIGHT_CRA  MED_CRA  HEAV_CRA  \\\n",
       "16  5643.39  5008.120  10081.40  ...      0.0        0.0      0.0       0.0   \n",
       "17  1305.17   743.362   2648.64  ...      0.0        0.0      0.0       0.0   \n",
       "18  1621.39  1093.500   2888.14  ...      0.0        0.0      0.0       0.0   \n",
       "19  1692.39   764.654   2735.27  ...     -1.0        0.0      0.0       0.0   \n",
       "20  2641.62  1880.220   5135.21  ...     -1.0        0.0      0.0       0.0   \n",
       "\n",
       "    TOTAL  CLEM    Shape_Leng    Shape_Area         diam  \\\n",
       "16   -3.0   1.0  25463.517125  4.531376e+07  5634.171259   \n",
       "17   -2.0   3.0   6604.531640  2.944041e+06  1381.046473   \n",
       "18   -3.0   1.0   7123.058318  3.434447e+06  1496.294062   \n",
       "19   -5.0   1.0   6752.443680  3.140565e+06  1458.545910   \n",
       "20   -4.0   1.0  11905.605507  9.882765e+06  2623.930029   \n",
       "\n",
       "                            geometry  \n",
       "16  POINT (-5221999.382 1716901.906)  \n",
       "17  POINT (-5305964.776 1801820.287)  \n",
       "18  POINT (-4937035.851 1795353.404)  \n",
       "19  POINT (-4548324.050 1754654.492)  \n",
       "20  POINT (-4420014.135 1723292.110)  \n",
       "\n",
       "[5 rows x 55 columns]"
      ]
     },
     "execution_count": 6,
     "metadata": {},
     "output_type": "execute_result"
    }
   ],
   "source": [
    "gdf_selection.head(5)"
   ]
  },
  {
   "cell_type": "code",
   "execution_count": 7,
   "id": "40503aff-dce7-4e69-bf22-3e1fa70a522c",
   "metadata": {},
   "outputs": [],
   "source": [
    "gdf_selection.to_file('/home/nilscp/GIT/crater_morphometry/data/rayed_craters/rayed_craters_centroids_kaguya-less-than-7500m.shp')"
   ]
  },
  {
   "cell_type": "code",
   "execution_count": 3,
   "id": "8a134e15-4487-4596-905d-d402a72206d5",
   "metadata": {},
   "outputs": [],
   "source": [
    "location_of_craters = '/home/nilscp/GIT/crater_morphometry/data/rayed_craters/rayed_craters_centroids_kaguya-less-than-7500m.shp'"
   ]
  },
  {
   "cell_type": "code",
   "execution_count": 9,
   "id": "30df0a7f-7d94-4d56-adf5-ab577bbce2f5",
   "metadata": {},
   "outputs": [
    {
     "name": "stderr",
     "output_type": "stream",
     "text": [
      "100%|██████████| 1257/1257 [2:00:12<00:00,  5.74s/it] \n"
     ]
    }
   ],
   "source": [
    "DEM_extraction.clip_raster_to_crater(location_of_craters, dem, clip_distance, output_dir, shp_folder, identifier_dem, craterID = None)"
   ]
  },
  {
   "cell_type": "code",
   "execution_count": 4,
   "id": "5ec7aa7d-8a3c-40e1-bb01-24b0b3bb21d6",
   "metadata": {},
   "outputs": [
    {
     "name": "stderr",
     "output_type": "stream",
     "text": [
      "100%|██████████| 1257/1257 [1:13:36<00:00,  3.51s/it]\n"
     ]
    }
   ],
   "source": [
    "DEM_extraction.clip_raster_to_crater(location_of_craters, orthoimage, clip_distance, output_dir_ortho, shp_folder, identifier_orthoimage, craterID = None)"
   ]
  },
  {
   "cell_type": "markdown",
   "id": "fb85b7ef-44ef-4e78-afac-77e2f0f44ad7",
   "metadata": {},
   "source": [
    "## Generate regional (2.0-3.0R) detrended DEM (SLDEM2013, Rayed craters)"
   ]
  },
  {
   "cell_type": "code",
   "execution_count": 4,
   "id": "68db5172-7bae-43e5-9971-767d80681d24",
   "metadata": {},
   "outputs": [],
   "source": [
    "scaling_factor = 1.0\n",
    "dem_folder = \"/media/nilscp/pampa/ANALYSIS/2022/SLDEM2013_RayedCraters/\"\n",
    "dem_detrended_folder = \"/media/nilscp/pampa/ANALYSIS/2022/SLDEM2013_RayedCraters_detrended/\"\n",
    "craterID = None\n",
    "overwrite=True"
   ]
  },
  {
   "cell_type": "code",
   "execution_count": 6,
   "id": "adcb7f11-32a4-495c-9f8a-8aca55ace4f0",
   "metadata": {},
   "outputs": [
    {
     "name": "stderr",
     "output_type": "stream",
     "text": [
      "100%|██████████| 1257/1257 [48:42<00:00,  2.33s/it] \n"
     ]
    }
   ],
   "source": [
    "rim_detection.generated_detrended_dem(location_of_craters, scaling_factor, dem_folder, shp_folder, dem_detrended_folder, craterID=None, overwrite=overwrite)"
   ]
  },
  {
   "cell_type": "markdown",
   "id": "63d24d93-c771-4f8b-acfe-287a6f20da7a",
   "metadata": {},
   "source": [
    "## Detect rim composite, and update the centre of the crater (Rayed craters)"
   ]
  },
  {
   "cell_type": "code",
   "execution_count": 7,
   "id": "1c978563-b854-423e-bc37-5b8edfc912b6",
   "metadata": {},
   "outputs": [],
   "source": [
    "location_of_craters ='/home/nilscp/GIT/crater_morphometry/data/rayed_craters/rayed_craters_centroids_kaguya-less-than-7500m.shp'\n",
    "shp_folder = '/media/nilscp/pampa/ANALYSIS/2022/shapefiles/RayedCraters/'\n",
    "suffix = '_Kaguya_SLDEM2013_detrended.tif'\n",
    "threshold_max_diameter = 7500.0 # no coldspots are larger than 2 km"
   ]
  },
  {
   "cell_type": "code",
   "execution_count": 8,
   "id": "7c218883-db5e-4ba6-854d-2f349fdfd328",
   "metadata": {},
   "outputs": [
    {
     "name": "stderr",
     "output_type": "stream",
     "text": [
      " 27%|██▋       | 334/1257 [21:33<38:28,  2.50s/it]  "
     ]
    },
    {
     "name": "stdout",
     "output_type": "stream",
     "text": [
      "crater0434\n"
     ]
    },
    {
     "name": "stderr",
     "output_type": "stream",
     "text": [
      " 33%|███▎      | 409/1257 [27:41<1:15:51,  5.37s/it]"
     ]
    },
    {
     "name": "stdout",
     "output_type": "stream",
     "text": [
      "crater0533\n"
     ]
    },
    {
     "name": "stderr",
     "output_type": "stream",
     "text": [
      " 33%|███▎      | 414/1257 [27:54<1:02:16,  4.43s/it]"
     ]
    },
    {
     "name": "stdout",
     "output_type": "stream",
     "text": [
      "crater0539\n"
     ]
    },
    {
     "name": "stderr",
     "output_type": "stream",
     "text": [
      " 39%|███▊      | 486/1257 [31:11<26:22,  2.05s/it]  "
     ]
    },
    {
     "name": "stdout",
     "output_type": "stream",
     "text": [
      "crater0622\n"
     ]
    },
    {
     "name": "stderr",
     "output_type": "stream",
     "text": [
      " 46%|████▌     | 573/1257 [34:12<26:40,  2.34s/it]"
     ]
    },
    {
     "name": "stdout",
     "output_type": "stream",
     "text": [
      "crater0712\n"
     ]
    },
    {
     "name": "stderr",
     "output_type": "stream",
     "text": [
      " 46%|████▌     | 581/1257 [34:55<33:54,  3.01s/it]"
     ]
    },
    {
     "name": "stdout",
     "output_type": "stream",
     "text": [
      "crater0724\n"
     ]
    },
    {
     "name": "stderr",
     "output_type": "stream",
     "text": [
      " 51%|█████     | 636/1257 [35:30<12:58,  1.25s/it]"
     ]
    },
    {
     "name": "stdout",
     "output_type": "stream",
     "text": [
      "crater0785\n"
     ]
    },
    {
     "name": "stderr",
     "output_type": "stream",
     "text": [
      " 53%|█████▎    | 665/1257 [35:38<08:06,  1.22it/s]"
     ]
    },
    {
     "name": "stdout",
     "output_type": "stream",
     "text": [
      "crater0818\n"
     ]
    },
    {
     "name": "stderr",
     "output_type": "stream",
     "text": [
      " 59%|█████▉    | 744/1257 [37:44<08:49,  1.03s/it]"
     ]
    },
    {
     "name": "stdout",
     "output_type": "stream",
     "text": [
      "crater0914\n"
     ]
    },
    {
     "name": "stderr",
     "output_type": "stream",
     "text": [
      " 60%|██████    | 760/1257 [37:53<07:24,  1.12it/s]"
     ]
    },
    {
     "name": "stdout",
     "output_type": "stream",
     "text": [
      "crater0931\n"
     ]
    },
    {
     "name": "stderr",
     "output_type": "stream",
     "text": [
      " 68%|██████▊   | 858/1257 [40:27<07:42,  1.16s/it]"
     ]
    },
    {
     "name": "stdout",
     "output_type": "stream",
     "text": [
      "crater1037\n"
     ]
    },
    {
     "name": "stderr",
     "output_type": "stream",
     "text": [
      " 84%|████████▍ | 1056/1257 [43:36<03:58,  1.19s/it]"
     ]
    },
    {
     "name": "stdout",
     "output_type": "stream",
     "text": [
      "crater1260\n"
     ]
    },
    {
     "name": "stderr",
     "output_type": "stream",
     "text": [
      " 86%|████████▌ | 1075/1257 [43:41<02:42,  1.12it/s]"
     ]
    },
    {
     "name": "stdout",
     "output_type": "stream",
     "text": [
      "crater1280\n"
     ]
    },
    {
     "name": "stderr",
     "output_type": "stream",
     "text": [
      " 92%|█████████▏| 1153/1257 [44:56<01:44,  1.00s/it]"
     ]
    },
    {
     "name": "stdout",
     "output_type": "stream",
     "text": [
      "crater1363\n"
     ]
    },
    {
     "name": "stderr",
     "output_type": "stream",
     "text": [
      " 92%|█████████▏| 1160/1257 [45:05<01:41,  1.05s/it]"
     ]
    },
    {
     "name": "stdout",
     "output_type": "stream",
     "text": [
      "crater1370\n"
     ]
    },
    {
     "name": "stderr",
     "output_type": "stream",
     "text": [
      " 94%|█████████▎| 1177/1257 [45:32<01:49,  1.36s/it]"
     ]
    },
    {
     "name": "stdout",
     "output_type": "stream",
     "text": [
      "crater1387\n"
     ]
    },
    {
     "name": "stderr",
     "output_type": "stream",
     "text": [
      " 94%|█████████▍| 1180/1257 [46:03<03:36,  2.81s/it]"
     ]
    },
    {
     "name": "stdout",
     "output_type": "stream",
     "text": [
      "crater1390\n"
     ]
    },
    {
     "name": "stderr",
     "output_type": "stream",
     "text": [
      " 98%|█████████▊| 1233/1257 [58:01<05:14, 13.10s/it]"
     ]
    },
    {
     "name": "stdout",
     "output_type": "stream",
     "text": [
      "crater1446\n"
     ]
    },
    {
     "name": "stderr",
     "output_type": "stream",
     "text": [
      "100%|██████████| 1257/1257 [1:03:27<00:00,  3.03s/it]\n"
     ]
    }
   ],
   "source": [
    "rim_detection.main(location_of_craters, dem_detrended_folder, shp_folder, suffix, threshold_min=None, threshold_max=threshold_max_diameter, craterID = None)"
   ]
  },
  {
   "cell_type": "markdown",
   "id": "7e4c89bd-ecb9-41aa-85cd-a78909503f3d",
   "metadata": {},
   "source": [
    "## Update centre of craters\n",
    "- Merge the centres of craters together\n",
    "- Merge the polygons of rim composite together (for a faster inspection of results). I think I will here \n",
    "- If this step is not working properly for a crater, its id is written down (most likely due to too low resolution of the DEM, or very special conditions)"
   ]
  },
  {
   "cell_type": "code",
   "execution_count": null,
   "id": "7b07520b-12d6-44b5-beca-7076ce1bfa4a",
   "metadata": {},
   "outputs": [],
   "source": [
    "out_shapefile = \"/media/nilscp/pampa/ANALYSIS/2022/shapefiles/RayedCraters/final_crater_center/global/rayed_craters_centroids_kaguya-less-than-7500m-manually-checked.shp\"\n",
    "shp_folder = '/media/nilscp/pampa/ANALYSIS/2022/shapefiles/RayedCraters/polygons'\n",
    "old_crater_centres = '/home/nilscp/GIT/crater_morphometry/data/rayed_craters/rayed_craters_centroids_kaguya-less-than-7500m.shp'"
   ]
  },
  {
   "cell_type": "code",
   "execution_count": null,
   "id": "03ebddc7-86b5-4c61-aae5-0427e0376c60",
   "metadata": {},
   "outputs": [],
   "source": [
    "rim_detection.update_crater_centres(shp_folder, out_shapefile, old_crater_centres, replace_crs=False)"
   ]
  },
  {
   "cell_type": "markdown",
   "id": "46e6bdcc-669b-47c9-b4d7-929fc8679a01",
   "metadata": {},
   "source": [
    "## Update the DEM, and the 2.0R-3.0R and 0.9R-1.1R detrendings\n",
    "To have the right DEMs"
   ]
  },
  {
   "cell_type": "code",
   "execution_count": 14,
   "id": "88b53264-ac81-42d3-9f53-eeea9348e11f",
   "metadata": {},
   "outputs": [],
   "source": [
    "location_of_craters = \"/media/nilscp/pampa/ANALYSIS/2022/shapefiles/RayedCraters/final_crater_center/global/rayed_craters_centroids_kaguya-less-than-7500m-manually-checked.shp\"\n",
    "dem = \"/media/nilscp/pampa/Kaguya/SLDEM2013/SLDEM2013.vrt\"\n",
    "orthoimage = \"/media/nilscp/pampa/Kaguya/TCO_MAP_02/TCO_MAP_02.vrt\"\n",
    "clip_distance = 6.0\n",
    "output_dir = \"/media/nilscp/pampa/ANALYSIS/2022/SLDEM2013_RayedCraters/\"\n",
    "output_dir_ortho = \"/media/nilscp/pampa/ANALYSIS/2022/TCOMAP_RayedCraters/\"\n",
    "identifier_dem = \"Kaguya_SLDEM2013\"\n",
    "identifier_orthoimage = \"Kaguya_TCOMAP_02\"\n",
    "shp_folder = \"/media/nilscp/pampa/ANALYSIS/2022/shapefiles/RayedCraters/final_crater_center\""
   ]
  },
  {
   "cell_type": "code",
   "execution_count": 10,
   "id": "86f8fd8c-fd59-403e-872c-59122f64188f",
   "metadata": {},
   "outputs": [
    {
     "name": "stderr",
     "output_type": "stream",
     "text": [
      "100%|██████████| 1256/1256 [1:19:45<00:00,  3.81s/it]\n"
     ]
    }
   ],
   "source": [
    "DEM_extraction.clip_raster_to_crater(location_of_craters, dem, clip_distance, output_dir, shp_folder, identifier_dem, craterID = None)"
   ]
  },
  {
   "cell_type": "code",
   "execution_count": 11,
   "id": "c8076bbd-975e-4690-9661-61f843574bfe",
   "metadata": {},
   "outputs": [
    {
     "name": "stderr",
     "output_type": "stream",
     "text": [
      "100%|██████████| 1256/1256 [1:02:31<00:00,  2.99s/it]\n"
     ]
    }
   ],
   "source": [
    "DEM_extraction.clip_raster_to_crater(location_of_craters, orthoimage, clip_distance, output_dir_ortho, shp_folder, identifier_orthoimage, craterID = None)"
   ]
  },
  {
   "cell_type": "code",
   "execution_count": 18,
   "id": "2d34ca50-c642-4c3f-8ef5-42ec5257b40a",
   "metadata": {},
   "outputs": [],
   "source": [
    "scaling_factor = 1.0\n",
    "dem_folder = \"/media/nilscp/pampa/ANALYSIS/2022/SLDEM2013_RayedCraters/\"\n",
    "dem_detrended_folder = \"/media/nilscp/pampa/ANALYSIS/2022/SLDEM2013_RayedCraters_detrended/\"\n",
    "craterID = None\n",
    "overwrite=True\n",
    "shp_folder = \"/media/nilscp/pampa/ANALYSIS/2022/shapefiles/RayedCraters/final_crater_center\""
   ]
  },
  {
   "cell_type": "code",
   "execution_count": 13,
   "id": "38869231-4698-44b1-9f73-0677c20cdff6",
   "metadata": {},
   "outputs": [
    {
     "name": "stderr",
     "output_type": "stream",
     "text": [
      "100%|██████████| 1256/1256 [28:29<00:00,  1.36s/it] \n"
     ]
    }
   ],
   "source": [
    "rim_detection.generated_detrended_dem(location_of_craters, scaling_factor, dem_folder, shp_folder, dem_detrended_folder, craterID=None, overwrite=overwrite)"
   ]
  },
  {
   "cell_type": "code",
   "execution_count": 19,
   "id": "7ca86de6-3397-4030-b192-8a7368209391",
   "metadata": {},
   "outputs": [
    {
     "name": "stderr",
     "output_type": "stream",
     "text": [
      "100%|██████████| 1/1 [00:00<00:00,  1.95it/s]\n"
     ]
    }
   ],
   "source": [
    "rim_detection.generated_detrended_dem(location_of_craters, scaling_factor, dem_folder, shp_folder, dem_detrended_folder, craterID='crater0959', overwrite=overwrite)"
   ]
  },
  {
   "cell_type": "markdown",
   "id": "a41d4110-de18-41f5-9924-a09aa41152ac",
   "metadata": {},
   "source": [
    "## Calculate morphometrical parameters from the second ellipse (of the second run)\n",
    "- load ellipse in pixel coordinates (can also give the possibility to use points and not the ellipse!)\n",
    "- create an ellipse with 2.0 r\n",
    "- I could add the possibility to add manually an ellipse for the few cases where the ellipse is not representing well the rim of the crater"
   ]
  },
  {
   "cell_type": "code",
   "execution_count": null,
   "id": "c16501d8-f3cf-45b7-b469-c08616951d81",
   "metadata": {},
   "outputs": [],
   "source": [
    "location_of_craters =  \"/media/nilscp/pampa/ANALYSIS/2022/shapefiles/RayedCraters/final_crater_center/global/rayed_craters_centroids_kaguya-less-than-7500m-manually-checked.shp\"\n",
    "shp_folder = '/media/nilscp/pampa/ANALYSIS/2022/shapefiles/RayedCraters/polygons'\n",
    "dem_folder = \"/media/nilscp/pampa/ANALYSIS/2022/SLDEM2013_RayedCraters_detrended/\"\n",
    "suffix = '_Kaguya_SLDEM2013_detrended.tif'\n",
    "prefix = 'crater'\n",
    "craterID=None"
   ]
  },
  {
   "cell_type": "code",
   "execution_count": null,
   "id": "87704419-3676-4b47-a938-ac9b78f9b2cf",
   "metadata": {},
   "outputs": [],
   "source": []
  }
 ],
 "metadata": {
  "kernelspec": {
   "display_name": "Python 3",
   "language": "python",
   "name": "python3"
  },
  "language_info": {
   "codemirror_mode": {
    "name": "ipython",
    "version": 3
   },
   "file_extension": ".py",
   "mimetype": "text/x-python",
   "name": "python",
   "nbconvert_exporter": "python",
   "pygments_lexer": "ipython3",
   "version": "3.8.0"
  }
 },
 "nbformat": 4,
 "nbformat_minor": 5
}
