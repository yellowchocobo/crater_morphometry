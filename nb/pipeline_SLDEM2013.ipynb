{
 "cells": [
  {
   "cell_type": "code",
   "execution_count": 3,
   "id": "3790a897-5fc5-4d6a-a255-7a37cb913adf",
   "metadata": {},
   "outputs": [
    {
     "name": "stderr",
     "output_type": "stream",
     "text": [
      "/home/nilscp/.pyenv/versions/3.8.0/envs/computer-vision/lib/python3.8/site-packages/geopandas/_compat.py:106: UserWarning: The Shapely GEOS version (3.8.0-CAPI-1.13.1 ) is incompatible with the GEOS version PyGEOS was compiled with (3.10.1-CAPI-1.16.0). Conversions between both will be slow.\n",
      "  warnings.warn(\n"
     ]
    }
   ],
   "source": [
    "import numpy as np\n",
    "import sys\n",
    "\n",
    "sys.path.append(\"/home/nilscp/GIT/crater_morphometry\")\n",
    "import geomorphometry\n",
    "from preprocessing import DEM_extraction\n",
    "from rim_detection import rim_detection\n",
    "from pathlib import Path"
   ]
  },
  {
   "cell_type": "markdown",
   "id": "f829c628-5993-4d7a-a585-c386abc5896b",
   "metadata": {},
   "source": [
    "## Clip DEM and visible image for rayed craters (SLDEM2013)"
   ]
  },
  {
   "cell_type": "code",
   "execution_count": null,
   "id": "35e366a0-4c38-4303-9d97-a1e37c0aee48",
   "metadata": {},
   "outputs": [],
   "source": [
    "location_of_craters = '/home/nilscp/GIT/crater_morphometry/data/rayed_craters/rayed_craters_centroids_kaguya.shp'\n",
    "dem = \"/media/nilscp/pampa/Kaguya/SLDEM2013/SLDEM2013.vrt\"\n",
    "orthoimage = \"/media/nilscp/pampa/Kaguya/TCO_MAP_02/TCO_MAP_02.vrt\"\n",
    "clip_distance = 8.0\n",
    "output_dir = \"/media/nilscp/pampa/ANALYSIS/2022/SLDEM2013_RayedCraters/\"\n",
    "output_dir_ortho = \"/media/nilscp/pampa/ANALYSIS/2022/TCOMAP_RayedCraters/\"\n",
    "identifier_dem = \"Kaguya_SLDEM2013\"\n",
    "identifier_orthoimage = \"Kaguya_TCOMAP_02\""
   ]
  },
  {
   "cell_type": "code",
   "execution_count": null,
   "id": "30df0a7f-7d94-4d56-adf5-ab577bbce2f5",
   "metadata": {},
   "outputs": [],
   "source": [
    "DEM_extraction.clip_raster_to_crater(location_of_craters, dem, clip_distance,\n",
    "                          output_dir, identifier_dem, craterID = None)\n",
    "                          \n",
    "DEM_extraction.clip_raster_to_crater(location_of_craters, orthoimage, clip_distance, \n",
    "output_dir_ortho, identifier_orthoimage, craterID = None)"
   ]
  },
  {
   "cell_type": "markdown",
   "id": "6cb6d053-bdd7-437a-9fff-ef76a55bf1d5",
   "metadata": {},
   "source": [
    "## Clip DEM and visible image for coldspots (SLDEM2013)"
   ]
  },
  {
   "cell_type": "code",
   "execution_count": null,
   "id": "cbebdec5-be62-4dc1-969d-76836f0ab2a1",
   "metadata": {},
   "outputs": [],
   "source": [
    "location_of_craters = '/home/nilscp/QGIS/Moon/Williams2018/coldspots_larger_than_250m_EQC.shp'\n",
    "dem = \"/media/nilscp/pampa/Kaguya/SLDEM2013/SLDEM2013.vrt\"\n",
    "orthoimage = \"/media/nilscp/pampa/Kaguya/TCO_MAP_02/TCO_MAP_02.vrt\"\n",
    "clip_distance = 16.0\n",
    "output_dir = \"/media/nilscp/pampa/ANALYSIS/2022/SLDEM2013_ColdSpots/\"\n",
    "output_dir_ortho = \"/media/nilscp/pampa/ANALYSIS/2022/TCOMAP_ColdSpots/\"\n",
    "identifier_dem = \"Kaguya_SLDEM2013\"\n",
    "identifier_orthoimage = \"Kaguya_TCOMAP_02\""
   ]
  },
  {
   "cell_type": "code",
   "execution_count": null,
   "id": "8799ca74-11d9-4281-bc7b-aedfb8ad36ab",
   "metadata": {},
   "outputs": [],
   "source": [
    "DEM_extraction.clip_raster_to_crater(location_of_craters, dem, clip_distance,\n",
    "                          output_dir, identifier_dem, craterID = None)\n",
    "                          \n",
    "DEM_extraction.clip_raster_to_crater(location_of_craters, orthoimage, clip_distance, \n",
    "output_dir_ortho, identifier_orthoimage, craterID = None)"
   ]
  },
  {
   "cell_type": "markdown",
   "id": "63d24d93-c771-4f8b-acfe-287a6f20da7a",
   "metadata": {},
   "source": [
    "## Detect rim composite, and update the centre of the crater (Rayed craters)"
   ]
  },
  {
   "cell_type": "code",
   "execution_count": null,
   "id": "1c978563-b854-423e-bc37-5b8edfc912b6",
   "metadata": {},
   "outputs": [],
   "source": [
    "location_of_craters = '/home/nilscp/GIT/crater_morphometry/data/rayed_craters/rayed_craters_centroids_kaguya.shp'\n",
    "dem_folder = '/home/nilscp/tmp/fresh_impact_craters/SLDEM2015_RayedCraters/'\n",
    "shp_folder = '/media/nilscp/pampa/ANALYSIS/2022/shapefiles/RayedCraters/'\n",
    "scaling_factor = 1.0\n",
    "suffix = '_Kaguya_SLDEM2013.tif'"
   ]
  },
  {
   "cell_type": "code",
   "execution_count": null,
   "id": "7c218883-db5e-4ba6-854d-2f349fdfd328",
   "metadata": {},
   "outputs": [],
   "source": [
    "rim_detection.main(location_of_craters, dem_folder, shp_folder,  scaling_factor,\n",
    "         suffix, craterID = None)"
   ]
  },
  {
   "cell_type": "markdown",
   "id": "be1dff9a-e4ac-4599-9512-347583cfbe5e",
   "metadata": {},
   "source": [
    "## Detect rim composite, and update the centre of the crater (Coldspots)"
   ]
  },
  {
   "cell_type": "code",
   "execution_count": null,
   "id": "516d1c73-e3c8-44ae-b0a9-d243dffa1601",
   "metadata": {},
   "outputs": [],
   "source": [
    "location_of_craters = '/home/nilscp/GIT/crater_morphometry/data/rayed_craters/rayed_craters_centroids_kaguya.shp'\n",
    "dem_folder = '/home/nilscp/tmp/fresh_impact_craters/SLDEM2015_RayedCraters/'\n",
    "shp_folder = '/media/nilscp/pampa/ANALYSIS/2022/shapefiles/RayedCraters/'\n",
    "scaling_factor = 1.0\n",
    "suffix = '_Kaguya_SLDEM2013.tif'"
   ]
  },
  {
   "cell_type": "code",
   "execution_count": null,
   "id": "79beb078-9016-4ab1-9b2a-ec69fb689f0c",
   "metadata": {},
   "outputs": [],
   "source": [
    "rim_detection.main(location_of_craters, dem_folder, shp_folder,  scaling_factor,\n",
    "         suffix, craterID = None)"
   ]
  },
  {
   "cell_type": "markdown",
   "id": "7e4c89bd-ecb9-41aa-85cd-a78909503f3d",
   "metadata": {},
   "source": [
    "## Update centre of craters\n",
    "- Merge the centres of craters together\n",
    "- Merge the polygons of rim composite together (for a faster inspection of results). I think I will here \n",
    "- If this step is not working properly for a crater, its id is written down (most likely due to too low resolution of the DEM, or very special conditions)"
   ]
  },
  {
   "cell_type": "code",
   "execution_count": null,
   "id": "7b07520b-12d6-44b5-beca-7076ce1bfa4a",
   "metadata": {},
   "outputs": [],
   "source": []
  },
  {
   "cell_type": "markdown",
   "id": "46e6bdcc-669b-47c9-b4d7-929fc8679a01",
   "metadata": {},
   "source": [
    "## Update the DEM, and the 2.0R-3.0R and 0.9R-1.1R detrendings\n",
    "To have the right DEMs"
   ]
  },
  {
   "cell_type": "code",
   "execution_count": 2,
   "id": "88b53264-ac81-42d3-9f53-eeea9348e11f",
   "metadata": {},
   "outputs": [],
   "source": []
  },
  {
   "cell_type": "markdown",
   "id": "ef62d6a3-402f-43fc-b1da-074e35c05d8e",
   "metadata": {},
   "source": [
    "## Second run to detect rim composite, and update the centre of the crater"
   ]
  },
  {
   "cell_type": "code",
   "execution_count": null,
   "id": "13f8e7a5-67f1-48a9-8013-2dfca37f9858",
   "metadata": {},
   "outputs": [],
   "source": []
  },
  {
   "cell_type": "markdown",
   "id": "a41d4110-de18-41f5-9924-a09aa41152ac",
   "metadata": {},
   "source": [
    "## Calculate morphometrical parameters from the second ellipse (of the second run)\n",
    "- load ellipse in pixel coordinates (can also give the possibility to use points and not the ellipse!)\n",
    "- create an ellipse with 2.0 r\n",
    "- I could add the possibility to add manually an ellipse for the few cases where the ellipse is not representing well the rim of the crater"
   ]
  },
  {
   "cell_type": "code",
   "execution_count": null,
   "id": "c16501d8-f3cf-45b7-b469-c08616951d81",
   "metadata": {},
   "outputs": [],
   "source": []
  },
  {
   "cell_type": "code",
   "execution_count": null,
   "id": "87704419-3676-4b47-a938-ac9b78f9b2cf",
   "metadata": {},
   "outputs": [],
   "source": []
  }
 ],
 "metadata": {
  "kernelspec": {
   "display_name": "Python 3",
   "language": "python",
   "name": "python3"
  },
  "language_info": {
   "codemirror_mode": {
    "name": "ipython",
    "version": 3
   },
   "file_extension": ".py",
   "mimetype": "text/x-python",
   "name": "python",
   "nbconvert_exporter": "python",
   "pygments_lexer": "ipython3",
   "version": "3.8.0"
  }
 },
 "nbformat": 4,
 "nbformat_minor": 5
}
