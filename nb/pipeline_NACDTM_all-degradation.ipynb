{
 "cells": [
  {
   "cell_type": "code",
   "execution_count": 1,
   "id": "3790a897-5fc5-4d6a-a255-7a37cb913adf",
   "metadata": {},
   "outputs": [
    {
     "name": "stderr",
     "output_type": "stream",
     "text": [
      "/home/nilscp/.pyenv/versions/3.8.0/envs/computer-vision/lib/python3.8/site-packages/geopandas/_compat.py:106: UserWarning: The Shapely GEOS version (3.8.0-CAPI-1.13.1 ) is incompatible with the GEOS version PyGEOS was compiled with (3.10.1-CAPI-1.16.0). Conversions between both will be slow.\n",
      "  warnings.warn(\n"
     ]
    }
   ],
   "source": [
    "import numpy as np\n",
    "import sys\n",
    "\n",
    "sys.path.append(\"/home/nilscp/GIT/crater_morphometry\")\n",
    "import geomorphometry\n",
    "from preprocessing import DEM_extraction\n",
    "from rim_detection import rim_detection\n",
    "from pathlib import Path"
   ]
  },
  {
   "cell_type": "markdown",
   "id": "024dba39-6d46-428e-bbfe-5f3155fc26d0",
   "metadata": {},
   "source": [
    "## Clip NAC DTMs"
   ]
  },
  {
   "cell_type": "code",
   "execution_count": 2,
   "id": "78163fc5-320e-4072-83c8-29f58b3567b1",
   "metadata": {},
   "outputs": [],
   "source": [
    "location_of_craters = '/home/nilscp/tmp/fresh_impact_craters/NACDTM-between-300-and-1000m/craters-pre-processed.shp'\n",
    "clip_distance = 4.0\n",
    "output_dir = \"/media/nilscp/pampa/ANALYSIS/2022/NAC_DTM/NAC_DTM/\"\n",
    "identifier_dem = \"NACDTaM\"\n",
    "shp_folder = '/media/nilscp/pampa/ANALYSIS/2022/NAC_DTM/shapefiles/'"
   ]
  },
  {
   "cell_type": "code",
   "execution_count": 3,
   "id": "eaa4b895-5218-45ea-b7ff-2eb03711bd04",
   "metadata": {},
   "outputs": [
    {
     "name": "stderr",
     "output_type": "stream",
     "text": [
      "100%|██████████| 161/161 [03:37<00:00,  1.35s/it]\n"
     ]
    }
   ],
   "source": [
    "DEM_extraction.clip_rasterDTM_to_crater(location_of_craters, clip_distance, output_dir, shp_folder, identifier_dem, craterID=None)"
   ]
  },
  {
   "cell_type": "markdown",
   "id": "241d6232-7107-4f0f-89eb-052451973915",
   "metadata": {},
   "source": [
    "## Generate regional (2.0-3.0R) detrended NAC DTM"
   ]
  },
  {
   "cell_type": "code",
   "execution_count": 4,
   "id": "744d6d0c-ae18-4133-ba26-c092c0cc6816",
   "metadata": {},
   "outputs": [],
   "source": [
    "scaling_factor = 1.0\n",
    "dem_folder = \"/media/nilscp/pampa/ANALYSIS/2022/NAC_DTM/NAC_DTM/\"\n",
    "dem_detrended_folder = \"/media/nilscp/pampa/ANALYSIS/2022/NAC_DTM/NAC_DTM_detrended/\"\n",
    "craterID = None\n",
    "overwrite = True"
   ]
  },
  {
   "cell_type": "code",
   "execution_count": 5,
   "id": "38f365d7-44e4-4c0d-a151-a9ac321eaf8a",
   "metadata": {},
   "outputs": [
    {
     "name": "stderr",
     "output_type": "stream",
     "text": [
      "  0%|          | 0/161 [00:00<?, ?it/s]/home/nilscp/.pyenv/versions/3.8.0/envs/computer-vision/lib/python3.8/site-packages/numpy/lib/nanfunctions.py:1111: RuntimeWarning: Mean of empty slice\n",
      "  return np.nanmean(a, axis, out=out, keepdims=keepdims)\n",
      "/home/nilscp/.pyenv/versions/3.8.0/envs/computer-vision/lib/python3.8/site-packages/numpy/lib/nanfunctions.py:1664: RuntimeWarning: Degrees of freedom <= 0 for slice.\n",
      "  var = nanvar(a, axis=axis, dtype=dtype, out=out, ddof=ddof,\n",
      "100%|██████████| 161/161 [01:12<00:00,  2.22it/s]\n"
     ]
    }
   ],
   "source": [
    "rim_detection.generated_detrended_dem(location_of_craters, scaling_factor, dem_folder, shp_folder, dem_detrended_folder, craterID=craterID, overwrite=overwrite)"
   ]
  },
  {
   "cell_type": "markdown",
   "id": "157a2c0a-3b10-4e1e-81b0-5a87e20a3a1f",
   "metadata": {},
   "source": [
    "## The detection of the rim composite, and the following update of the crater centre\n",
    "----\n",
    "#### Note that the algorithm will not work if:\n",
    "- the centre of the crater is outside of the crater of interest\n",
    "- the resolution of the dem is too low (at least 20 cells is required along the crater radius to provide reasonable results <br>\n",
    "----\n",
    "#### It can be that the algorithm work but gives wrong results if:\n",
    "- There are large change in slopes that does not correspond to the actual change in slope associated with the rim (either very close or very far)"
   ]
  },
  {
   "cell_type": "code",
   "execution_count": 6,
   "id": "b9c8536b-1884-44d9-955f-56820496d5b5",
   "metadata": {},
   "outputs": [],
   "source": [
    "suffix = '_NACDTM_detrended.tif'"
   ]
  },
  {
   "cell_type": "code",
   "execution_count": 7,
   "id": "8146edae-3b60-4de1-ba69-9bee8c85f0b0",
   "metadata": {},
   "outputs": [
    {
     "name": "stderr",
     "output_type": "stream",
     "text": [
      "  0%|          | 0/161 [00:00<?, ?it/s]/home/nilscp/GIT/crater_morphometry/rim_detection/rim_detection.py:1033: UserWarning: Column names longer than 10 characters will be truncated when saved to ESRI Shapefile.\n",
      "  gdf.to_file(filename)\n",
      "  2%|▏         | 3/161 [00:12<11:00,  4.18s/it]"
     ]
    },
    {
     "name": "stdout",
     "output_type": "stream",
     "text": [
      "crater0216\n"
     ]
    },
    {
     "name": "stderr",
     "output_type": "stream",
     "text": [
      "  4%|▍         | 7/161 [00:34<15:03,  5.87s/it]"
     ]
    },
    {
     "name": "stdout",
     "output_type": "stream",
     "text": [
      "crater0002\n"
     ]
    },
    {
     "name": "stderr",
     "output_type": "stream",
     "text": [
      " 11%|█         | 18/161 [01:25<13:20,  5.59s/it]"
     ]
    },
    {
     "name": "stdout",
     "output_type": "stream",
     "text": [
      "crater0035\n"
     ]
    },
    {
     "name": "stderr",
     "output_type": "stream",
     "text": [
      " 12%|█▏        | 19/161 [01:35<16:33,  6.99s/it]"
     ]
    },
    {
     "name": "stdout",
     "output_type": "stream",
     "text": [
      "crater0022\n"
     ]
    },
    {
     "name": "stderr",
     "output_type": "stream",
     "text": [
      " 14%|█▎        | 22/161 [01:51<14:41,  6.34s/it]"
     ]
    },
    {
     "name": "stdout",
     "output_type": "stream",
     "text": [
      "crater0018\n"
     ]
    },
    {
     "name": "stderr",
     "output_type": "stream",
     "text": [
      " 18%|█▊        | 29/161 [02:27<13:40,  6.21s/it]"
     ]
    },
    {
     "name": "stdout",
     "output_type": "stream",
     "text": [
      "crater0034\n"
     ]
    },
    {
     "name": "stderr",
     "output_type": "stream",
     "text": [
      " 32%|███▏      | 51/161 [04:02<10:13,  5.58s/it]"
     ]
    },
    {
     "name": "stdout",
     "output_type": "stream",
     "text": [
      "crater0024\n"
     ]
    },
    {
     "name": "stderr",
     "output_type": "stream",
     "text": [
      " 37%|███▋      | 59/161 [04:45<11:56,  7.02s/it]"
     ]
    },
    {
     "name": "stdout",
     "output_type": "stream",
     "text": [
      "crater0008\n"
     ]
    },
    {
     "name": "stderr",
     "output_type": "stream",
     "text": [
      " 45%|████▍     | 72/161 [05:46<08:52,  5.98s/it]"
     ]
    },
    {
     "name": "stdout",
     "output_type": "stream",
     "text": [
      "crater0014\n"
     ]
    },
    {
     "name": "stderr",
     "output_type": "stream",
     "text": [
      " 47%|████▋     | 75/161 [06:07<10:22,  7.24s/it]"
     ]
    },
    {
     "name": "stdout",
     "output_type": "stream",
     "text": [
      "crater0029\n"
     ]
    },
    {
     "name": "stderr",
     "output_type": "stream",
     "text": [
      " 54%|█████▍    | 87/161 [07:05<08:27,  6.86s/it]"
     ]
    },
    {
     "name": "stdout",
     "output_type": "stream",
     "text": [
      "crater0025\n"
     ]
    },
    {
     "name": "stderr",
     "output_type": "stream",
     "text": [
      " 57%|█████▋    | 92/161 [07:32<07:20,  6.39s/it]"
     ]
    },
    {
     "name": "stdout",
     "output_type": "stream",
     "text": [
      "crater0028\n"
     ]
    },
    {
     "name": "stderr",
     "output_type": "stream",
     "text": [
      " 59%|█████▉    | 95/161 [07:54<08:20,  7.58s/it]"
     ]
    },
    {
     "name": "stdout",
     "output_type": "stream",
     "text": [
      "crater0010\n"
     ]
    },
    {
     "name": "stderr",
     "output_type": "stream",
     "text": [
      " 60%|█████▉    | 96/161 [07:59<07:33,  6.98s/it]"
     ]
    },
    {
     "name": "stdout",
     "output_type": "stream",
     "text": [
      "crater0019\n"
     ]
    },
    {
     "name": "stderr",
     "output_type": "stream",
     "text": [
      " 61%|██████▏   | 99/161 [08:17<07:01,  6.81s/it]"
     ]
    },
    {
     "name": "stdout",
     "output_type": "stream",
     "text": [
      "crater0023\n"
     ]
    },
    {
     "name": "stderr",
     "output_type": "stream",
     "text": [
      " 65%|██████▍   | 104/161 [08:50<07:25,  7.81s/it]"
     ]
    },
    {
     "name": "stdout",
     "output_type": "stream",
     "text": [
      "crater0027\n"
     ]
    },
    {
     "name": "stderr",
     "output_type": "stream",
     "text": [
      " 65%|██████▌   | 105/161 [09:03<08:41,  9.31s/it]"
     ]
    },
    {
     "name": "stdout",
     "output_type": "stream",
     "text": [
      "crater0026\n"
     ]
    },
    {
     "name": "stderr",
     "output_type": "stream",
     "text": [
      " 70%|███████   | 113/161 [09:37<03:35,  4.50s/it]"
     ]
    },
    {
     "name": "stdout",
     "output_type": "stream",
     "text": [
      "crater0017\n"
     ]
    },
    {
     "name": "stderr",
     "output_type": "stream",
     "text": [
      " 75%|███████▌  | 121/161 [10:26<05:19,  8.00s/it]"
     ]
    },
    {
     "name": "stdout",
     "output_type": "stream",
     "text": [
      "crater0016\n"
     ]
    },
    {
     "name": "stderr",
     "output_type": "stream",
     "text": [
      " 85%|████████▌ | 137/161 [11:50<02:51,  7.15s/it]"
     ]
    },
    {
     "name": "stdout",
     "output_type": "stream",
     "text": [
      "crater0007\n"
     ]
    },
    {
     "name": "stderr",
     "output_type": "stream",
     "text": [
      " 93%|█████████▎| 149/161 [13:03<01:44,  8.71s/it]"
     ]
    },
    {
     "name": "stdout",
     "output_type": "stream",
     "text": [
      "crater0006\n"
     ]
    },
    {
     "name": "stderr",
     "output_type": "stream",
     "text": [
      " 94%|█████████▍| 152/161 [13:33<01:35, 10.58s/it]"
     ]
    },
    {
     "name": "stdout",
     "output_type": "stream",
     "text": [
      "crater0021\n"
     ]
    },
    {
     "name": "stderr",
     "output_type": "stream",
     "text": [
      "100%|██████████| 161/161 [14:25<00:00,  5.38s/it]\n"
     ]
    }
   ],
   "source": [
    "rim_detection.main(location_of_craters, dem_detrended_folder, shp_folder, suffix, threshold_min=None, threshold_max=None , craterID = None)"
   ]
  },
  {
   "cell_type": "markdown",
   "id": "7e4c89bd-ecb9-41aa-85cd-a78909503f3d",
   "metadata": {},
   "source": [
    "## Manual check of results\n",
    "It is important to manually check if the detected rims give meaningful results. If not, the polygon can be deleted, and replace by a manually generated ellipse. This should (hopefully) not happen in many cases for fresh impact structures (<5%). However, this is likely to happen more often for degraded craters (such as the rayed crater dataset, that contains both young and old craters). For completion, we are writing down the id of the crater where a problem is detected, to understand if we can improve the rule-based detection of rim in the future. \n",
    "\n",
    "## Update centre of craters\n",
    "- Merge the centres of craters together\n",
    "\n"
   ]
  },
  {
   "cell_type": "code",
   "execution_count": 3,
   "id": "9e08cdc9-b6ee-47e0-a758-8a40b1053fbf",
   "metadata": {},
   "outputs": [],
   "source": [
    "out_shapefile = '/home/nilscp/tmp/fresh_impact_craters/NACDTM-between-300-and-1000m/craters-pre-processed-manually-checked.shp'\n",
    "shp_folder = '/media/nilscp/pampa/ANALYSIS/2022/NAC_DTM/shapefiles/polygons/'\n",
    "old_crater_centres = '/home/nilscp/tmp/fresh_impact_craters/NACDTM-between-300-and-1000m/craters-pre-processed.shp'"
   ]
  },
  {
   "cell_type": "code",
   "execution_count": null,
   "id": "7b07520b-12d6-44b5-beca-7076ce1bfa4a",
   "metadata": {},
   "outputs": [],
   "source": [
    "rim_detection.update_crater_centres(shp_folder, out_shapefile, old_crater_centres, replace_crs=False)"
   ]
  },
  {
   "cell_type": "markdown",
   "id": "46e6bdcc-669b-47c9-b4d7-929fc8679a01",
   "metadata": {},
   "source": [
    "## Update the DEM, and the 2.0R-3.0R and 0.9R-1.1R detrendings\n",
    "- decrease clip distance to 4R to divide the size of DEMs by 2 (for SLDEM2015 and SLDEM2013)\n",
    "- could be that the size of the SLDEM2013 could be decreased by moving away from float."
   ]
  },
  {
   "cell_type": "code",
   "execution_count": 8,
   "id": "88b53264-ac81-42d3-9f53-eeea9348e11f",
   "metadata": {},
   "outputs": [],
   "source": [
    "location_of_craters = '/home/nilscp/tmp/fresh_impact_craters/NACDTM-between-300-and-1000m/craters-pre-processed-manually-checked.shp'\n",
    "clip_distance = 4.0\n",
    "output_dir = \"/media/nilscp/pampa/ANALYSIS/2022/NAC_DTM/NAC_DTM/\"\n",
    "identifier_dem = \"NACDTM\"\n",
    "shp_folder = '/media/nilscp/pampa/ANALYSIS/2022/NAC_DTM/shapefiles/'"
   ]
  },
  {
   "cell_type": "code",
   "execution_count": 10,
   "id": "d2eb5522-745d-4063-83ec-9bfc60d6503e",
   "metadata": {},
   "outputs": [
    {
     "name": "stderr",
     "output_type": "stream",
     "text": [
      "100%|██████████| 139/139 [03:54<00:00,  1.69s/it]\n"
     ]
    }
   ],
   "source": [
    "DEM_extraction.clip_rasterDTM_to_crater(location_of_craters, clip_distance, output_dir, shp_folder, identifier_dem, craterID=None)"
   ]
  },
  {
   "cell_type": "markdown",
   "id": "02aa0c0f-9b75-4dd9-8d5f-1ca3dc0912a8",
   "metadata": {},
   "source": [
    "## Update the 2.0R-3.0R and 0.9R-1.1R detrendings"
   ]
  },
  {
   "cell_type": "code",
   "execution_count": 11,
   "id": "e525e41f-a9ca-4606-b776-697f80de8e04",
   "metadata": {},
   "outputs": [],
   "source": [
    "scaling_factor = 1.0\n",
    "dem_folder = \"/media/nilscp/pampa/ANALYSIS/2022/NAC_DTM/NAC_DTM/\"\n",
    "dem_detrended_folder = \"/media/nilscp/pampa/ANALYSIS/2022/NAC_DTM/NAC_DTM_detrended/\"\n",
    "craterID = None\n",
    "overwrite = True"
   ]
  },
  {
   "cell_type": "code",
   "execution_count": 12,
   "id": "fff219d9-9343-4e32-9ce3-66d3e0e8c3d5",
   "metadata": {},
   "outputs": [
    {
     "name": "stderr",
     "output_type": "stream",
     "text": [
      "  6%|▌         | 8/139 [00:03<00:59,  2.18it/s]/home/nilscp/.pyenv/versions/3.8.0/envs/computer-vision/lib/python3.8/site-packages/numpy/core/fromnumeric.py:87: RuntimeWarning: overflow encountered in reduce\n",
      "  return ufunc.reduce(obj, axis, dtype, out, **passkwargs)\n",
      "100%|██████████| 139/139 [01:12<00:00,  1.93it/s]\n"
     ]
    }
   ],
   "source": [
    "rim_detection.generated_detrended_dem(location_of_craters, scaling_factor, dem_folder, shp_folder, dem_detrended_folder, craterID=craterID, overwrite=overwrite)"
   ]
  },
  {
   "cell_type": "markdown",
   "id": "a41d4110-de18-41f5-9924-a09aa41152ac",
   "metadata": {},
   "source": [
    "## Calculate morphometrical parameters from the second ellipse, final crater centre and new detrended products\n",
    "- load ellipse in world coordinates (can also give the possibility to use points and not the ellipse!)\n",
    "- create an ellipse with 2.0 r (maybe need to modify with the -xc, yc\n",
    "\n",
    "There are a few problems by using ellipse... approximating the rim of a crater with an ellipse is totally ok, but it will always result in \"shooting\" over or under the actual position of the rim of crater. The majority of morphometric parameters (e.g., middle, upper, rim flank slope) are a bit sensitive to the exact location of the rim. I think I will try to create a function that retrieve the breaks in slope within 10% of the ellipse, and then use those few locations to extract cross sections and calculate parameters. This means that not all of the craters will have a constant number of cross-sections (512) as for ellipses. I will compare the results of those different values."
   ]
  },
  {
   "cell_type": "code",
   "execution_count": null,
   "id": "c16501d8-f3cf-45b7-b469-c08616951d81",
   "metadata": {},
   "outputs": [],
   "source": [
    "location_of_craters = '/home/nilscp/tmp/fresh_impact_craters/NACDTM-between-300-and-1000m/craters-pre-processed-manually-checked.shp'\n",
    "shp_folder = '/media/nilscp/pampa/ANALYSIS/2022/NAC_DTM/shapefiles/polygons/'\n",
    "dem_folder = \"/media/nilscp/pampa/ANALYSIS/2022/NAC_DTM/NAC_DTM_detrended/\"\n",
    "prefix = 'crater'\n",
    "suffix = '_NACDTM_detrended.tif'\n",
    "craterID=None"
   ]
  },
  {
   "cell_type": "markdown",
   "id": "eac71fe3-e194-4c3e-99b2-8060ac60589f",
   "metadata": {},
   "source": [
    "## Kaguya"
   ]
  },
  {
   "cell_type": "code",
   "execution_count": 13,
   "id": "0b03535f-2d67-4e00-9033-49f8d08cd98e",
   "metadata": {},
   "outputs": [],
   "source": [
    "location_of_craters = '/home/nilscp/tmp/fresh_impact_craters/NACDTM-between-300-and-1000m/craters-pre-processed-manually-checked.shp'\n",
    "dem = \"/media/nilscp/pampa/Kaguya/SLDEM2013/SLDEM2013.vrt\"\n",
    "orthoimage = \"/media/nilscp/pampa/Kaguya/TCO_MAP_02/TCO_MAP_02.vrt\"\n",
    "clip_distance = 16.0\n",
    "output_dir = \"/media/nilscp/pampa/ANALYSIS/2022/NAC_DTM/SLDEM2013/\"\n",
    "output_dir_ortho = \"/media/nilscp/pampa/ANALYSIS/2022/NAC_DTM/TCOMAP/\"\n",
    "identifier_dem = \"Kaguya_SLDEM2013\"\n",
    "identifier_orthoimage = \"Kaguya_TCOMAP_02\"\n",
    "shp_folder = '/media/nilscp/pampa/ANALYSIS/2022/NAC_DTM/shapefiles/'"
   ]
  },
  {
   "cell_type": "code",
   "execution_count": 14,
   "id": "a93060d7-3502-4703-bb90-165c55b06b26",
   "metadata": {},
   "outputs": [
    {
     "name": "stderr",
     "output_type": "stream",
     "text": [
      "100%|██████████| 139/139 [07:43<00:00,  3.33s/it]\n"
     ]
    }
   ],
   "source": [
    "DEM_extraction.clip_raster_to_crater(location_of_craters, dem, clip_distance, output_dir, shp_folder, identifier_dem, craterID = None)"
   ]
  },
  {
   "cell_type": "code",
   "execution_count": 15,
   "id": "2240e45c-81ad-49e6-a793-8f6de30330fd",
   "metadata": {},
   "outputs": [
    {
     "name": "stderr",
     "output_type": "stream",
     "text": [
      "100%|██████████| 139/139 [06:06<00:00,  2.64s/it]\n"
     ]
    }
   ],
   "source": [
    "DEM_extraction.clip_raster_to_crater(location_of_craters, orthoimage, clip_distance, output_dir_ortho, shp_folder, identifier_orthoimage, craterID = None)"
   ]
  },
  {
   "cell_type": "code",
   "execution_count": 16,
   "id": "3c8333bd-973a-4929-a151-dd0e59387026",
   "metadata": {},
   "outputs": [],
   "source": [
    "scaling_factor = 1.0\n",
    "dem_folder = \"/media/nilscp/pampa/ANALYSIS/2022/NAC_DTM/SLDEM2013/\"\n",
    "dem_detrended_folder = \"/media/nilscp/pampa/ANALYSIS/2022/NAC_DTM/SLDEM2013_detrended/\"\n",
    "craterID = None\n",
    "overwrite = True"
   ]
  },
  {
   "cell_type": "code",
   "execution_count": 17,
   "id": "870ce952-2bc8-432e-b101-e0d5e568f912",
   "metadata": {},
   "outputs": [
    {
     "name": "stderr",
     "output_type": "stream",
     "text": [
      "100%|██████████| 139/139 [02:26<00:00,  1.05s/it]\n"
     ]
    }
   ],
   "source": [
    "rim_detection.generated_detrended_dem(location_of_craters, scaling_factor, dem_folder, shp_folder, dem_detrended_folder, craterID=craterID, overwrite=overwrite)"
   ]
  },
  {
   "cell_type": "markdown",
   "id": "9c4bc39f-c3d0-4783-872b-44533299d8b8",
   "metadata": {},
   "source": [
    "## Let's copy polygons, there are no shifts between... and it's just to look at the depth..."
   ]
  },
  {
   "cell_type": "code",
   "execution_count": 22,
   "id": "fa17aaac-f6a6-45f9-a2d0-c7f31b771383",
   "metadata": {},
   "outputs": [],
   "source": [
    "import geopandas as gpd\n",
    "import shutil"
   ]
  },
  {
   "cell_type": "code",
   "execution_count": 20,
   "id": "82c376e7-3797-42f1-b96e-8e88d90dc9f5",
   "metadata": {},
   "outputs": [],
   "source": [
    "input_folder = Path(\"/media/nilscp/pampa/ANALYSIS/2022/NAC_DTM/shapefiles/polygons\")\n",
    "desti_folder = Path(\"/media/nilscp/pampa/ANALYSIS/2022/NAC_DTM/shapefiles/polygons_kaguya\")\n",
    "input_txt_str = \"_NACDTM_detrended_ellipse_candidate2_polygon\"\n",
    "desti_txt_str = \"_Kaguya_SLDEM2013_detrended_ellipse_candidate2_polygon\"\n",
    "gdf = gpd.read_file(location_of_craters)    "
   ]
  },
  {
   "cell_type": "code",
   "execution_count": 23,
   "id": "e1ee133b-b6b1-4366-a2f7-431d595f0e2f",
   "metadata": {},
   "outputs": [],
   "source": [
    "for i, row in gdf.iterrows():\n",
    "    tmp_files = list(input_folder.glob(row.CRATER_ID + input_txt_str + \"*\"))\n",
    "    for file in tmp_files:\n",
    "        ndesti = file.name.replace(input_txt_str, desti_txt_str)\n",
    "        ndesti = desti_folder / ndesti\n",
    "        shutil.copy(file, ndesti)"
   ]
  },
  {
   "cell_type": "code",
   "execution_count": null,
   "id": "d4cf745f-267f-4f5f-b5c4-3e41ecbb6231",
   "metadata": {},
   "outputs": [],
   "source": [
    "location_of_craters = '/home/nilscp/tmp/fresh_impact_craters/NACDTM-between-300-and-1000m/craters-pre-processed-manually-checked.shp'\n",
    "shp_folder = '/media/nilscp/pampa/ANALYSIS/2022/NAC_DTM/shapefiles/polygons_kaguya/'\n",
    "dem_folder = \"/media/nilscp/pampa/ANALYSIS/2022/NAC_DTM/SLDEM2013_detrended/\"\n",
    "prefix = 'crater'\n",
    "suffix = '_Kaguya_SLDEM2013_detrended.tif'\n",
    "craterID=None"
   ]
  }
 ],
 "metadata": {
  "kernelspec": {
   "display_name": "Python 3",
   "language": "python",
   "name": "python3"
  },
  "language_info": {
   "codemirror_mode": {
    "name": "ipython",
    "version": 3
   },
   "file_extension": ".py",
   "mimetype": "text/x-python",
   "name": "python",
   "nbconvert_exporter": "python",
   "pygments_lexer": "ipython3",
   "version": "3.8.0"
  }
 },
 "nbformat": 4,
 "nbformat_minor": 5
}
